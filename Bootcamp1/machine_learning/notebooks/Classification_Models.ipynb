{
 "cells": [
  {
   "cell_type": "code",
   "execution_count": 1,
   "metadata": {
    "colab": {
     "base_uri": "https://localhost:8080/"
    },
    "id": "Pqp9xk3JuBkG",
    "outputId": "923f8a60-639c-4510-fdf1-7168266ae3ec"
   },
   "outputs": [],
   "source": [
    "# We need the following libraries to carry out the activities\n",
    "\n",
    "import pandas as pd\n",
    "import numpy as np\n",
    "import matplotlib.pyplot as plt\n",
    "import seaborn as sns\n",
    "from collections import Counter\n",
    "\n",
    "from sklearn.model_selection import train_test_split, learning_curve, cross_val_score\n",
    "from sklearn.preprocessing import MinMaxScaler\n",
    "from sklearn.linear_model import LogisticRegression\n",
    "from sklearn.naive_bayes import GaussianNB\n",
    "from sklearn.neighbors import KNeighborsClassifier\n",
    "from sklearn.svm import SVC\n",
    "from sklearn.tree import DecisionTreeClassifier\n",
    "from sklearn.ensemble import RandomForestClassifier\n",
    "from xgboost import XGBClassifier\n",
    "from sklearn.metrics import accuracy_score, confusion_matrix, classification_report, f1_score, recall_score, precision_score, roc_auc_score\n",
    "from sklearn.dummy import DummyClassifier\n",
    "\n",
    "import warnings\n",
    "warnings.filterwarnings('ignore')"
   ]
  },
  {
   "cell_type": "markdown",
   "metadata": {
    "id": "D3Uw9bpYzvGB"
   },
   "source": [
    "## Read the data"
   ]
  },
  {
   "cell_type": "code",
   "execution_count": 2,
   "metadata": {
    "id": "V3N6z-E6zxRv"
   },
   "outputs": [],
   "source": [
    "users_data = pd.read_pickle(\"../data/users_data_cleaned.pkl\")\n",
    "\n",
    "# read the data cleaned after eda"
   ]
  },
  {
   "cell_type": "code",
   "execution_count": 3,
   "metadata": {
    "colab": {
     "base_uri": "https://localhost:8080/",
     "height": 496
    },
    "id": "UHm254aA_Vjx",
    "outputId": "7fa66104-db63-4b36-a26f-05393cb53f29"
   },
   "outputs": [
    {
     "data": {
      "text/html": [
       "<div>\n",
       "<style scoped>\n",
       "    .dataframe tbody tr th:only-of-type {\n",
       "        vertical-align: middle;\n",
       "    }\n",
       "\n",
       "    .dataframe tbody tr th {\n",
       "        vertical-align: top;\n",
       "    }\n",
       "\n",
       "    .dataframe thead th {\n",
       "        text-align: right;\n",
       "    }\n",
       "</style>\n",
       "<table border=\"1\" class=\"dataframe\">\n",
       "  <thead>\n",
       "    <tr style=\"text-align: right;\">\n",
       "      <th></th>\n",
       "      <th>user_id</th>\n",
       "      <th>number_transactions</th>\n",
       "      <th>total_amount_usd</th>\n",
       "      <th>job_management</th>\n",
       "      <th>job_technician</th>\n",
       "      <th>job_entrepreneur</th>\n",
       "      <th>job_blue-collar</th>\n",
       "      <th>job_retired</th>\n",
       "      <th>job_admin.</th>\n",
       "      <th>job_services</th>\n",
       "      <th>...</th>\n",
       "      <th>duration</th>\n",
       "      <th>campaign</th>\n",
       "      <th>pdays</th>\n",
       "      <th>previous</th>\n",
       "      <th>term_deposit</th>\n",
       "      <th>device_desktop</th>\n",
       "      <th>device_tablet</th>\n",
       "      <th>single</th>\n",
       "      <th>age_group_encoded</th>\n",
       "      <th>month_joined</th>\n",
       "    </tr>\n",
       "  </thead>\n",
       "  <tbody>\n",
       "    <tr>\n",
       "      <th>0</th>\n",
       "      <td>9231c446-cb16-4b2b-a7f7-ddfc8b25aaf6</td>\n",
       "      <td>3.0</td>\n",
       "      <td>2143.00</td>\n",
       "      <td>1</td>\n",
       "      <td>0</td>\n",
       "      <td>0</td>\n",
       "      <td>0</td>\n",
       "      <td>0</td>\n",
       "      <td>0</td>\n",
       "      <td>0</td>\n",
       "      <td>...</td>\n",
       "      <td>261</td>\n",
       "      <td>1</td>\n",
       "      <td>-1</td>\n",
       "      <td>0</td>\n",
       "      <td>False</td>\n",
       "      <td>0</td>\n",
       "      <td>0</td>\n",
       "      <td>0</td>\n",
       "      <td>4</td>\n",
       "      <td>8</td>\n",
       "    </tr>\n",
       "    <tr>\n",
       "      <th>1</th>\n",
       "      <td>bb92765a-08de-4963-b432-496524b39157</td>\n",
       "      <td>0.0</td>\n",
       "      <td>1369.42</td>\n",
       "      <td>0</td>\n",
       "      <td>1</td>\n",
       "      <td>0</td>\n",
       "      <td>0</td>\n",
       "      <td>0</td>\n",
       "      <td>0</td>\n",
       "      <td>0</td>\n",
       "      <td>...</td>\n",
       "      <td>151</td>\n",
       "      <td>1</td>\n",
       "      <td>-1</td>\n",
       "      <td>0</td>\n",
       "      <td>False</td>\n",
       "      <td>1</td>\n",
       "      <td>0</td>\n",
       "      <td>1</td>\n",
       "      <td>2</td>\n",
       "      <td>7</td>\n",
       "    </tr>\n",
       "    <tr>\n",
       "      <th>2</th>\n",
       "      <td>573de577-49ef-42b9-83da-d3cfb817b5c1</td>\n",
       "      <td>2.0</td>\n",
       "      <td>2.00</td>\n",
       "      <td>0</td>\n",
       "      <td>0</td>\n",
       "      <td>1</td>\n",
       "      <td>0</td>\n",
       "      <td>0</td>\n",
       "      <td>0</td>\n",
       "      <td>0</td>\n",
       "      <td>...</td>\n",
       "      <td>76</td>\n",
       "      <td>1</td>\n",
       "      <td>-1</td>\n",
       "      <td>0</td>\n",
       "      <td>False</td>\n",
       "      <td>0</td>\n",
       "      <td>0</td>\n",
       "      <td>0</td>\n",
       "      <td>1</td>\n",
       "      <td>6</td>\n",
       "    </tr>\n",
       "    <tr>\n",
       "      <th>3</th>\n",
       "      <td>d6b66b9d-7c8f-4257-a682-e136f640b7e3</td>\n",
       "      <td>0.0</td>\n",
       "      <td>1369.42</td>\n",
       "      <td>0</td>\n",
       "      <td>0</td>\n",
       "      <td>0</td>\n",
       "      <td>1</td>\n",
       "      <td>0</td>\n",
       "      <td>0</td>\n",
       "      <td>0</td>\n",
       "      <td>...</td>\n",
       "      <td>92</td>\n",
       "      <td>1</td>\n",
       "      <td>-1</td>\n",
       "      <td>0</td>\n",
       "      <td>False</td>\n",
       "      <td>0</td>\n",
       "      <td>1</td>\n",
       "      <td>0</td>\n",
       "      <td>3</td>\n",
       "      <td>6</td>\n",
       "    </tr>\n",
       "    <tr>\n",
       "      <th>4</th>\n",
       "      <td>fade0b20-7594-4d9a-84cd-c02f79b1b526</td>\n",
       "      <td>1.0</td>\n",
       "      <td>1.00</td>\n",
       "      <td>0</td>\n",
       "      <td>0</td>\n",
       "      <td>0</td>\n",
       "      <td>0</td>\n",
       "      <td>0</td>\n",
       "      <td>0</td>\n",
       "      <td>0</td>\n",
       "      <td>...</td>\n",
       "      <td>198</td>\n",
       "      <td>1</td>\n",
       "      <td>-1</td>\n",
       "      <td>0</td>\n",
       "      <td>False</td>\n",
       "      <td>0</td>\n",
       "      <td>0</td>\n",
       "      <td>1</td>\n",
       "      <td>1</td>\n",
       "      <td>8</td>\n",
       "    </tr>\n",
       "  </tbody>\n",
       "</table>\n",
       "<p>5 rows × 33 columns</p>\n",
       "</div>"
      ],
      "text/plain": [
       "                                user_id  number_transactions  \\\n",
       "0  9231c446-cb16-4b2b-a7f7-ddfc8b25aaf6                  3.0   \n",
       "1  bb92765a-08de-4963-b432-496524b39157                  0.0   \n",
       "2  573de577-49ef-42b9-83da-d3cfb817b5c1                  2.0   \n",
       "3  d6b66b9d-7c8f-4257-a682-e136f640b7e3                  0.0   \n",
       "4  fade0b20-7594-4d9a-84cd-c02f79b1b526                  1.0   \n",
       "\n",
       "   total_amount_usd  job_management  job_technician  job_entrepreneur  \\\n",
       "0           2143.00               1               0                 0   \n",
       "1           1369.42               0               1                 0   \n",
       "2              2.00               0               0                 1   \n",
       "3           1369.42               0               0                 0   \n",
       "4              1.00               0               0                 0   \n",
       "\n",
       "   job_blue-collar  job_retired  job_admin.  job_services  ...  duration  \\\n",
       "0                0            0           0             0  ...       261   \n",
       "1                0            0           0             0  ...       151   \n",
       "2                0            0           0             0  ...        76   \n",
       "3                1            0           0             0  ...        92   \n",
       "4                0            0           0             0  ...       198   \n",
       "\n",
       "   campaign  pdays  previous  term_deposit  device_desktop  device_tablet  \\\n",
       "0         1     -1         0         False               0              0   \n",
       "1         1     -1         0         False               1              0   \n",
       "2         1     -1         0         False               0              0   \n",
       "3         1     -1         0         False               0              1   \n",
       "4         1     -1         0         False               0              0   \n",
       "\n",
       "   single  age_group_encoded  month_joined  \n",
       "0       0                  4             8  \n",
       "1       1                  2             7  \n",
       "2       0                  1             6  \n",
       "3       0                  3             6  \n",
       "4       1                  1             8  \n",
       "\n",
       "[5 rows x 33 columns]"
      ]
     },
     "execution_count": 3,
     "metadata": {},
     "output_type": "execute_result"
    }
   ],
   "source": [
    "# preview the data\n",
    "\n",
    "users_data.head()"
   ]
  },
  {
   "cell_type": "code",
   "execution_count": 4,
   "metadata": {
    "colab": {
     "base_uri": "https://localhost:8080/"
    },
    "id": "0qOIW8i7_6lm",
    "outputId": "835a4993-bc34-4313-9988-88b7773f72d1"
   },
   "outputs": [
    {
     "data": {
      "text/plain": [
       "(45179, 33)"
      ]
     },
     "execution_count": 4,
     "metadata": {},
     "output_type": "execute_result"
    }
   ],
   "source": [
    "# check shape of data\n",
    "\n",
    "users_data.shape"
   ]
  },
  {
   "cell_type": "code",
   "execution_count": 5,
   "metadata": {
    "colab": {
     "base_uri": "https://localhost:8080/"
    },
    "id": "hjaImkCC_Y6o",
    "outputId": "3f5078e8-6991-4cfd-a1e7-a6df09e1471a"
   },
   "outputs": [
    {
     "name": "stdout",
     "output_type": "stream",
     "text": [
      "<class 'pandas.core.frame.DataFrame'>\n",
      "Int64Index: 45179 entries, 0 to 45215\n",
      "Data columns (total 33 columns):\n",
      " #   Column               Non-Null Count  Dtype  \n",
      "---  ------               --------------  -----  \n",
      " 0   user_id              45179 non-null  object \n",
      " 1   number_transactions  45179 non-null  float64\n",
      " 2   total_amount_usd     45179 non-null  float64\n",
      " 3   job_management       45179 non-null  int64  \n",
      " 4   job_technician       45179 non-null  int64  \n",
      " 5   job_entrepreneur     45179 non-null  int64  \n",
      " 6   job_blue-collar      45179 non-null  int64  \n",
      " 7   job_retired          45179 non-null  int64  \n",
      " 8   job_admin.           45179 non-null  int64  \n",
      " 9   job_services         45179 non-null  int64  \n",
      " 10  job_self-employed    45179 non-null  int64  \n",
      " 11  job_unemployed       45179 non-null  int64  \n",
      " 12  job_housemaid        45179 non-null  int64  \n",
      " 13  job_student          45179 non-null  int64  \n",
      " 14  education_tertiary   45179 non-null  int64  \n",
      " 15  education_secondary  45179 non-null  int64  \n",
      " 16  education_Unknown    45179 non-null  int64  \n",
      " 17  education_primary    45179 non-null  int64  \n",
      " 18  default              45179 non-null  bool   \n",
      " 19  housing              45179 non-null  bool   \n",
      " 20  loan                 45179 non-null  bool   \n",
      " 21  contact_cellular     45179 non-null  int64  \n",
      " 22  contact_telephone    45179 non-null  int64  \n",
      " 23  duration             45179 non-null  int64  \n",
      " 24  campaign             45179 non-null  int64  \n",
      " 25  pdays                45179 non-null  int64  \n",
      " 26  previous             45179 non-null  int64  \n",
      " 27  term_deposit         45179 non-null  bool   \n",
      " 28  device_desktop       45179 non-null  int64  \n",
      " 29  device_tablet        45179 non-null  int64  \n",
      " 30  single               45179 non-null  uint8  \n",
      " 31  age_group_encoded    45179 non-null  int8   \n",
      " 32  month_joined         45179 non-null  int64  \n",
      "dtypes: bool(4), float64(2), int64(24), int8(1), object(1), uint8(1)\n",
      "memory usage: 9.9+ MB\n"
     ]
    }
   ],
   "source": [
    "# check the structure of the data - make sure all the columns are float, into and bool (apart from user_id)\n",
    "\n",
    "users_data.info()"
   ]
  },
  {
   "cell_type": "markdown",
   "metadata": {
    "id": "KzWy1_hSzdT2"
   },
   "source": [
    "## Define the target"
   ]
  },
  {
   "cell_type": "code",
   "execution_count": 6,
   "metadata": {
    "colab": {
     "base_uri": "https://localhost:8080/"
    },
    "id": "V-aKzuX7_mN8",
    "outputId": "1af1e8b2-1133-4cba-d9a6-4be1f2479c0c"
   },
   "outputs": [
    {
     "data": {
      "text/plain": [
       "False    0.883021\n",
       "True     0.116979\n",
       "Name: term_deposit, dtype: float64"
      ]
     },
     "execution_count": 6,
     "metadata": {},
     "output_type": "execute_result"
    }
   ],
   "source": [
    "# Definition: The target variable of a dataset is the feature of a dataset about which you want to gain a deeper understanding.\n",
    "\n",
    "# Look at the distribution of term_deposit\n",
    "\n",
    "users_data.term_deposit.value_counts(normalize = True)"
   ]
  },
  {
   "cell_type": "code",
   "execution_count": 7,
   "metadata": {
    "id": "-9o2T_gQzi6-"
   },
   "outputs": [],
   "source": [
    "# The data is slightly imbalanced, with only 12% of users having churned - will oversample the data"
   ]
  },
  {
   "cell_type": "markdown",
   "metadata": {
    "id": "M5prSoGXILUv"
   },
   "source": [
    "## Split data into target and features"
   ]
  },
  {
   "cell_type": "code",
   "execution_count": 8,
   "metadata": {
    "id": "T6NBf51x4yto"
   },
   "outputs": [],
   "source": [
    "# define the target and features\n",
    "# A supervised machine learning algorithm requires both - uses historical data to uncover relationships between other features of your dataset and the target.\n",
    "\n",
    "target_data = users_data.term_deposit\n",
    "features = users_data.drop([\"user_id\", \"term_deposit\"], axis = 1)\n",
    "    "
   ]
  },
  {
   "cell_type": "markdown",
   "metadata": {
    "id": "QUCMvnPHzdY7"
   },
   "source": [
    "## Split data into train and test set"
   ]
  },
  {
   "cell_type": "code",
   "execution_count": 9,
   "metadata": {
    "id": "WRvRz1Ud-ol3"
   },
   "outputs": [],
   "source": [
    "# using this handy function from scikit-learm to split the data into a training and test dataset\n",
    "# we can adjust the test size to our needs, but it's best practise to train the model on 70 - 80% of the data\n",
    "\n",
    "X_train, X_test, y_train, y_test = train_test_split(\n",
    "                                                features, \n",
    "                                                target_data,\n",
    "                                                test_size = 0.3, \n",
    "                                                random_state = 1)\n"
   ]
  },
  {
   "cell_type": "code",
   "execution_count": 10,
   "metadata": {
    "id": "gMiTYtfFgkmu"
   },
   "outputs": [],
   "source": [
    "X_train, X_test, y_train, y_test = train_test_split(features,\n",
    "                                                    target_data,\n",
    "                                                    test_size = 0.3,\n",
    "                                                    )"
   ]
  },
  {
   "cell_type": "code",
   "execution_count": 11,
   "metadata": {
    "colab": {
     "base_uri": "https://localhost:8080/"
    },
    "id": "LIInYJ5r4zcB",
    "outputId": "e3c32d34-cf9c-4b3c-914b-f400068003af"
   },
   "outputs": [
    {
     "name": "stdout",
     "output_type": "stream",
     "text": [
      "Training Data\n",
      "(31625, 31)\n",
      "(31625,)\n"
     ]
    }
   ],
   "source": [
    "# print the shape of the training data\n",
    "\n",
    "print(\"Training Data\")\n",
    "print(X_train.shape)\n",
    "print(y_train.shape)"
   ]
  },
  {
   "cell_type": "code",
   "execution_count": 12,
   "metadata": {
    "colab": {
     "base_uri": "https://localhost:8080/"
    },
    "id": "EFXAnHsE1__U",
    "outputId": "38ba3193-06ee-49a0-9b7e-24a3ab538139"
   },
   "outputs": [
    {
     "name": "stdout",
     "output_type": "stream",
     "text": [
      "Before oversampling:  Counter({False: 27916, True: 3709})\n"
     ]
    }
   ],
   "source": [
    "# summarize class distribution\n",
    "\n",
    "print(\"Before oversampling: \", Counter(y_train))"
   ]
  },
  {
   "cell_type": "markdown",
   "metadata": {
    "id": "qZ_OI2D02INP"
   },
   "source": [
    "## Apply oversampling techniques"
   ]
  },
  {
   "cell_type": "code",
   "execution_count": 13,
   "metadata": {
    "colab": {
     "base_uri": "https://localhost:8080/"
    },
    "id": "EVSQg8Ls1628",
    "outputId": "7b60b425-0c5c-43a0-ad2c-3eff16abab46"
   },
   "outputs": [
    {
     "name": "stdout",
     "output_type": "stream",
     "text": [
      "After oversampling:  Counter({False: 27916, True: 27916})\n"
     ]
    }
   ],
   "source": [
    "# import SMOTE oversampling \n",
    "# For over-sampling techniques, SMOTE (Synthetic Minority Oversampling Technique) is considered as one of the most popular\n",
    "# and influential data sampling algorithms.\n",
    "# With SMOTE, the minority class is over-sampled by creating “synthetic” examples rather than by over-sampling with replacement\n",
    "\n",
    "from imblearn.over_sampling import SMOTE\n",
    "\n",
    "# define oversampling strategy\n",
    "SMOTE = SMOTE()\n",
    "\n",
    "# fit and apply the transform\n",
    "X_train_SMOTE, y_train_SMOTE = SMOTE.fit_resample(X_train, y_train)\n",
    "X_train_SMOTE = pd.DataFrame(X_train_SMOTE, columns = X_train.columns) # to keep dataframe structure\n",
    "\n",
    "# summarize class distribution\n",
    "print(\"After oversampling: \", Counter(y_train_SMOTE))"
   ]
  },
  {
   "cell_type": "markdown",
   "metadata": {
    "id": "gsqc_Ku38sfD"
   },
   "source": [
    "## Check distribution of test data"
   ]
  },
  {
   "cell_type": "code",
   "execution_count": 14,
   "metadata": {
    "colab": {
     "base_uri": "https://localhost:8080/"
    },
    "id": "d-HJGo5ZKC2h",
    "outputId": "472eddf3-110c-4045-edab-7637cbf6c3e0"
   },
   "outputs": [
    {
     "name": "stdout",
     "output_type": "stream",
     "text": [
      "\n",
      "Test Data\n",
      "(13554, 31)\n",
      "(13554,)\n"
     ]
    }
   ],
   "source": [
    "# print the shape of the test data - we do not oversample the test data\n",
    "\n",
    "print(\"\\nTest Data\")\n",
    "print(X_test.shape)\n",
    "print(y_test.shape)"
   ]
  },
  {
   "cell_type": "code",
   "execution_count": 15,
   "metadata": {
    "colab": {
     "base_uri": "https://localhost:8080/"
    },
    "id": "m9WMLlmHMPyY",
    "outputId": "a111b63a-b553-429a-b913-efd21f3d5634"
   },
   "outputs": [
    {
     "data": {
      "text/plain": [
       "Counter({False: 11978, True: 1576})"
      ]
     },
     "execution_count": 15,
     "metadata": {},
     "output_type": "execute_result"
    }
   ],
   "source": [
    "# check the distribution of the target \n",
    "\n",
    "Counter(y_test)"
   ]
  },
  {
   "cell_type": "markdown",
   "metadata": {
    "id": "Av7lTvpKxfPO"
   },
   "source": [
    "## Gradient Descent Based Algorithms"
   ]
  },
  {
   "cell_type": "markdown",
   "metadata": {
    "id": "tEMK5awzY1OH"
   },
   "source": [
    "## Logistic Regression"
   ]
  },
  {
   "cell_type": "markdown",
   "metadata": {
    "id": "srJBAQTmZ5GY"
   },
   "source": [
    "## Scaling the data"
   ]
  },
  {
   "cell_type": "code",
   "execution_count": 16,
   "metadata": {
    "id": "iJt8hr5xZIGn"
   },
   "outputs": [],
   "source": [
    "# Machine learning algorithms that use gradient descent as an optimization technique require data to be scaled.\n",
    "\n",
    "# One of the ways to scale the data is using data normalization with sklearn\n",
    "# fit scaler on training data \n",
    "\n",
    "norm = MinMaxScaler().fit(X_train_SMOTE)\n"
   ]
  },
  {
   "cell_type": "code",
   "execution_count": 17,
   "metadata": {
    "id": "qGTvVEgZZ1bD"
   },
   "outputs": [],
   "source": [
    "# transform training data\n",
    "X_train_norm = norm.transform(X_train_SMOTE)\n",
    "\n",
    "# transform testing dataabs\n",
    "X_test_norm = norm.transform(X_test)"
   ]
  },
  {
   "cell_type": "markdown",
   "metadata": {
    "id": "AAyWzvFwZ-YE"
   },
   "source": [
    "## Training the model"
   ]
  },
  {
   "cell_type": "code",
   "execution_count": 18,
   "metadata": {
    "id": "p7vX0Mngxf-l"
   },
   "outputs": [],
   "source": [
    "# Import the Logistic Regression model from sklearn\n",
    "\n",
    "lr = LogisticRegression()"
   ]
  },
  {
   "cell_type": "code",
   "execution_count": 19,
   "metadata": {
    "colab": {
     "base_uri": "https://localhost:8080/"
    },
    "id": "i7EMFerCJKUx",
    "outputId": "7d0fb5a3-4146-4dc6-ef8b-e0d76912c1b5"
   },
   "outputs": [
    {
     "data": {
      "text/plain": [
       "LogisticRegression()"
      ]
     },
     "execution_count": 19,
     "metadata": {},
     "output_type": "execute_result"
    }
   ],
   "source": [
    "# Fit the model on the scaled training data\n",
    "\n",
    "lr.fit(X_train_norm, y_train_SMOTE) "
   ]
  },
  {
   "cell_type": "markdown",
   "metadata": {
    "id": "t5hx9ClOdztY"
   },
   "source": [
    "## Making predictions"
   ]
  },
  {
   "cell_type": "code",
   "execution_count": 20,
   "metadata": {
    "colab": {
     "base_uri": "https://localhost:8080/"
    },
    "id": "kZjee1E0QhQb",
    "outputId": "0069ea7e-2446-41fc-9953-219ed1c32522"
   },
   "outputs": [
    {
     "name": "stdout",
     "output_type": "stream",
     "text": [
      "Counter({True: 13475, False: 79})\n"
     ]
    }
   ],
   "source": [
    "# Evaluate how well the model predicts on unseen data\n",
    "# You can make predictions on the test data or normalized data\n",
    "\n",
    "y_pred = lr.predict(X_test) \n",
    "print(Counter(y_pred))"
   ]
  },
  {
   "cell_type": "markdown",
   "metadata": {
    "id": "OkjiRUsPKwIY"
   },
   "source": [
    "## Evaluating the model"
   ]
  },
  {
   "cell_type": "code",
   "execution_count": 21,
   "metadata": {
    "colab": {
     "base_uri": "https://localhost:8080/"
    },
    "id": "CFcEcm11R8eH",
    "outputId": "b500cc16-4726-4269-91e3-1c07e16fee93"
   },
   "outputs": [
    {
     "data": {
      "text/plain": [
       "0.12210417588903645"
      ]
     },
     "execution_count": 21,
     "metadata": {},
     "output_type": "execute_result"
    }
   ],
   "source": [
    "# We will use accuracy to evaluating the model performance.\n",
    "# Very simply, accuracy is the fraction of predictions our model got right. \n",
    "\n",
    "accuracy_score(y_test, y_pred)\n",
    "\n",
    "# 12% accuracy, that's very low - let's see if tuning can improve this"
   ]
  },
  {
   "cell_type": "code",
   "execution_count": 22,
   "metadata": {
    "colab": {
     "base_uri": "https://localhost:8080/"
    },
    "id": "JP7lnhTg-Bcz",
    "outputId": "e08ed8c9-f2d5-4e03-8787-f3bc681bd499"
   },
   "outputs": [
    {
     "name": "stdout",
     "output_type": "stream",
     "text": [
      "              precision    recall  f1-score   support\n",
      "\n",
      "       False       1.00      0.01      0.01     11978\n",
      "        True       0.12      1.00      0.21      1576\n",
      "\n",
      "    accuracy                           0.12     13554\n",
      "   macro avg       0.56      0.50      0.11     13554\n",
      "weighted avg       0.90      0.12      0.04     13554\n",
      "\n"
     ]
    }
   ],
   "source": [
    "# can also print a classification report for ever model\n",
    "\n",
    "print(classification_report(y_test, y_pred))"
   ]
  },
  {
   "cell_type": "markdown",
   "metadata": {
    "id": "rO1OKYFpyn3R"
   },
   "source": [
    "### Naïve Bayes Models"
   ]
  },
  {
   "cell_type": "code",
   "execution_count": 23,
   "metadata": {
    "id": "JjthA1mNd7b3"
   },
   "outputs": [],
   "source": [
    "# Naive Bayes Model are insensitive to scaling"
   ]
  },
  {
   "cell_type": "markdown",
   "metadata": {
    "id": "pYPE_QYPeDuA"
   },
   "source": [
    "## Training the data"
   ]
  },
  {
   "cell_type": "code",
   "execution_count": 24,
   "metadata": {
    "id": "Oq519-ggy6YK"
   },
   "outputs": [],
   "source": [
    "gnb = GaussianNB()"
   ]
  },
  {
   "cell_type": "code",
   "execution_count": 25,
   "metadata": {
    "colab": {
     "base_uri": "https://localhost:8080/"
    },
    "id": "SFGkuSYqTLS2",
    "outputId": "25bd0ed9-1df9-493f-f53c-cf0a55160bbc"
   },
   "outputs": [
    {
     "data": {
      "text/plain": [
       "GaussianNB()"
      ]
     },
     "execution_count": 25,
     "metadata": {},
     "output_type": "execute_result"
    }
   ],
   "source": [
    "gnb.fit(X_train_SMOTE, y_train_SMOTE)"
   ]
  },
  {
   "cell_type": "markdown",
   "metadata": {
    "id": "jo_HBk_ieFzu"
   },
   "source": [
    "## Making predictions"
   ]
  },
  {
   "cell_type": "code",
   "execution_count": 26,
   "metadata": {
    "colab": {
     "base_uri": "https://localhost:8080/"
    },
    "id": "jLpJT56bT6xQ",
    "outputId": "2b8a5335-b577-4344-ebf0-71b9506e132f"
   },
   "outputs": [
    {
     "name": "stdout",
     "output_type": "stream",
     "text": [
      "Counter({False: 9842, True: 3712})\n"
     ]
    }
   ],
   "source": [
    "y_pred = gnb.predict(X_test)\n",
    "print(Counter(y_pred))"
   ]
  },
  {
   "cell_type": "markdown",
   "metadata": {
    "id": "sLF60UFwK4kB"
   },
   "source": [
    "## Evaluating the model "
   ]
  },
  {
   "cell_type": "code",
   "execution_count": 27,
   "metadata": {
    "colab": {
     "base_uri": "https://localhost:8080/"
    },
    "id": "27S7xxiVTLZd",
    "outputId": "bd46579d-d419-44f2-db0d-fa22f5ce1b0c"
   },
   "outputs": [
    {
     "data": {
      "text/plain": [
       "0.7076877674487236"
      ]
     },
     "execution_count": 27,
     "metadata": {},
     "output_type": "execute_result"
    }
   ],
   "source": [
    "accuracy_score(y_test, y_pred)\n",
    "\n",
    "# 67% accuracy, that's a big improvement from the untuned Logistic Regression Model"
   ]
  },
  {
   "cell_type": "code",
   "execution_count": 28,
   "metadata": {
    "colab": {
     "base_uri": "https://localhost:8080/"
    },
    "id": "satxU17--FHf",
    "outputId": "259a9fec-16e7-42e9-b2db-e68aa7fe20b6"
   },
   "outputs": [
    {
     "name": "stdout",
     "output_type": "stream",
     "text": [
      "              precision    recall  f1-score   support\n",
      "\n",
      "       False       0.91      0.75      0.82     11978\n",
      "        True       0.18      0.42      0.25      1576\n",
      "\n",
      "    accuracy                           0.71     13554\n",
      "   macro avg       0.54      0.58      0.53     13554\n",
      "weighted avg       0.82      0.71      0.75     13554\n",
      "\n"
     ]
    }
   ],
   "source": [
    "# can also print a classification report for ever model\n",
    "\n",
    "print(classification_report(y_test, y_pred))"
   ]
  },
  {
   "cell_type": "code",
   "execution_count": 29,
   "metadata": {
    "colab": {
     "base_uri": "https://localhost:8080/"
    },
    "id": "HPlCcqUmUl0o",
    "outputId": "f4fbca9c-462c-4cbd-aec3-10658dfbe7ae"
   },
   "outputs": [
    {
     "name": "stdout",
     "output_type": "stream",
     "text": [
      "Number of mislabeled points out of a total 13554 points : 3962\n"
     ]
    }
   ],
   "source": [
    "print(\"Number of mislabeled points out of a total %d points : %d\"\n",
    "       % (X_test.shape[0], (y_test != y_pred).sum()))"
   ]
  },
  {
   "cell_type": "markdown",
   "metadata": {
    "id": "LYBKFhTYXZps"
   },
   "source": [
    "### Distance Based Models"
   ]
  },
  {
   "cell_type": "markdown",
   "metadata": {
    "id": "cn03xlnsdZ2o"
   },
   "source": [
    "## Scaling the data"
   ]
  },
  {
   "cell_type": "code",
   "execution_count": 30,
   "metadata": {
    "id": "3j6tQJ-cb2es"
   },
   "outputs": [],
   "source": [
    "# Distance algorithms for e.g. KNN and SVM are most affected by the range of features. \n",
    "# This is because behind the scenes they are using distances between data points to determine their similarity.\n",
    "\n",
    "norm = MinMaxScaler().fit(X_train_SMOTE)"
   ]
  },
  {
   "cell_type": "code",
   "execution_count": 31,
   "metadata": {
    "id": "ZkdeD3_Vb7Dx"
   },
   "outputs": [],
   "source": [
    "# transform training data\n",
    "X_train_norm = norm.transform(X_train_SMOTE)\n",
    "\n",
    "# transform testing dataabs\n",
    "X_test_norm = norm.transform(X_test)"
   ]
  },
  {
   "cell_type": "markdown",
   "metadata": {
    "id": "4EKc_4XdXbtJ"
   },
   "source": [
    "## k-nearest neighbor (KNN)"
   ]
  },
  {
   "cell_type": "markdown",
   "metadata": {
    "id": "0FlItcmQezlw"
   },
   "source": [
    "## Training the data"
   ]
  },
  {
   "cell_type": "code",
   "execution_count": 32,
   "metadata": {
    "id": "0c6fHEDmeW95"
   },
   "outputs": [],
   "source": [
    "knn = KNeighborsClassifier()\n"
   ]
  },
  {
   "cell_type": "code",
   "execution_count": 33,
   "metadata": {
    "colab": {
     "base_uri": "https://localhost:8080/"
    },
    "id": "f-homENiea4b",
    "outputId": "b1cab4bd-a3d7-4dc9-cb27-e6d74cec8cc0"
   },
   "outputs": [
    {
     "data": {
      "text/plain": [
       "KNeighborsClassifier()"
      ]
     },
     "execution_count": 33,
     "metadata": {},
     "output_type": "execute_result"
    }
   ],
   "source": [
    "knn.fit(X_train_SMOTE, y_train_SMOTE)"
   ]
  },
  {
   "cell_type": "markdown",
   "metadata": {
    "id": "C4oGhDYAe3HX"
   },
   "source": [
    "## Making predictions"
   ]
  },
  {
   "cell_type": "code",
   "execution_count": 34,
   "metadata": {
    "colab": {
     "base_uri": "https://localhost:8080/"
    },
    "id": "t3gRMDspeh3E",
    "outputId": "2fd8edc1-3286-4cde-f324-f34d5f5f7062"
   },
   "outputs": [
    {
     "name": "stdout",
     "output_type": "stream",
     "text": [
      "Counter({False: 9855, True: 3699})\n"
     ]
    }
   ],
   "source": [
    "y_pred = knn.predict(X_test)\n",
    "print(Counter(y_pred))"
   ]
  },
  {
   "cell_type": "markdown",
   "metadata": {
    "id": "B-MBuuF7K72k"
   },
   "source": [
    "## Evaluating the model "
   ]
  },
  {
   "cell_type": "code",
   "execution_count": 35,
   "metadata": {
    "colab": {
     "base_uri": "https://localhost:8080/"
    },
    "id": "ipf97DhserZR",
    "outputId": "05ef9254-d080-4357-b8e9-15a5cee2d862"
   },
   "outputs": [
    {
     "data": {
      "text/plain": [
       "0.7585214696768482"
      ]
     },
     "execution_count": 35,
     "metadata": {},
     "output_type": "execute_result"
    }
   ],
   "source": [
    "accuracy_score(y_test, y_pred)"
   ]
  },
  {
   "cell_type": "code",
   "execution_count": 36,
   "metadata": {
    "colab": {
     "base_uri": "https://localhost:8080/"
    },
    "id": "DHcDLYzL-GY3",
    "outputId": "9acf1062-cf5b-4b28-de2d-1177393cd8c3"
   },
   "outputs": [
    {
     "name": "stdout",
     "output_type": "stream",
     "text": [
      "              precision    recall  f1-score   support\n",
      "\n",
      "       False       0.94      0.77      0.85     11978\n",
      "        True       0.27      0.64      0.38      1576\n",
      "\n",
      "    accuracy                           0.76     13554\n",
      "   macro avg       0.61      0.70      0.61     13554\n",
      "weighted avg       0.86      0.76      0.80     13554\n",
      "\n"
     ]
    }
   ],
   "source": [
    "# can also print a classification report for ever model\n",
    "\n",
    "print(classification_report(y_test, y_pred))"
   ]
  },
  {
   "cell_type": "markdown",
   "metadata": {
    "id": "SgekDbycy62j"
   },
   "source": [
    "### Decision Trees and Ensemble Models\n"
   ]
  },
  {
   "cell_type": "markdown",
   "metadata": {
    "id": "96DWJfxdbGcs"
   },
   "source": [
    "Tree-based algorithms are fairly insensitive to the scale of the features. A decision tree is only splitting a node based on a single feature. This split on a feature is not influenced by other features."
   ]
  },
  {
   "cell_type": "markdown",
   "metadata": {
    "id": "IhNosjFUTYUX"
   },
   "source": [
    "## Decision Tree\n"
   ]
  },
  {
   "cell_type": "markdown",
   "metadata": {
    "id": "DVx4jRd9gRgd"
   },
   "source": [
    "## Training the data"
   ]
  },
  {
   "cell_type": "code",
   "execution_count": 37,
   "metadata": {
    "id": "ekWkr9qEy_xT"
   },
   "outputs": [],
   "source": [
    "clf_tree = DecisionTreeClassifier()"
   ]
  },
  {
   "cell_type": "code",
   "execution_count": 38,
   "metadata": {
    "colab": {
     "base_uri": "https://localhost:8080/"
    },
    "id": "w2HcR9OKgEBa",
    "outputId": "77a4d8be-f717-456c-acea-0a207bcf1f39"
   },
   "outputs": [
    {
     "data": {
      "text/plain": [
       "DecisionTreeClassifier()"
      ]
     },
     "execution_count": 38,
     "metadata": {},
     "output_type": "execute_result"
    }
   ],
   "source": [
    "clf_tree.fit(X_train_SMOTE, y_train_SMOTE)"
   ]
  },
  {
   "cell_type": "markdown",
   "metadata": {
    "id": "4UEVrk6OgS15"
   },
   "source": [
    "## Making predictions"
   ]
  },
  {
   "cell_type": "code",
   "execution_count": 39,
   "metadata": {
    "colab": {
     "base_uri": "https://localhost:8080/"
    },
    "id": "LXlM9vIugUqA",
    "outputId": "c25bb777-ea35-49d4-cbfb-4bdd47f86b23"
   },
   "outputs": [
    {
     "name": "stdout",
     "output_type": "stream",
     "text": [
      "Counter({False: 11699, True: 1855})\n"
     ]
    }
   ],
   "source": [
    "y_pred = clf_tree.predict(X_test)\n",
    "print(Counter(y_pred))"
   ]
  },
  {
   "cell_type": "markdown",
   "metadata": {
    "id": "x8Ul4rz7K-y0"
   },
   "source": [
    "## Evaluating the model "
   ]
  },
  {
   "cell_type": "code",
   "execution_count": 40,
   "metadata": {
    "colab": {
     "base_uri": "https://localhost:8080/"
    },
    "id": "K-VNn5lfgWCT",
    "outputId": "a58d0af7-1397-4078-f256-2628baeb619e"
   },
   "outputs": [
    {
     "data": {
      "text/plain": [
       "0.83377600708278"
      ]
     },
     "execution_count": 40,
     "metadata": {},
     "output_type": "execute_result"
    }
   ],
   "source": [
    "accuracy_score(y_test, y_pred)\n",
    "\n",
    "# Let's see if using ensemble methods e.g. Random Forest and XGBoost improves the accuracy"
   ]
  },
  {
   "cell_type": "code",
   "execution_count": 41,
   "metadata": {
    "colab": {
     "base_uri": "https://localhost:8080/"
    },
    "id": "7OSJs2ho-I0r",
    "outputId": "4da7cbe1-c441-418e-d1a1-f2d0541b23fe"
   },
   "outputs": [
    {
     "name": "stdout",
     "output_type": "stream",
     "text": [
      "              precision    recall  f1-score   support\n",
      "\n",
      "       False       0.92      0.89      0.90     11978\n",
      "        True       0.32      0.37      0.34      1576\n",
      "\n",
      "    accuracy                           0.83     13554\n",
      "   macro avg       0.62      0.63      0.62     13554\n",
      "weighted avg       0.85      0.83      0.84     13554\n",
      "\n"
     ]
    }
   ],
   "source": [
    "# can also print a classification report for ever model\n",
    "\n",
    "print(classification_report(y_test, y_pred))"
   ]
  },
  {
   "cell_type": "code",
   "execution_count": 42,
   "metadata": {
    "colab": {
     "base_uri": "https://localhost:8080/",
     "height": 594
    },
    "id": "E4F1pYYn8HTx",
    "outputId": "0bc82f2c-d26b-4cc5-ac26-30f77e48c789"
   },
   "outputs": [
    {
     "data": {
      "image/png": "[encoded data removed]",
      "text/plain": [
       "<Figure size 1800x1440 with 1 Axes>"
      ]
     },
     "metadata": {
      "needs_background": "light"
     },
     "output_type": "display_data"
    }
   ],
   "source": [
    "# just for demoing\n",
    "\n",
    "from sklearn import tree\n",
    "\n",
    "fig = plt.figure(figsize=(25 , 20))\n",
    "_ = tree.plot_tree(clf_tree, \n",
    "                   feature_names = list(X_train.columns),  \n",
    "                   class_names = 'term_deposit',\n",
    "                   max_depth = 2,\n",
    "                   filled = True)"
   ]
  },
  {
   "cell_type": "markdown",
   "metadata": {
    "id": "BN6CIxCnWN9B"
   },
   "source": [
    "## Random Forest"
   ]
  },
  {
   "cell_type": "markdown",
   "metadata": {
    "id": "twj9nwaudi6I"
   },
   "source": [
    "## Training the model"
   ]
  },
  {
   "cell_type": "code",
   "execution_count": 43,
   "metadata": {
    "id": "lQKsWBf6VyHg"
   },
   "outputs": [],
   "source": [
    "# Random forest is an ensemble of decision tree algorithms. \n",
    "# It is an extension of bootstrap aggregation (bagging) of decision trees.\n",
    "\n",
    "rf = RandomForestClassifier()"
   ]
  },
  {
   "cell_type": "code",
   "execution_count": 44,
   "metadata": {
    "colab": {
     "base_uri": "https://localhost:8080/"
    },
    "id": "PeofAxnsWCFe",
    "outputId": "3ae12fde-e8e4-48e0-e645-e4972c9ca278"
   },
   "outputs": [
    {
     "data": {
      "text/plain": [
       "RandomForestClassifier()"
      ]
     },
     "execution_count": 44,
     "metadata": {},
     "output_type": "execute_result"
    }
   ],
   "source": [
    "rf.fit(X_train_SMOTE, y_train_SMOTE)"
   ]
  },
  {
   "cell_type": "markdown",
   "metadata": {
    "id": "hdVf1EwndpgE"
   },
   "source": [
    "## Making predictions"
   ]
  },
  {
   "cell_type": "code",
   "execution_count": 45,
   "metadata": {
    "colab": {
     "base_uri": "https://localhost:8080/"
    },
    "id": "FUSBSEG7WE0P",
    "outputId": "e47d4eb9-1001-499e-c48f-bda867bd3a37"
   },
   "outputs": [
    {
     "name": "stdout",
     "output_type": "stream",
     "text": [
      "Counter({False: 12511, True: 1043})\n"
     ]
    }
   ],
   "source": [
    "y_pred = rf.predict(X_test)\n",
    "print(Counter(y_pred))"
   ]
  },
  {
   "cell_type": "markdown",
   "metadata": {
    "id": "q-5B6j47LAye"
   },
   "source": [
    "## Evaluating the model "
   ]
  },
  {
   "cell_type": "code",
   "execution_count": 46,
   "metadata": {
    "colab": {
     "base_uri": "https://localhost:8080/"
    },
    "id": "NWgTc3f7WHuI",
    "outputId": "115048cf-8011-44ec-cd63-5879bbb5c69b"
   },
   "outputs": [
    {
     "data": {
      "text/plain": [
       "0.8860115095174856"
      ]
     },
     "execution_count": 46,
     "metadata": {},
     "output_type": "execute_result"
    }
   ],
   "source": [
    "accuracy_score(y_test, y_pred)\n"
   ]
  },
  {
   "cell_type": "code",
   "execution_count": 47,
   "metadata": {
    "colab": {
     "base_uri": "https://localhost:8080/"
    },
    "id": "HCNPoU_T-Pgq",
    "outputId": "606fa4cc-7d53-4199-ee64-6655c061167e"
   },
   "outputs": [
    {
     "name": "stdout",
     "output_type": "stream",
     "text": [
      "              precision    recall  f1-score   support\n",
      "\n",
      "       False       0.92      0.96      0.94     11978\n",
      "        True       0.51      0.34      0.41      1576\n",
      "\n",
      "    accuracy                           0.89     13554\n",
      "   macro avg       0.72      0.65      0.67     13554\n",
      "weighted avg       0.87      0.89      0.88     13554\n",
      "\n"
     ]
    }
   ],
   "source": [
    "# can also print a classification report for ever model\n",
    "\n",
    "print(classification_report(y_test, y_pred))"
   ]
  },
  {
   "cell_type": "markdown",
   "metadata": {
    "id": "ozvANYN4WLR3"
   },
   "source": [
    "## XGBoost"
   ]
  },
  {
   "cell_type": "markdown",
   "metadata": {
    "id": "NH09v_HndtBg"
   },
   "source": [
    "## Training the model"
   ]
  },
  {
   "cell_type": "code",
   "execution_count": 48,
   "metadata": {
    "id": "67ynShnkTdUf"
   },
   "outputs": [],
   "source": [
    "# The Gradient Boosting Machine is a powerful ensemble machine learning algorithm that uses decision trees. \n",
    "# Boosting is a general ensemble technique that involves sequentially adding models to the ensemble where subsequent models correct the performance of prior models.\n",
    "\n",
    "xgb = XGBClassifier()"
   ]
  },
  {
   "cell_type": "code",
   "execution_count": 49,
   "metadata": {
    "colab": {
     "base_uri": "https://localhost:8080/"
    },
    "id": "BLi_sUkWWWOJ",
    "outputId": "95db7797-3c8e-4cf4-ec43-573fcbf2e093"
   },
   "outputs": [
    {
     "name": "stdout",
     "output_type": "stream",
     "text": [
      "[15:56:56] WARNING: /Users/travis/build/dmlc/xgboost/src/learner.cc:1115: Starting in XGBoost 1.3.0, the default evaluation metric used with the objective 'binary:logistic' was changed from 'error' to 'logloss'. Explicitly set eval_metric if you'd like to restore the old behavior.\n"
     ]
    },
    {
     "data": {
      "text/plain": [
       "XGBClassifier(base_score=0.5, booster='gbtree', colsample_bylevel=1,\n",
       "              colsample_bynode=1, colsample_bytree=1, enable_categorical=False,\n",
       "              gamma=0, gpu_id=-1, importance_type=None,\n",
       "              interaction_constraints='', learning_rate=0.300000012,\n",
       "              max_delta_step=0, max_depth=6, min_child_weight=1, missing=nan,\n",
       "              monotone_constraints='()', n_estimators=100, n_jobs=12,\n",
       "              num_parallel_tree=1, predictor='auto', random_state=0,\n",
       "              reg_alpha=0, reg_lambda=1, scale_pos_weight=1, subsample=1,\n",
       "              tree_method='exact', validate_parameters=1, verbosity=None)"
      ]
     },
     "execution_count": 49,
     "metadata": {},
     "output_type": "execute_result"
    }
   ],
   "source": [
    "xgb.fit(X_train_SMOTE, y_train_SMOTE)"
   ]
  },
  {
   "cell_type": "markdown",
   "metadata": {
    "id": "d7sHLofidur_"
   },
   "source": [
    "## Making predictions"
   ]
  },
  {
   "cell_type": "code",
   "execution_count": 50,
   "metadata": {
    "colab": {
     "base_uri": "https://localhost:8080/"
    },
    "id": "kQnPd1cfWYwc",
    "outputId": "868d57ab-aaf2-4513-b0b9-e35a79fb9d92"
   },
   "outputs": [
    {
     "name": "stdout",
     "output_type": "stream",
     "text": [
      "Counter({False: 12335, True: 1219})\n"
     ]
    }
   ],
   "source": [
    "y_pred = xgb.predict(X_test)\n",
    "print(Counter(y_pred))"
   ]
  },
  {
   "cell_type": "markdown",
   "metadata": {
    "id": "MwKvU_oZLDLj"
   },
   "source": [
    "## Evaluating the model "
   ]
  },
  {
   "cell_type": "code",
   "execution_count": 51,
   "metadata": {
    "colab": {
     "base_uri": "https://localhost:8080/"
    },
    "id": "0vnhLMywWcBO",
    "outputId": "9c859d54-6e1e-436d-fa0c-77ccff63d5f3"
   },
   "outputs": [
    {
     "data": {
      "text/plain": [
       "0.8877822045152722"
      ]
     },
     "execution_count": 51,
     "metadata": {},
     "output_type": "execute_result"
    }
   ],
   "source": [
    "accuracy_score(y_test, y_pred)\n",
    "\n",
    "# This outperfroms the Naive Bayes Model by 0.1% "
   ]
  },
  {
   "cell_type": "code",
   "execution_count": 52,
   "metadata": {
    "colab": {
     "base_uri": "https://localhost:8080/"
    },
    "id": "KsGD4TBL1GSh",
    "outputId": "5fcd39da-d512-4a60-cf41-3e6c2af194d8"
   },
   "outputs": [
    {
     "name": "stdout",
     "output_type": "stream",
     "text": [
      "              precision    recall  f1-score   support\n",
      "\n",
      "       False       0.92      0.95      0.94     11978\n",
      "        True       0.52      0.40      0.46      1576\n",
      "\n",
      "    accuracy                           0.89     13554\n",
      "   macro avg       0.72      0.68      0.70     13554\n",
      "weighted avg       0.88      0.89      0.88     13554\n",
      "\n"
     ]
    }
   ],
   "source": [
    "# can also print a classification report for ever model\n",
    "\n",
    "print(classification_report(y_test, y_pred))"
   ]
  },
  {
   "cell_type": "markdown",
   "metadata": {
    "id": "4V1-AgXAJ1Gj"
   },
   "source": [
    "## Comparing the models"
   ]
  },
  {
   "cell_type": "code",
   "execution_count": 53,
   "metadata": {
    "id": "9knwyCJUI3Gq"
   },
   "outputs": [],
   "source": [
    "# model selection\n",
    "models = []\n",
    "\n",
    "# using Dummy Classifier as a baseline algorithm\n",
    "models.append(('Dummy Classifier', DummyClassifier(strategy = 'stratified')))\n",
    "\n",
    "# Logistic Regression\n",
    "models.append(('Logistic Regression', LogisticRegression()))\n",
    "\n",
    "# Naive Bayes\n",
    "models.append(('Naive Bayes', GaussianNB()))\n",
    "\n",
    "# Random Forest model\n",
    "models.append(('Random Forest', RandomForestClassifier()))\n",
    "\n",
    "# XGBoost\n",
    "models.append(('XGBoost', XGBClassifier()))"
   ]
  },
  {
   "cell_type": "code",
   "execution_count": 54,
   "metadata": {
    "id": "QfC5XP91yXt4"
   },
   "outputs": [
    {
     "name": "stdout",
     "output_type": "stream",
     "text": [
      "[15:57:03] WARNING: /Users/travis/build/dmlc/xgboost/src/learner.cc:1115: Starting in XGBoost 1.3.0, the default evaluation metric used with the objective 'binary:logistic' was changed from 'error' to 'logloss'. Explicitly set eval_metric if you'd like to restore the old behavior.\n"
     ]
    }
   ],
   "source": [
    "# training every model and populating \n",
    "\n",
    "scoring_df = []\n",
    "\n",
    "for name, model in models:\n",
    "    if name in ['Logistic Regression', 'SVM', 'KNN']:\n",
    "        X_train = X_train_norm\n",
    "    else:\n",
    "        X_train = X_train_SMOTE\n",
    "  \n",
    "    model.fit(X_train, y_train_SMOTE)\n",
    "    y_pred = model.predict(X_test)\n",
    "\n",
    "    # the evaluation metrics for the model\n",
    "    accuracy = accuracy_score(y_test, y_pred)\n",
    "    f1 = f1_score(y_test, y_pred)\n",
    "    recall = recall_score(y_test, y_pred)\n",
    "    precision = precision_score(y_test, y_pred)\n",
    "    auc = roc_auc_score(y_test, y_pred)\n",
    "\n",
    "    scoring_dict = {'Model Name': name,\n",
    "                    'Accuracy': round(accuracy, 4), \n",
    "                    'F1-Score': round(f1, 4), \n",
    "                    'Precision' : round(precision, 4), \n",
    "                    'Recall' : round(recall, 4), \n",
    "                    'AUC' : round(auc ,4)}\n",
    "\n",
    "    scoring_df.append(scoring_dict)"
   ]
  },
  {
   "cell_type": "markdown",
   "metadata": {
    "id": "HihTSR6f-glX"
   },
   "source": [
    "### Evaluation metrics for all models"
   ]
  },
  {
   "cell_type": "code",
   "execution_count": 55,
   "metadata": {
    "colab": {
     "base_uri": "https://localhost:8080/",
     "height": 266
    },
    "id": "SrwL-3ZiI8LV",
    "outputId": "cc5570c9-8eb6-4507-8fa7-511b4d605c10"
   },
   "outputs": [
    {
     "data": {
      "text/html": [
       "<div>\n",
       "<style scoped>\n",
       "    .dataframe tbody tr th:only-of-type {\n",
       "        vertical-align: middle;\n",
       "    }\n",
       "\n",
       "    .dataframe tbody tr th {\n",
       "        vertical-align: top;\n",
       "    }\n",
       "\n",
       "    .dataframe thead th {\n",
       "        text-align: right;\n",
       "    }\n",
       "</style>\n",
       "<table border=\"1\" class=\"dataframe\">\n",
       "  <thead>\n",
       "    <tr style=\"text-align: right;\">\n",
       "      <th></th>\n",
       "      <th>Model Name</th>\n",
       "      <th>Accuracy</th>\n",
       "      <th>F1-Score</th>\n",
       "      <th>Precision</th>\n",
       "      <th>Recall</th>\n",
       "      <th>AUC</th>\n",
       "    </tr>\n",
       "  </thead>\n",
       "  <tbody>\n",
       "    <tr>\n",
       "      <th>4</th>\n",
       "      <td>XGBoost</td>\n",
       "      <td>0.8878</td>\n",
       "      <td>0.4558</td>\n",
       "      <td>0.5226</td>\n",
       "      <td>0.4042</td>\n",
       "      <td>0.6778</td>\n",
       "    </tr>\n",
       "    <tr>\n",
       "      <th>3</th>\n",
       "      <td>Random Forest</td>\n",
       "      <td>0.8878</td>\n",
       "      <td>0.4139</td>\n",
       "      <td>0.5270</td>\n",
       "      <td>0.3407</td>\n",
       "      <td>0.6502</td>\n",
       "    </tr>\n",
       "    <tr>\n",
       "      <th>2</th>\n",
       "      <td>Naive Bayes</td>\n",
       "      <td>0.7077</td>\n",
       "      <td>0.2508</td>\n",
       "      <td>0.1786</td>\n",
       "      <td>0.4207</td>\n",
       "      <td>0.5831</td>\n",
       "    </tr>\n",
       "    <tr>\n",
       "      <th>1</th>\n",
       "      <td>Logistic Regression</td>\n",
       "      <td>0.1221</td>\n",
       "      <td>0.2094</td>\n",
       "      <td>0.1170</td>\n",
       "      <td>1.0000</td>\n",
       "      <td>0.5033</td>\n",
       "    </tr>\n",
       "    <tr>\n",
       "      <th>0</th>\n",
       "      <td>Dummy Classifier</td>\n",
       "      <td>0.5007</td>\n",
       "      <td>0.1970</td>\n",
       "      <td>0.1212</td>\n",
       "      <td>0.5266</td>\n",
       "      <td>0.5120</td>\n",
       "    </tr>\n",
       "  </tbody>\n",
       "</table>\n",
       "</div>"
      ],
      "text/plain": [
       "            Model Name  Accuracy  F1-Score  Precision  Recall     AUC\n",
       "4              XGBoost    0.8878    0.4558     0.5226  0.4042  0.6778\n",
       "3        Random Forest    0.8878    0.4139     0.5270  0.3407  0.6502\n",
       "2          Naive Bayes    0.7077    0.2508     0.1786  0.4207  0.5831\n",
       "1  Logistic Regression    0.1221    0.2094     0.1170  1.0000  0.5033\n",
       "0     Dummy Classifier    0.5007    0.1970     0.1212  0.5266  0.5120"
      ]
     },
     "execution_count": 55,
     "metadata": {},
     "output_type": "execute_result"
    }
   ],
   "source": [
    "scoring_df = pd.DataFrame(scoring_df)\n",
    "\n",
    "scoring_df.sort_values(by = \"F1-Score\", ascending = False)"
   ]
  },
  {
   "cell_type": "markdown",
   "metadata": {
    "id": "unciq90izXa_"
   },
   "source": [
    "## Evaluating the Best Model"
   ]
  },
  {
   "cell_type": "code",
   "execution_count": 56,
   "metadata": {
    "colab": {
     "base_uri": "https://localhost:8080/"
    },
    "id": "UstdSpjkBZk1",
    "outputId": "74a68e88-b3ae-401b-b180-491dd169ae88"
   },
   "outputs": [
    {
     "name": "stdout",
     "output_type": "stream",
     "text": [
      "[15:57:05] WARNING: /Users/travis/build/dmlc/xgboost/src/learner.cc:1115: Starting in XGBoost 1.3.0, the default evaluation metric used with the objective 'binary:logistic' was changed from 'error' to 'logloss'. Explicitly set eval_metric if you'd like to restore the old behavior.\n",
      "Counter({False: 12335, True: 1219})\n"
     ]
    }
   ],
   "source": [
    "# the best model is the XGBoost model, which has the highest accuracy and f1-score\n",
    "# should not accept models with AUC less than 0.5 \n",
    "\n",
    "# train the best model \n",
    "\n",
    "best_model = XGBClassifier()\n",
    "best_model.fit(X_train_SMOTE, y_train_SMOTE)\n",
    "y_pred = best_model.predict(X_test)\n",
    "print(Counter(y_pred))"
   ]
  },
  {
   "cell_type": "code",
   "execution_count": 57,
   "metadata": {
    "colab": {
     "base_uri": "https://localhost:8080/"
    },
    "id": "Y66hYbP7Mqph",
    "outputId": "075f98b0-fa8d-4f4e-9de9-9b88ff7a2431"
   },
   "outputs": [
    {
     "name": "stdout",
     "output_type": "stream",
     "text": [
      "              precision    recall  f1-score   support\n",
      "\n",
      "       False       0.95      0.92      0.94     12335\n",
      "        True       0.40      0.52      0.46      1219\n",
      "\n",
      "    accuracy                           0.89     13554\n",
      "   macro avg       0.68      0.72      0.70     13554\n",
      "weighted avg       0.90      0.89      0.89     13554\n",
      "\n"
     ]
    }
   ],
   "source": [
    "print(classification_report(y_pred, y_test))"
   ]
  },
  {
   "cell_type": "markdown",
   "metadata": {
    "id": "oKQlWqwH4juN"
   },
   "source": [
    "### ROC"
   ]
  },
  {
   "cell_type": "code",
   "execution_count": 58,
   "metadata": {
    "colab": {
     "base_uri": "https://localhost:8080/",
     "height": 279
    },
    "id": "G3c3czCHsPqt",
    "outputId": "9d5f7758-2f6f-407e-821c-e171c8fff5d5"
   },
   "outputs": [
    {
     "data": {
      "image/png": "[encoded data removed]",
      "text/plain": [
       "<Figure size 432x288 with 1 Axes>"
      ]
     },
     "metadata": {
      "needs_background": "light"
     },
     "output_type": "display_data"
    }
   ],
   "source": [
    "from sklearn.metrics import plot_roc_curve\n",
    "\n",
    "# handy sklearn function to plot Receiver operating characteristic (ROC) curve, with the area under the curve.\n",
    "\n",
    "plot_roc_curve(best_model,\n",
    "               X_test, \n",
    "               y_test)  \n",
    "plt.show()                     \n",
    "\n",
    "# AUC of 0.89; the higher the AUC, the better the performance of the model at distinguishing between the positive and negative classes."
   ]
  },
  {
   "cell_type": "markdown",
   "metadata": {
    "id": "3ldcFPwR9_98"
   },
   "source": [
    "### Precision Recall Curve"
   ]
  },
  {
   "cell_type": "code",
   "execution_count": 59,
   "metadata": {
    "colab": {
     "base_uri": "https://localhost:8080/",
     "height": 279
    },
    "id": "hoWbSx99sYrv",
    "outputId": "aced9a1c-3067-4bb2-e0eb-f6691c7aff15"
   },
   "outputs": [
    {
     "data": {
      "image/png": "[encoded data removed]",
      "text/plain": [
       "<Figure size 432x288 with 1 Axes>"
      ]
     },
     "metadata": {
      "needs_background": "light"
     },
     "output_type": "display_data"
    }
   ],
   "source": [
    "from sklearn.metrics import plot_precision_recall_curve\n",
    "\n",
    "# Precision-Recall is a useful measure of success of prediction when the classes are very imbalanced. \n",
    "# In information retrieval, precision is a measure of result relevancy, while recall is a measure of how many truly relevant results are returned.\n",
    "# The precision-recall curve shows the tradeoff between precision and recall for different threshold. \n",
    "\n",
    "plot_precision_recall_curve(best_model,\n",
    "                            X_test,\n",
    "                            y_test)\n",
    "\n",
    "plt.show();\n",
    "\n",
    "# Balance between precision and recall could be higher"
   ]
  },
  {
   "cell_type": "markdown",
   "metadata": {
    "id": "L24Wi9Ud-lVw"
   },
   "source": [
    "### Confusion Matrix"
   ]
  },
  {
   "cell_type": "code",
   "execution_count": 60,
   "metadata": {
    "colab": {
     "base_uri": "https://localhost:8080/"
    },
    "id": "0UaI4-W8lNJT",
    "outputId": "35be8a6a-46bc-414b-919a-10ff2c722b10"
   },
   "outputs": [
    {
     "data": {
      "text/plain": [
       "array([[11396,   582],\n",
       "       [  939,   637]])"
      ]
     },
     "execution_count": 60,
     "metadata": {},
     "output_type": "execute_result"
    }
   ],
   "source": [
    "# A confusion matrix is a table that is often used to describe the performance of a classification model  on a set of test data for \n",
    "# which the true values are known. \n",
    "\n",
    "confusion_matrix(y_test, y_pred) "
   ]
  },
  {
   "cell_type": "code",
   "execution_count": 61,
   "metadata": {
    "colab": {
     "base_uri": "https://localhost:8080/",
     "height": 279
    },
    "id": "dQjUZ4D0ByYV",
    "outputId": "8d300242-3019-4cab-d247-473fc9f8b795"
   },
   "outputs": [
    {
     "data": {
      "image/png": "[encoded data removed]",
      "text/plain": [
       "<Figure size 432x288 with 2 Axes>"
      ]
     },
     "metadata": {
      "needs_background": "light"
     },
     "output_type": "display_data"
    }
   ],
   "source": [
    "from sklearn.metrics import plot_confusion_matrix\n",
    "\n",
    "plot_confusion_matrix(best_model, \n",
    "                      X_test, \n",
    "                      y_test,\n",
    "                      cmap = plt.cm.Blues,\n",
    "                      normalize = 'true')\n",
    "\n",
    "plt.show();\n",
    "\n",
    "# Only 41% of the true labels have been predicted correctly"
   ]
  },
  {
   "cell_type": "markdown",
   "metadata": {
    "id": "gaqFRU74kxxt"
   },
   "source": [
    "### Feature Importance Plot"
   ]
  },
  {
   "cell_type": "code",
   "execution_count": 62,
   "metadata": {
    "id": "Qp_p5YT_hIFi"
   },
   "outputs": [],
   "source": [
    "def feature_importance_plot(model, X_train, n):\n",
    "    \"\"\"Plots feature importance - this only works for Random Forest and XGBoost Models\"\"\"\n",
    "    plt.figure(figsize=(8, 5)) # set figure size\n",
    "    feat_importances = pd.Series(model.feature_importances_,\n",
    "                                 index = X_train.columns)\n",
    "    feat_importances.nlargest(n).plot(kind = 'barh')\n",
    "    plt.title(f\"Top {n} Features\")\n",
    "    plt.show()"
   ]
  },
  {
   "cell_type": "code",
   "execution_count": 63,
   "metadata": {
    "colab": {
     "base_uri": "https://localhost:8080/",
     "height": 336
    },
    "id": "omDPYPABCGTF",
    "outputId": "98e35bf7-1abf-4fde-e368-ce46fd1f4647"
   },
   "outputs": [
    {
     "data": {
      "image/png": "[encoded data removed]",
      "text/plain": [
       "<Figure size 576x360 with 1 Axes>"
      ]
     },
     "metadata": {
      "needs_background": "light"
     },
     "output_type": "display_data"
    }
   ],
   "source": [
    "# plots feature importance - need to define number of features we are interested in\n",
    "# to improve model performance, can remove redundant features\n",
    "\n",
    "feature_importance_plot(best_model, X_train_SMOTE, 15)"
   ]
  },
  {
   "cell_type": "markdown",
   "metadata": {
    "id": "-ZyVqfujkWZO"
   },
   "source": [
    "### Learning Curves"
   ]
  },
  {
   "cell_type": "code",
   "execution_count": 64,
   "metadata": {
    "id": "5nc5BMxl6oP8"
   },
   "outputs": [],
   "source": [
    "def plot_learning_curves(model, X_train, y_train):\n",
    "    \"\"\"Plots learning curves for model validation\"\"\"\n",
    "    plt.figure(figsize=(5, 5)) # set figure size\n",
    "    train_sizes, train_scores, test_scores = learning_curve(\n",
    "        model,\n",
    "        X_train,\n",
    "        y_train,\n",
    "        # Number of folds in cross-validation\n",
    "        cv = 5,\n",
    "        # Evaluation metric\n",
    "        scoring = 'accuracy',\n",
    "        # Use all computer cores\n",
    "        n_jobs = -1,\n",
    "        shuffle = True,\n",
    "        # 5 different sizes of the training set\n",
    "        train_sizes = np.linspace(0.01, 1.0, 5))\n",
    "\n",
    "    # Create means and standard deviations of training set scores\n",
    "    train_mean = np.mean(train_scores, axis = 1)\n",
    "    train_std = np.std(train_scores, axis = 1)\n",
    "\n",
    "    # Create means and standard deviations of test set scores\n",
    "    test_mean = np.mean(test_scores, axis = 1)\n",
    "    test_std = np.std(test_scores, axis = 1)\n",
    "\n",
    "    # Draw lines\n",
    "    plt.plot(train_sizes, train_mean, '--', color = \"#111111\", label = \"Training score\")\n",
    "    plt.plot(train_sizes, test_mean, color = \"#111111\", label = \"Cross-validation score\")\n",
    "\n",
    "    # Draw bands\n",
    "    # plt.fill_between(train_sizes, train_mean - train_std, train_mean + train_std, color = \"#DDDDDD\")\n",
    "    # plt.fill_between(train_sizes, test_mean - test_std, test_mean + test_std, color = \"#DDDDDD\")\n",
    "\n",
    "    # Create plot\n",
    "    plt.title(\"Learning Curves\")\n",
    "    plt.xlabel(\"Training Set Size\"), plt.ylabel(\"Accuracy Score\"), plt.legend(loc = \"best\")\n",
    "    plt.tight_layout()\n",
    "    \n",
    "\n",
    "    plt.show()"
   ]
  },
  {
   "cell_type": "code",
   "execution_count": 65,
   "metadata": {
    "colab": {
     "base_uri": "https://localhost:8080/",
     "height": 369
    },
    "id": "wrKQoTlzlhS_",
    "outputId": "f8e050e1-55ad-4d11-c01e-d33bb467d9d1"
   },
   "outputs": [
    {
     "data": {
      "image/png": "[encoded data removed]",
      "text/plain": [
       "<Figure size 360x360 with 1 Axes>"
      ]
     },
     "metadata": {
      "needs_background": "light"
     },
     "output_type": "display_data"
    }
   ],
   "source": [
    "# A learning curve is a plot of model learning performance over experience or time. \n",
    "# Learning curves are a widely used diagnostic tool in machine learning for algorithms that learn from a training dataset incrementally. \n",
    "\n",
    "plot_learning_curves(best_model, X_train_SMOTE, y_train_SMOTE)\n",
    "\n",
    "\n",
    "# A good fit is identified by a training and validation loss that decreases to a point of stability with a minimal gap between the two final loss values.\n",
    "# The loss of the model will almost always be lower on the training dataset than the validation dataset.\n",
    "# This means that we should expect some gap between the train and validation loss learning curves. This gap is referred to as the “generalization gap.”\n",
    "\n",
    "# Training the model on imbalanced dataset, some slight signs of overfitting - we need to generate more labels, without artifically creating data. \n",
    "# More data would not make a difference to the performance of the model, but different sampling techniques and more positive labels may."
   ]
  }
 ],
 "metadata": {
  "colab": {
   "provenance": []
  },
  "kernelspec": {
   "display_name": "Python 3",
   "language": "python",
   "name": "python3"
  },
  "language_info": {
   "codemirror_mode": {
    "name": "ipython",
    "version": 3
   },
   "file_extension": ".py",
   "mimetype": "text/x-python",
   "name": "python",
   "nbconvert_exporter": "python",
   "pygments_lexer": "ipython3",
   "version": "3.8.10"
  }
 },
 "nbformat": 4,
 "nbformat_minor": 1
}
