{
 "cells": [
  {
   "cell_type": "code",
   "execution_count": 1,
   "metadata": {
    "id": "Pqp9xk3JuBkG"
   },
   "outputs": [],
   "source": [
    "# We need the following libraries to carry out the activities\n",
    "\n",
    "import pandas as pd\n",
    "import numpy as np\n",
    "import matplotlib.pyplot as plt\n",
    "import seaborn as sns\n",
    "from collections import Counter\n",
    "\n",
    "from sklearn.model_selection import train_test_split, learning_curve, cross_val_score\n",
    "from sklearn.preprocessing import StandardScaler\n",
    "from sklearn.linear_model import LinearRegression, Lasso, Ridge\n",
    "from sklearn.neighbors import KNeighborsRegressor\n",
    "from sklearn.svm import SVR\n",
    "from sklearn.tree import DecisionTreeRegressor\n",
    "from sklearn.ensemble import RandomForestRegressor\n",
    "from xgboost import XGBRegressor\n",
    "from sklearn.metrics import r2_score, explained_variance_score, mean_absolute_error, mean_squared_error\n",
    "from sklearn.dummy import DummyRegressor\n",
    "\n",
    "import warnings\n",
    "warnings.filterwarnings('ignore')\n"
   ]
  },
  {
   "cell_type": "markdown",
   "metadata": {
    "id": "D3Uw9bpYzvGB"
   },
   "source": [
    "## Read the data"
   ]
  },
  {
   "cell_type": "code",
   "execution_count": 2,
   "metadata": {
    "id": "V3N6z-E6zxRv"
   },
   "outputs": [],
   "source": [
    "users_data = pd.read_pickle(\"../data/users_data_cleaned.pkl\")\n",
    "\n",
    "# read the data cleaned after eda"
   ]
  },
  {
   "cell_type": "code",
   "execution_count": 3,
   "metadata": {
    "colab": {
     "base_uri": "https://localhost:8080/",
     "height": 577
    },
    "id": "UHm254aA_Vjx",
    "outputId": "427caa15-e548-4d9b-c5ef-579393569ea1"
   },
   "outputs": [
    {
     "data": {
      "text/html": [
       "<div>\n",
       "<style scoped>\n",
       "    .dataframe tbody tr th:only-of-type {\n",
       "        vertical-align: middle;\n",
       "    }\n",
       "\n",
       "    .dataframe tbody tr th {\n",
       "        vertical-align: top;\n",
       "    }\n",
       "\n",
       "    .dataframe thead th {\n",
       "        text-align: right;\n",
       "    }\n",
       "</style>\n",
       "<table border=\"1\" class=\"dataframe\">\n",
       "  <thead>\n",
       "    <tr style=\"text-align: right;\">\n",
       "      <th></th>\n",
       "      <th>user_id</th>\n",
       "      <th>number_transactions</th>\n",
       "      <th>total_amount_usd</th>\n",
       "      <th>job_management</th>\n",
       "      <th>job_technician</th>\n",
       "      <th>job_entrepreneur</th>\n",
       "      <th>job_blue-collar</th>\n",
       "      <th>job_retired</th>\n",
       "      <th>job_admin.</th>\n",
       "      <th>job_services</th>\n",
       "      <th>...</th>\n",
       "      <th>duration</th>\n",
       "      <th>campaign</th>\n",
       "      <th>pdays</th>\n",
       "      <th>previous</th>\n",
       "      <th>term_deposit</th>\n",
       "      <th>device_desktop</th>\n",
       "      <th>device_tablet</th>\n",
       "      <th>single</th>\n",
       "      <th>age_group_encoded</th>\n",
       "      <th>month_joined</th>\n",
       "    </tr>\n",
       "  </thead>\n",
       "  <tbody>\n",
       "    <tr>\n",
       "      <th>0</th>\n",
       "      <td>9231c446-cb16-4b2b-a7f7-ddfc8b25aaf6</td>\n",
       "      <td>3.0</td>\n",
       "      <td>2143.00</td>\n",
       "      <td>1</td>\n",
       "      <td>0</td>\n",
       "      <td>0</td>\n",
       "      <td>0</td>\n",
       "      <td>0</td>\n",
       "      <td>0</td>\n",
       "      <td>0</td>\n",
       "      <td>...</td>\n",
       "      <td>261</td>\n",
       "      <td>1</td>\n",
       "      <td>-1</td>\n",
       "      <td>0</td>\n",
       "      <td>False</td>\n",
       "      <td>0</td>\n",
       "      <td>0</td>\n",
       "      <td>0</td>\n",
       "      <td>4</td>\n",
       "      <td>8</td>\n",
       "    </tr>\n",
       "    <tr>\n",
       "      <th>1</th>\n",
       "      <td>bb92765a-08de-4963-b432-496524b39157</td>\n",
       "      <td>0.0</td>\n",
       "      <td>1369.42</td>\n",
       "      <td>0</td>\n",
       "      <td>1</td>\n",
       "      <td>0</td>\n",
       "      <td>0</td>\n",
       "      <td>0</td>\n",
       "      <td>0</td>\n",
       "      <td>0</td>\n",
       "      <td>...</td>\n",
       "      <td>151</td>\n",
       "      <td>1</td>\n",
       "      <td>-1</td>\n",
       "      <td>0</td>\n",
       "      <td>False</td>\n",
       "      <td>1</td>\n",
       "      <td>0</td>\n",
       "      <td>1</td>\n",
       "      <td>2</td>\n",
       "      <td>7</td>\n",
       "    </tr>\n",
       "    <tr>\n",
       "      <th>2</th>\n",
       "      <td>573de577-49ef-42b9-83da-d3cfb817b5c1</td>\n",
       "      <td>2.0</td>\n",
       "      <td>2.00</td>\n",
       "      <td>0</td>\n",
       "      <td>0</td>\n",
       "      <td>1</td>\n",
       "      <td>0</td>\n",
       "      <td>0</td>\n",
       "      <td>0</td>\n",
       "      <td>0</td>\n",
       "      <td>...</td>\n",
       "      <td>76</td>\n",
       "      <td>1</td>\n",
       "      <td>-1</td>\n",
       "      <td>0</td>\n",
       "      <td>False</td>\n",
       "      <td>0</td>\n",
       "      <td>0</td>\n",
       "      <td>0</td>\n",
       "      <td>1</td>\n",
       "      <td>6</td>\n",
       "    </tr>\n",
       "    <tr>\n",
       "      <th>3</th>\n",
       "      <td>d6b66b9d-7c8f-4257-a682-e136f640b7e3</td>\n",
       "      <td>0.0</td>\n",
       "      <td>1369.42</td>\n",
       "      <td>0</td>\n",
       "      <td>0</td>\n",
       "      <td>0</td>\n",
       "      <td>1</td>\n",
       "      <td>0</td>\n",
       "      <td>0</td>\n",
       "      <td>0</td>\n",
       "      <td>...</td>\n",
       "      <td>92</td>\n",
       "      <td>1</td>\n",
       "      <td>-1</td>\n",
       "      <td>0</td>\n",
       "      <td>False</td>\n",
       "      <td>0</td>\n",
       "      <td>1</td>\n",
       "      <td>0</td>\n",
       "      <td>3</td>\n",
       "      <td>6</td>\n",
       "    </tr>\n",
       "    <tr>\n",
       "      <th>4</th>\n",
       "      <td>fade0b20-7594-4d9a-84cd-c02f79b1b526</td>\n",
       "      <td>1.0</td>\n",
       "      <td>1.00</td>\n",
       "      <td>0</td>\n",
       "      <td>0</td>\n",
       "      <td>0</td>\n",
       "      <td>0</td>\n",
       "      <td>0</td>\n",
       "      <td>0</td>\n",
       "      <td>0</td>\n",
       "      <td>...</td>\n",
       "      <td>198</td>\n",
       "      <td>1</td>\n",
       "      <td>-1</td>\n",
       "      <td>0</td>\n",
       "      <td>False</td>\n",
       "      <td>0</td>\n",
       "      <td>0</td>\n",
       "      <td>1</td>\n",
       "      <td>1</td>\n",
       "      <td>8</td>\n",
       "    </tr>\n",
       "  </tbody>\n",
       "</table>\n",
       "<p>5 rows × 33 columns</p>\n",
       "</div>"
      ],
      "text/plain": [
       "                                user_id  number_transactions  \\\n",
       "0  9231c446-cb16-4b2b-a7f7-ddfc8b25aaf6                  3.0   \n",
       "1  bb92765a-08de-4963-b432-496524b39157                  0.0   \n",
       "2  573de577-49ef-42b9-83da-d3cfb817b5c1                  2.0   \n",
       "3  d6b66b9d-7c8f-4257-a682-e136f640b7e3                  0.0   \n",
       "4  fade0b20-7594-4d9a-84cd-c02f79b1b526                  1.0   \n",
       "\n",
       "   total_amount_usd  job_management  job_technician  job_entrepreneur  \\\n",
       "0           2143.00               1               0                 0   \n",
       "1           1369.42               0               1                 0   \n",
       "2              2.00               0               0                 1   \n",
       "3           1369.42               0               0                 0   \n",
       "4              1.00               0               0                 0   \n",
       "\n",
       "   job_blue-collar  job_retired  job_admin.  job_services  ...  duration  \\\n",
       "0                0            0           0             0  ...       261   \n",
       "1                0            0           0             0  ...       151   \n",
       "2                0            0           0             0  ...        76   \n",
       "3                1            0           0             0  ...        92   \n",
       "4                0            0           0             0  ...       198   \n",
       "\n",
       "   campaign  pdays  previous  term_deposit  device_desktop  device_tablet  \\\n",
       "0         1     -1         0         False               0              0   \n",
       "1         1     -1         0         False               1              0   \n",
       "2         1     -1         0         False               0              0   \n",
       "3         1     -1         0         False               0              1   \n",
       "4         1     -1         0         False               0              0   \n",
       "\n",
       "   single  age_group_encoded  month_joined  \n",
       "0       0                  4             8  \n",
       "1       1                  2             7  \n",
       "2       0                  1             6  \n",
       "3       0                  3             6  \n",
       "4       1                  1             8  \n",
       "\n",
       "[5 rows x 33 columns]"
      ]
     },
     "execution_count": 3,
     "metadata": {},
     "output_type": "execute_result"
    }
   ],
   "source": [
    "# preview the data\n",
    "\n",
    "users_data.head()"
   ]
  },
  {
   "cell_type": "code",
   "execution_count": 4,
   "metadata": {
    "colab": {
     "base_uri": "https://localhost:8080/"
    },
    "id": "0qOIW8i7_6lm",
    "outputId": "7b2932e8-9344-45ff-dafb-d31027709ef0"
   },
   "outputs": [
    {
     "data": {
      "text/plain": [
       "(45179, 33)"
      ]
     },
     "execution_count": 4,
     "metadata": {},
     "output_type": "execute_result"
    }
   ],
   "source": [
    "# check shape of data\n",
    "\n",
    "users_data.shape"
   ]
  },
  {
   "cell_type": "code",
   "execution_count": 5,
   "metadata": {
    "colab": {
     "base_uri": "https://localhost:8080/"
    },
    "id": "hjaImkCC_Y6o",
    "outputId": "345f601a-0c1d-495e-ae9e-977be3548794"
   },
   "outputs": [
    {
     "name": "stdout",
     "output_type": "stream",
     "text": [
      "<class 'pandas.core.frame.DataFrame'>\n",
      "Int64Index: 45179 entries, 0 to 45215\n",
      "Data columns (total 33 columns):\n",
      " #   Column               Non-Null Count  Dtype  \n",
      "---  ------               --------------  -----  \n",
      " 0   user_id              45179 non-null  object \n",
      " 1   number_transactions  45179 non-null  float64\n",
      " 2   total_amount_usd     45179 non-null  float64\n",
      " 3   job_management       45179 non-null  int64  \n",
      " 4   job_technician       45179 non-null  int64  \n",
      " 5   job_entrepreneur     45179 non-null  int64  \n",
      " 6   job_blue-collar      45179 non-null  int64  \n",
      " 7   job_retired          45179 non-null  int64  \n",
      " 8   job_admin.           45179 non-null  int64  \n",
      " 9   job_services         45179 non-null  int64  \n",
      " 10  job_self-employed    45179 non-null  int64  \n",
      " 11  job_unemployed       45179 non-null  int64  \n",
      " 12  job_housemaid        45179 non-null  int64  \n",
      " 13  job_student          45179 non-null  int64  \n",
      " 14  education_tertiary   45179 non-null  int64  \n",
      " 15  education_secondary  45179 non-null  int64  \n",
      " 16  education_Unknown    45179 non-null  int64  \n",
      " 17  education_primary    45179 non-null  int64  \n",
      " 18  default              45179 non-null  bool   \n",
      " 19  housing              45179 non-null  bool   \n",
      " 20  loan                 45179 non-null  bool   \n",
      " 21  contact_cellular     45179 non-null  int64  \n",
      " 22  contact_telephone    45179 non-null  int64  \n",
      " 23  duration             45179 non-null  int64  \n",
      " 24  campaign             45179 non-null  int64  \n",
      " 25  pdays                45179 non-null  int64  \n",
      " 26  previous             45179 non-null  int64  \n",
      " 27  term_deposit         45179 non-null  bool   \n",
      " 28  device_desktop       45179 non-null  int64  \n",
      " 29  device_tablet        45179 non-null  int64  \n",
      " 30  single               45179 non-null  uint8  \n",
      " 31  age_group_encoded    45179 non-null  int8   \n",
      " 32  month_joined         45179 non-null  int64  \n",
      "dtypes: bool(4), float64(2), int64(24), int8(1), object(1), uint8(1)\n",
      "memory usage: 9.9+ MB\n"
     ]
    }
   ],
   "source": [
    "# check the structure of the data - make sure all the columns are float, into and bool (apart from user_id)\n",
    "\n",
    "users_data.info()"
   ]
  },
  {
   "cell_type": "markdown",
   "metadata": {
    "id": "KzWy1_hSzdT2"
   },
   "source": [
    "## Define the target"
   ]
  },
  {
   "cell_type": "code",
   "execution_count": 6,
   "metadata": {
    "colab": {
     "base_uri": "https://localhost:8080/"
    },
    "id": "V-aKzuX7_mN8",
    "outputId": "9ca297d6-eb13-40f5-a427-9f498c3ec052"
   },
   "outputs": [
    {
     "data": {
      "text/plain": [
       "count     45179.000000\n",
       "mean       1369.751283\n",
       "std        2704.291321\n",
       "min       -8019.000000\n",
       "25%         160.000000\n",
       "50%         862.000000\n",
       "75%        1369.420000\n",
       "max      102127.000000\n",
       "Name: total_amount_usd, dtype: float64"
      ]
     },
     "execution_count": 6,
     "metadata": {},
     "output_type": "execute_result"
    }
   ],
   "source": [
    "# Definition: The target variable of a dataset is the feature of a dataset about which you want to gain a deeper understanding.\n",
    "\n",
    "# Look at the distribution of total_amount_usd\n",
    "\n",
    "users_data.total_amount_usd.describe()"
   ]
  },
  {
   "cell_type": "code",
   "execution_count": 7,
   "metadata": {
    "colab": {
     "base_uri": "https://localhost:8080/",
     "height": 281
    },
    "id": "QmyMyLNgrBMb",
    "outputId": "8cfa79a5-33d4-4874-c7ca-3557ecf4b0a9"
   },
   "outputs": [
    {
     "data": {
      "image/png": "[encoded data removed]",
      "text/plain": [
       "<Figure size 432x288 with 1 Axes>"
      ]
     },
     "metadata": {
      "needs_background": "light"
     },
     "output_type": "display_data"
    }
   ],
   "source": [
    "users_data.total_amount_usd.hist()\n",
    "plt.title(\"Distribution of the total_amount_usd\");"
   ]
  },
  {
   "cell_type": "markdown",
   "metadata": {
    "id": "vhIUUzl6tdu9"
   },
   "source": [
    "## Identify Outliers"
   ]
  },
  {
   "cell_type": "code",
   "execution_count": 8,
   "metadata": {
    "colab": {
     "base_uri": "https://localhost:8080/",
     "height": 280
    },
    "id": "HTn43G7hs3v7",
    "outputId": "aa3066bd-2325-4935-b8c3-d8e037f91762"
   },
   "outputs": [
    {
     "data": {
      "image/png": "[encoded data removed]",
      "text/plain": [
       "<Figure size 432x288 with 1 Axes>"
      ]
     },
     "metadata": {
      "needs_background": "light"
     },
     "output_type": "display_data"
    }
   ],
   "source": [
    "sns.boxplot(users_data.total_amount_usd);"
   ]
  },
  {
   "cell_type": "code",
   "execution_count": 9,
   "metadata": {
    "colab": {
     "base_uri": "https://localhost:8080/"
    },
    "id": "GVVSHpMbsVX9",
    "outputId": "312660c0-faa0-412b-8d71-8b0b6bb7565a"
   },
   "outputs": [
    {
     "name": "stdout",
     "output_type": "stream",
     "text": [
      "Lower Bound: -1654.13 Upper Bound: 3183.55\n"
     ]
    }
   ],
   "source": [
    "# remove the outliers \n",
    "\n",
    "# identify the outliers\n",
    "\n",
    "Q3 = np.percentile(users_data.total_amount_usd, 75) \n",
    "Q1 = np.percentile(users_data.total_amount_usd, 25)\n",
    "IQR = 1.5*(Q3 - Q1)\n",
    "\n",
    "LB = Q1 - IQR\n",
    "UB = Q3 + IQR\n",
    "\n",
    "\n",
    "print(\"Lower Bound:\", round(LB, 2), \"Upper Bound:\", round(UB, 2))"
   ]
  },
  {
   "cell_type": "markdown",
   "metadata": {
    "id": "x1p_ZFbuthgy"
   },
   "source": [
    "## Remove the outliers"
   ]
  },
  {
   "cell_type": "code",
   "execution_count": 10,
   "metadata": {
    "colab": {
     "base_uri": "https://localhost:8080/"
    },
    "id": "_ZIjYQpXtopd",
    "outputId": "ac2a390b-b0f4-403e-ecc9-9c2738e199db"
   },
   "outputs": [
    {
     "name": "stdout",
     "output_type": "stream",
     "text": [
      "# of users with total_amount_usd greater than UB: 4110\n",
      "# of users with total_amount_usd lower than LB: 26\n"
     ]
    }
   ],
   "source": [
    "print(\"# of users with total_amount_usd greater than UB:\", users_data[(users_data.total_amount_usd >= UB)].shape[0])\n",
    "print(\"# of users with total_amount_usd lower than LB:\", users_data[(users_data.total_amount_usd <= LB)].shape[0])"
   ]
  },
  {
   "cell_type": "code",
   "execution_count": 11,
   "metadata": {
    "id": "rqEUTq6etOfs"
   },
   "outputs": [],
   "source": [
    "# users_data_wout_outliers = users_data[(users_data.total_amount_usd < UB) & (users_data.total_amount_usd > LB)]\n",
    "# users_data_wout_outliers.head()\n",
    "\n",
    "users_data_wout_outliers = users_data"
   ]
  },
  {
   "cell_type": "code",
   "execution_count": 12,
   "metadata": {
    "colab": {
     "base_uri": "https://localhost:8080/"
    },
    "id": "i75NAx9IuN_z",
    "outputId": "150fdbf6-bb24-4d13-c61a-ff1ecdc56d4f"
   },
   "outputs": [
    {
     "data": {
      "text/plain": [
       "(45179, 33)"
      ]
     },
     "execution_count": 12,
     "metadata": {},
     "output_type": "execute_result"
    }
   ],
   "source": [
    "users_data_wout_outliers.shape"
   ]
  },
  {
   "cell_type": "code",
   "execution_count": 13,
   "metadata": {
    "colab": {
     "base_uri": "https://localhost:8080/",
     "height": 411
    },
    "id": "zpB9wtkhulXR",
    "outputId": "829d7668-5f84-439c-bd99-651f5e876554"
   },
   "outputs": [
    {
     "data": {
      "text/html": [
       "<div>\n",
       "<style scoped>\n",
       "    .dataframe tbody tr th:only-of-type {\n",
       "        vertical-align: middle;\n",
       "    }\n",
       "\n",
       "    .dataframe tbody tr th {\n",
       "        vertical-align: top;\n",
       "    }\n",
       "\n",
       "    .dataframe thead th {\n",
       "        text-align: right;\n",
       "    }\n",
       "</style>\n",
       "<table border=\"1\" class=\"dataframe\">\n",
       "  <thead>\n",
       "    <tr style=\"text-align: right;\">\n",
       "      <th></th>\n",
       "      <th>number_transactions</th>\n",
       "      <th>total_amount_usd</th>\n",
       "      <th>job_management</th>\n",
       "      <th>job_technician</th>\n",
       "      <th>job_entrepreneur</th>\n",
       "      <th>job_blue-collar</th>\n",
       "      <th>job_retired</th>\n",
       "      <th>job_admin.</th>\n",
       "      <th>job_services</th>\n",
       "      <th>job_self-employed</th>\n",
       "      <th>...</th>\n",
       "      <th>contact_telephone</th>\n",
       "      <th>duration</th>\n",
       "      <th>campaign</th>\n",
       "      <th>pdays</th>\n",
       "      <th>previous</th>\n",
       "      <th>device_desktop</th>\n",
       "      <th>device_tablet</th>\n",
       "      <th>single</th>\n",
       "      <th>age_group_encoded</th>\n",
       "      <th>month_joined</th>\n",
       "    </tr>\n",
       "  </thead>\n",
       "  <tbody>\n",
       "    <tr>\n",
       "      <th>count</th>\n",
       "      <td>45179.000000</td>\n",
       "      <td>45179.000000</td>\n",
       "      <td>45179.000000</td>\n",
       "      <td>45179.000000</td>\n",
       "      <td>45179.000000</td>\n",
       "      <td>45179.000000</td>\n",
       "      <td>45179.000000</td>\n",
       "      <td>45179.000000</td>\n",
       "      <td>45179.000000</td>\n",
       "      <td>45179.000000</td>\n",
       "      <td>...</td>\n",
       "      <td>45179.000000</td>\n",
       "      <td>45179.000000</td>\n",
       "      <td>45179.000000</td>\n",
       "      <td>45179.000000</td>\n",
       "      <td>45179.000000</td>\n",
       "      <td>45179.000000</td>\n",
       "      <td>45179.000000</td>\n",
       "      <td>45179.000000</td>\n",
       "      <td>45179.000000</td>\n",
       "      <td>45179.000000</td>\n",
       "    </tr>\n",
       "    <tr>\n",
       "      <th>mean</th>\n",
       "      <td>3.097833</td>\n",
       "      <td>1369.751283</td>\n",
       "      <td>0.209234</td>\n",
       "      <td>0.168043</td>\n",
       "      <td>0.032869</td>\n",
       "      <td>0.215255</td>\n",
       "      <td>0.050068</td>\n",
       "      <td>0.114389</td>\n",
       "      <td>0.091901</td>\n",
       "      <td>0.034906</td>\n",
       "      <td>...</td>\n",
       "      <td>0.064278</td>\n",
       "      <td>258.107262</td>\n",
       "      <td>2.763297</td>\n",
       "      <td>40.203391</td>\n",
       "      <td>0.580048</td>\n",
       "      <td>0.267956</td>\n",
       "      <td>0.121649</td>\n",
       "      <td>0.282897</td>\n",
       "      <td>2.147170</td>\n",
       "      <td>6.499834</td>\n",
       "    </tr>\n",
       "    <tr>\n",
       "      <th>std</th>\n",
       "      <td>3.749994</td>\n",
       "      <td>2704.291321</td>\n",
       "      <td>0.406767</td>\n",
       "      <td>0.373908</td>\n",
       "      <td>0.178296</td>\n",
       "      <td>0.411004</td>\n",
       "      <td>0.218087</td>\n",
       "      <td>0.318287</td>\n",
       "      <td>0.288889</td>\n",
       "      <td>0.183543</td>\n",
       "      <td>...</td>\n",
       "      <td>0.245250</td>\n",
       "      <td>257.281109</td>\n",
       "      <td>3.097836</td>\n",
       "      <td>100.134967</td>\n",
       "      <td>2.303009</td>\n",
       "      <td>0.442900</td>\n",
       "      <td>0.326884</td>\n",
       "      <td>0.450412</td>\n",
       "      <td>1.106811</td>\n",
       "      <td>3.428374</td>\n",
       "    </tr>\n",
       "    <tr>\n",
       "      <th>min</th>\n",
       "      <td>0.000000</td>\n",
       "      <td>-8019.000000</td>\n",
       "      <td>0.000000</td>\n",
       "      <td>0.000000</td>\n",
       "      <td>0.000000</td>\n",
       "      <td>0.000000</td>\n",
       "      <td>0.000000</td>\n",
       "      <td>0.000000</td>\n",
       "      <td>0.000000</td>\n",
       "      <td>0.000000</td>\n",
       "      <td>...</td>\n",
       "      <td>0.000000</td>\n",
       "      <td>0.000000</td>\n",
       "      <td>1.000000</td>\n",
       "      <td>-1.000000</td>\n",
       "      <td>0.000000</td>\n",
       "      <td>0.000000</td>\n",
       "      <td>0.000000</td>\n",
       "      <td>0.000000</td>\n",
       "      <td>0.000000</td>\n",
       "      <td>1.000000</td>\n",
       "    </tr>\n",
       "    <tr>\n",
       "      <th>25%</th>\n",
       "      <td>2.000000</td>\n",
       "      <td>160.000000</td>\n",
       "      <td>0.000000</td>\n",
       "      <td>0.000000</td>\n",
       "      <td>0.000000</td>\n",
       "      <td>0.000000</td>\n",
       "      <td>0.000000</td>\n",
       "      <td>0.000000</td>\n",
       "      <td>0.000000</td>\n",
       "      <td>0.000000</td>\n",
       "      <td>...</td>\n",
       "      <td>0.000000</td>\n",
       "      <td>103.000000</td>\n",
       "      <td>1.000000</td>\n",
       "      <td>-1.000000</td>\n",
       "      <td>0.000000</td>\n",
       "      <td>0.000000</td>\n",
       "      <td>0.000000</td>\n",
       "      <td>0.000000</td>\n",
       "      <td>1.000000</td>\n",
       "      <td>4.000000</td>\n",
       "    </tr>\n",
       "    <tr>\n",
       "      <th>50%</th>\n",
       "      <td>2.000000</td>\n",
       "      <td>862.000000</td>\n",
       "      <td>0.000000</td>\n",
       "      <td>0.000000</td>\n",
       "      <td>0.000000</td>\n",
       "      <td>0.000000</td>\n",
       "      <td>0.000000</td>\n",
       "      <td>0.000000</td>\n",
       "      <td>0.000000</td>\n",
       "      <td>0.000000</td>\n",
       "      <td>...</td>\n",
       "      <td>0.000000</td>\n",
       "      <td>180.000000</td>\n",
       "      <td>2.000000</td>\n",
       "      <td>-1.000000</td>\n",
       "      <td>0.000000</td>\n",
       "      <td>0.000000</td>\n",
       "      <td>0.000000</td>\n",
       "      <td>0.000000</td>\n",
       "      <td>2.000000</td>\n",
       "      <td>7.000000</td>\n",
       "    </tr>\n",
       "    <tr>\n",
       "      <th>75%</th>\n",
       "      <td>3.000000</td>\n",
       "      <td>1369.420000</td>\n",
       "      <td>0.000000</td>\n",
       "      <td>0.000000</td>\n",
       "      <td>0.000000</td>\n",
       "      <td>0.000000</td>\n",
       "      <td>0.000000</td>\n",
       "      <td>0.000000</td>\n",
       "      <td>0.000000</td>\n",
       "      <td>0.000000</td>\n",
       "      <td>...</td>\n",
       "      <td>0.000000</td>\n",
       "      <td>319.000000</td>\n",
       "      <td>3.000000</td>\n",
       "      <td>-1.000000</td>\n",
       "      <td>0.000000</td>\n",
       "      <td>1.000000</td>\n",
       "      <td>0.000000</td>\n",
       "      <td>1.000000</td>\n",
       "      <td>3.000000</td>\n",
       "      <td>9.000000</td>\n",
       "    </tr>\n",
       "    <tr>\n",
       "      <th>max</th>\n",
       "      <td>20.000000</td>\n",
       "      <td>102127.000000</td>\n",
       "      <td>1.000000</td>\n",
       "      <td>1.000000</td>\n",
       "      <td>1.000000</td>\n",
       "      <td>1.000000</td>\n",
       "      <td>1.000000</td>\n",
       "      <td>1.000000</td>\n",
       "      <td>1.000000</td>\n",
       "      <td>1.000000</td>\n",
       "      <td>...</td>\n",
       "      <td>1.000000</td>\n",
       "      <td>4918.000000</td>\n",
       "      <td>63.000000</td>\n",
       "      <td>871.000000</td>\n",
       "      <td>275.000000</td>\n",
       "      <td>1.000000</td>\n",
       "      <td>1.000000</td>\n",
       "      <td>1.000000</td>\n",
       "      <td>6.000000</td>\n",
       "      <td>12.000000</td>\n",
       "    </tr>\n",
       "  </tbody>\n",
       "</table>\n",
       "<p>8 rows × 28 columns</p>\n",
       "</div>"
      ],
      "text/plain": [
       "       number_transactions  total_amount_usd  job_management  job_technician  \\\n",
       "count         45179.000000      45179.000000    45179.000000    45179.000000   \n",
       "mean              3.097833       1369.751283        0.209234        0.168043   \n",
       "std               3.749994       2704.291321        0.406767        0.373908   \n",
       "min               0.000000      -8019.000000        0.000000        0.000000   \n",
       "25%               2.000000        160.000000        0.000000        0.000000   \n",
       "50%               2.000000        862.000000        0.000000        0.000000   \n",
       "75%               3.000000       1369.420000        0.000000        0.000000   \n",
       "max              20.000000     102127.000000        1.000000        1.000000   \n",
       "\n",
       "       job_entrepreneur  job_blue-collar   job_retired    job_admin.  \\\n",
       "count      45179.000000     45179.000000  45179.000000  45179.000000   \n",
       "mean           0.032869         0.215255      0.050068      0.114389   \n",
       "std            0.178296         0.411004      0.218087      0.318287   \n",
       "min            0.000000         0.000000      0.000000      0.000000   \n",
       "25%            0.000000         0.000000      0.000000      0.000000   \n",
       "50%            0.000000         0.000000      0.000000      0.000000   \n",
       "75%            0.000000         0.000000      0.000000      0.000000   \n",
       "max            1.000000         1.000000      1.000000      1.000000   \n",
       "\n",
       "       job_services  job_self-employed  ...  contact_telephone      duration  \\\n",
       "count  45179.000000       45179.000000  ...       45179.000000  45179.000000   \n",
       "mean       0.091901           0.034906  ...           0.064278    258.107262   \n",
       "std        0.288889           0.183543  ...           0.245250    257.281109   \n",
       "min        0.000000           0.000000  ...           0.000000      0.000000   \n",
       "25%        0.000000           0.000000  ...           0.000000    103.000000   \n",
       "50%        0.000000           0.000000  ...           0.000000    180.000000   \n",
       "75%        0.000000           0.000000  ...           0.000000    319.000000   \n",
       "max        1.000000           1.000000  ...           1.000000   4918.000000   \n",
       "\n",
       "           campaign         pdays      previous  device_desktop  \\\n",
       "count  45179.000000  45179.000000  45179.000000    45179.000000   \n",
       "mean       2.763297     40.203391      0.580048        0.267956   \n",
       "std        3.097836    100.134967      2.303009        0.442900   \n",
       "min        1.000000     -1.000000      0.000000        0.000000   \n",
       "25%        1.000000     -1.000000      0.000000        0.000000   \n",
       "50%        2.000000     -1.000000      0.000000        0.000000   \n",
       "75%        3.000000     -1.000000      0.000000        1.000000   \n",
       "max       63.000000    871.000000    275.000000        1.000000   \n",
       "\n",
       "       device_tablet        single  age_group_encoded  month_joined  \n",
       "count   45179.000000  45179.000000       45179.000000  45179.000000  \n",
       "mean        0.121649      0.282897           2.147170      6.499834  \n",
       "std         0.326884      0.450412           1.106811      3.428374  \n",
       "min         0.000000      0.000000           0.000000      1.000000  \n",
       "25%         0.000000      0.000000           1.000000      4.000000  \n",
       "50%         0.000000      0.000000           2.000000      7.000000  \n",
       "75%         0.000000      1.000000           3.000000      9.000000  \n",
       "max         1.000000      1.000000           6.000000     12.000000  \n",
       "\n",
       "[8 rows x 28 columns]"
      ]
     },
     "execution_count": 13,
     "metadata": {},
     "output_type": "execute_result"
    }
   ],
   "source": [
    "users_data_wout_outliers.describe()"
   ]
  },
  {
   "cell_type": "code",
   "execution_count": 14,
   "metadata": {
    "colab": {
     "base_uri": "https://localhost:8080/",
     "height": 281
    },
    "id": "PknNQr7mvJKj",
    "outputId": "bc11b6f7-72fd-40ec-de7a-cc8d53af2c9c"
   },
   "outputs": [
    {
     "data": {
      "image/png": "[encoded data removed]",
      "text/plain": [
       "<Figure size 432x288 with 1 Axes>"
      ]
     },
     "metadata": {
      "needs_background": "light"
     },
     "output_type": "display_data"
    }
   ],
   "source": [
    "plt.title(\"Distribution of total_amount_usd\")\n",
    "users_data_wout_outliers.total_amount_usd.hist();"
   ]
  },
  {
   "cell_type": "markdown",
   "metadata": {
    "id": "M5prSoGXILUv"
   },
   "source": [
    "## Split data into target and features"
   ]
  },
  {
   "cell_type": "code",
   "execution_count": 15,
   "metadata": {
    "id": "T6NBf51x4yto"
   },
   "outputs": [],
   "source": [
    "# define the target and features\n",
    "# A supervised machine learning algorithm requires both - uses historical data to uncover relationships between other features of your dataset and the target.\n",
    "\n",
    "target_data = users_data_wout_outliers.total_amount_usd \n",
    "features = users_data_wout_outliers.drop([\"user_id\", \"total_amount_usd\"], axis = 1)\n",
    "    "
   ]
  },
  {
   "cell_type": "markdown",
   "metadata": {
    "id": "QUCMvnPHzdY7"
   },
   "source": [
    "## Split data into train and test set"
   ]
  },
  {
   "cell_type": "code",
   "execution_count": 16,
   "metadata": {
    "id": "WRvRz1Ud-ol3"
   },
   "outputs": [],
   "source": [
    "# using this handy function from scikit-learm to split the data into a training and test dataset\n",
    "# we can adjust the test size to our needs, but it's best practise to train the model on 70 - 80% of the data\n",
    "\n",
    "X_train, X_test, y_train, y_test = train_test_split(\n",
    "                                                features, \n",
    "                                                target_data,\n",
    "                                                test_size = 0.3, \n",
    "                                                random_state = 0)\n"
   ]
  },
  {
   "cell_type": "code",
   "execution_count": 17,
   "metadata": {
    "colab": {
     "base_uri": "https://localhost:8080/"
    },
    "id": "LIInYJ5r4zcB",
    "outputId": "4e65045b-807f-4326-a4e0-bab1c7534dc3"
   },
   "outputs": [
    {
     "name": "stdout",
     "output_type": "stream",
     "text": [
      "Training Data\n",
      "(31625, 31)\n",
      "(31625,)\n"
     ]
    }
   ],
   "source": [
    "# print the shape of the training data\n",
    "\n",
    "print(\"Training Data\")\n",
    "print(X_train.shape)\n",
    "print(y_train.shape)"
   ]
  },
  {
   "cell_type": "code",
   "execution_count": 18,
   "metadata": {
    "colab": {
     "base_uri": "https://localhost:8080/"
    },
    "id": "EFXAnHsE1__U",
    "outputId": "12718dda-9d5b-4b64-86c3-55907fe12899"
   },
   "outputs": [
    {
     "data": {
      "text/plain": [
       "count     31625.000000\n",
       "mean       1369.452528\n",
       "std        2744.249300\n",
       "min       -8019.000000\n",
       "25%         160.000000\n",
       "50%         859.000000\n",
       "75%        1369.420000\n",
       "max      102127.000000\n",
       "Name: total_amount_usd, dtype: float64"
      ]
     },
     "execution_count": 18,
     "metadata": {},
     "output_type": "execute_result"
    }
   ],
   "source": [
    "y_train.describe()"
   ]
  },
  {
   "cell_type": "markdown",
   "metadata": {
    "id": "gsqc_Ku38sfD"
   },
   "source": [
    "## Check distribution of test data"
   ]
  },
  {
   "cell_type": "code",
   "execution_count": 19,
   "metadata": {
    "colab": {
     "base_uri": "https://localhost:8080/"
    },
    "id": "d-HJGo5ZKC2h",
    "outputId": "b3ddc3e1-915e-46dd-f006-88a700122c34"
   },
   "outputs": [
    {
     "name": "stdout",
     "output_type": "stream",
     "text": [
      "\n",
      "Test Data\n",
      "(13554, 31)\n",
      "(13554,)\n"
     ]
    }
   ],
   "source": [
    "# print the shape of the test data - we do not oversample the test data\n",
    "\n",
    "print(\"\\nTest Data\")\n",
    "print(X_test.shape)\n",
    "print(y_test.shape)"
   ]
  },
  {
   "cell_type": "code",
   "execution_count": 20,
   "metadata": {
    "colab": {
     "base_uri": "https://localhost:8080/"
    },
    "id": "m9WMLlmHMPyY",
    "outputId": "b697486c-3af3-48c2-e115-59308513debc"
   },
   "outputs": [
    {
     "data": {
      "text/plain": [
       "count    13554.000000\n",
       "mean      1370.448356\n",
       "std       2608.779191\n",
       "min      -3058.000000\n",
       "25%        159.000000\n",
       "50%        870.000000\n",
       "75%       1369.420000\n",
       "max      81204.000000\n",
       "Name: total_amount_usd, dtype: float64"
      ]
     },
     "execution_count": 20,
     "metadata": {},
     "output_type": "execute_result"
    }
   ],
   "source": [
    "# check the distribution of the target \n",
    "\n",
    "y_test.describe()"
   ]
  },
  {
   "cell_type": "markdown",
   "metadata": {
    "id": "Av7lTvpKxfPO"
   },
   "source": [
    "# Gradient Descent Based Algorithms"
   ]
  },
  {
   "cell_type": "markdown",
   "metadata": {
    "id": "tEMK5awzY1OH"
   },
   "source": [
    "## Linear Regression"
   ]
  },
  {
   "cell_type": "markdown",
   "metadata": {
    "id": "srJBAQTmZ5GY"
   },
   "source": [
    "## Scaling the data"
   ]
  },
  {
   "cell_type": "code",
   "execution_count": 21,
   "metadata": {
    "id": "iJt8hr5xZIGn"
   },
   "outputs": [],
   "source": [
    "# Machine learning algorithms that use gradient descent as an optimization technique require data to be scaled.\n",
    "\n",
    "# fit scaler on training data \n",
    "\n",
    "norm = StandardScaler().fit(X_train) # scale the data using is that it will transform your data such that its distribution will have a mean value 0 and standard deviation of 1.\n"
   ]
  },
  {
   "cell_type": "code",
   "execution_count": 22,
   "metadata": {
    "id": "qGTvVEgZZ1bD"
   },
   "outputs": [],
   "source": [
    "# transform training data\n",
    "X_train_norm = norm.transform(X_train)\n",
    "\n",
    "# transform testing data\n",
    "X_test_norm = norm.transform(X_test)"
   ]
  },
  {
   "cell_type": "markdown",
   "metadata": {
    "id": "AAyWzvFwZ-YE"
   },
   "source": [
    "## Training the model"
   ]
  },
  {
   "cell_type": "code",
   "execution_count": 23,
   "metadata": {
    "id": "p7vX0Mngxf-l"
   },
   "outputs": [],
   "source": [
    "# Import the Logistic Regression model from sklearn\n",
    "\n",
    "lr = LinearRegression()"
   ]
  },
  {
   "cell_type": "code",
   "execution_count": 24,
   "metadata": {
    "colab": {
     "base_uri": "https://localhost:8080/"
    },
    "id": "i7EMFerCJKUx",
    "outputId": "df6a884a-f75b-4af2-dec2-6398b41f0323"
   },
   "outputs": [
    {
     "data": {
      "text/plain": [
       "LinearRegression()"
      ]
     },
     "execution_count": 24,
     "metadata": {},
     "output_type": "execute_result"
    }
   ],
   "source": [
    "# Fit the model on the scaled training data\n",
    "\n",
    "lr.fit(X_train, y_train) "
   ]
  },
  {
   "cell_type": "markdown",
   "metadata": {
    "id": "t5hx9ClOdztY"
   },
   "source": [
    "## Making predictions"
   ]
  },
  {
   "cell_type": "code",
   "execution_count": 25,
   "metadata": {
    "colab": {
     "base_uri": "https://localhost:8080/"
    },
    "id": "kZjee1E0QhQb",
    "outputId": "f14d9f00-c0a3-41fb-d7db-65e65601f270"
   },
   "outputs": [
    {
     "name": "stdout",
     "output_type": "stream",
     "text": [
      "[1097.11248693 1428.00518196 1649.86215038 1733.93202197 1501.93608437]\n"
     ]
    }
   ],
   "source": [
    "# Evaluate how well the model predicts on unseen data\n",
    "# You can make predictions on the test data or normalized data\n",
    "\n",
    "y_pred = lr.predict(X_test) \n",
    "print(y_pred[0:5])"
   ]
  },
  {
   "cell_type": "markdown",
   "metadata": {
    "id": "OkjiRUsPKwIY"
   },
   "source": [
    "## Evaluating the model"
   ]
  },
  {
   "cell_type": "code",
   "execution_count": 26,
   "metadata": {
    "colab": {
     "base_uri": "https://localhost:8080/"
    },
    "id": "CFcEcm11R8eH",
    "outputId": "4fd5f97f-6fff-4b0c-c9f0-15f14d248008"
   },
   "outputs": [
    {
     "data": {
      "text/plain": [
       "0.04507764476225817"
      ]
     },
     "execution_count": 26,
     "metadata": {},
     "output_type": "execute_result"
    }
   ],
   "source": [
    "# We will use r2 to evaluating the model performance.\n",
    "# Very simply, r2 \n",
    "\n",
    "r2_score(y_test, y_pred)\n",
    "\n",
    "# R^2 (coefficient of determination) regression score function.\n",
    "# Best possible score is 1.0 and it can be negative (because the model can be arbitrarily worse). \n"
   ]
  },
  {
   "cell_type": "markdown",
   "metadata": {
    "id": "SgekDbycy62j"
   },
   "source": [
    "# Decision Trees and Ensemble Models\n"
   ]
  },
  {
   "cell_type": "markdown",
   "metadata": {
    "id": "96DWJfxdbGcs"
   },
   "source": [
    "Tree-based algorithms are fairly insensitive to the scale of the features. A decision tree is only splitting a node based on a single feature. This split on a feature is not influenced by other features."
   ]
  },
  {
   "cell_type": "markdown",
   "metadata": {
    "id": "IhNosjFUTYUX"
   },
   "source": [
    "## Decision Tree\n"
   ]
  },
  {
   "cell_type": "markdown",
   "metadata": {
    "id": "DVx4jRd9gRgd"
   },
   "source": [
    "## Training the data"
   ]
  },
  {
   "cell_type": "code",
   "execution_count": 27,
   "metadata": {
    "id": "ekWkr9qEy_xT"
   },
   "outputs": [],
   "source": [
    "clf_tree = DecisionTreeRegressor()"
   ]
  },
  {
   "cell_type": "code",
   "execution_count": 28,
   "metadata": {
    "colab": {
     "base_uri": "https://localhost:8080/"
    },
    "id": "w2HcR9OKgEBa",
    "outputId": "59ec8d66-ebc1-4247-d5dd-258f45a078b0"
   },
   "outputs": [
    {
     "data": {
      "text/plain": [
       "DecisionTreeRegressor()"
      ]
     },
     "execution_count": 28,
     "metadata": {},
     "output_type": "execute_result"
    }
   ],
   "source": [
    "clf_tree.fit(X_train, y_train)"
   ]
  },
  {
   "cell_type": "markdown",
   "metadata": {
    "id": "4UEVrk6OgS15"
   },
   "source": [
    "## Making predictions"
   ]
  },
  {
   "cell_type": "code",
   "execution_count": 29,
   "metadata": {
    "colab": {
     "base_uri": "https://localhost:8080/"
    },
    "id": "LXlM9vIugUqA",
    "outputId": "9eee1ad8-50e6-4164-f04c-1481029a76fe"
   },
   "outputs": [
    {
     "name": "stdout",
     "output_type": "stream",
     "text": [
      "[   3.     14.   1369.42 1821.   -568.  ]\n"
     ]
    }
   ],
   "source": [
    "y_pred = clf_tree.predict(X_test)\n",
    "print(y_pred[0:5])"
   ]
  },
  {
   "cell_type": "code",
   "execution_count": 30,
   "metadata": {
    "colab": {
     "base_uri": "https://localhost:8080/"
    },
    "id": "VI9n8Z3YJH_C",
    "outputId": "778c8625-1069-45f2-a8b5-e97d42513184"
   },
   "outputs": [
    {
     "data": {
      "text/plain": [
       "[1196.0, 566.0, 1369.42, 4833.0, 3.0]"
      ]
     },
     "execution_count": 30,
     "metadata": {},
     "output_type": "execute_result"
    }
   ],
   "source": [
    "list(y_test[0:5])"
   ]
  },
  {
   "cell_type": "markdown",
   "metadata": {
    "id": "x8Ul4rz7K-y0"
   },
   "source": [
    "## Evaluating the model "
   ]
  },
  {
   "cell_type": "code",
   "execution_count": 31,
   "metadata": {
    "colab": {
     "base_uri": "https://localhost:8080/"
    },
    "id": "K-VNn5lfgWCT",
    "outputId": "a686ea3c-1736-4d14-d4d1-4a07322737c9"
   },
   "outputs": [
    {
     "data": {
      "text/plain": [
       "-1.418883069880764"
      ]
     },
     "execution_count": 31,
     "metadata": {},
     "output_type": "execute_result"
    }
   ],
   "source": [
    "r2_score(y_test, y_pred)\n",
    "\n",
    "# We are moving away from negative scores. Let's see if using ensemble methods e.g. Random Forest and XGBoost improves the r2."
   ]
  },
  {
   "cell_type": "markdown",
   "metadata": {
    "id": "BN6CIxCnWN9B"
   },
   "source": [
    "## Random Forest"
   ]
  },
  {
   "cell_type": "markdown",
   "metadata": {
    "id": "twj9nwaudi6I"
   },
   "source": [
    "## Training the model"
   ]
  },
  {
   "cell_type": "code",
   "execution_count": 32,
   "metadata": {
    "id": "lQKsWBf6VyHg"
   },
   "outputs": [],
   "source": [
    "# Random forest is an ensemble of decision tree algorithms. \n",
    "# It is an extension of bootstrap aggregation (bagging) of decision trees.\n",
    "\n",
    "rf = RandomForestRegressor()"
   ]
  },
  {
   "cell_type": "code",
   "execution_count": 33,
   "metadata": {
    "colab": {
     "base_uri": "https://localhost:8080/"
    },
    "id": "PeofAxnsWCFe",
    "outputId": "7fb13924-cc25-4e26-932d-ba094d4ed2c5"
   },
   "outputs": [
    {
     "data": {
      "text/plain": [
       "RandomForestRegressor()"
      ]
     },
     "execution_count": 33,
     "metadata": {},
     "output_type": "execute_result"
    }
   ],
   "source": [
    "rf.fit(X_train, y_train)"
   ]
  },
  {
   "cell_type": "markdown",
   "metadata": {
    "id": "hdVf1EwndpgE"
   },
   "source": [
    "## Making predictions"
   ]
  },
  {
   "cell_type": "code",
   "execution_count": 34,
   "metadata": {
    "colab": {
     "base_uri": "https://localhost:8080/"
    },
    "id": "FUSBSEG7WE0P",
    "outputId": "246ceac0-019f-443f-806e-e72632f870aa"
   },
   "outputs": [
    {
     "name": "stdout",
     "output_type": "stream",
     "text": [
      "[1179.53    584.74   1660.4066 2974.52    124.1362]\n"
     ]
    }
   ],
   "source": [
    "y_pred = rf.predict(X_test)\n",
    "print(y_pred[0:5])"
   ]
  },
  {
   "cell_type": "code",
   "execution_count": 35,
   "metadata": {
    "colab": {
     "base_uri": "https://localhost:8080/"
    },
    "id": "_KR49Sh6I_0y",
    "outputId": "09b675fe-b0bd-45ad-9dbe-69dda3788099"
   },
   "outputs": [
    {
     "data": {
      "text/plain": [
       "[1196.0, 566.0, 1369.42, 4833.0, 3.0]"
      ]
     },
     "execution_count": 35,
     "metadata": {},
     "output_type": "execute_result"
    }
   ],
   "source": [
    "list(y_test[0:5])"
   ]
  },
  {
   "cell_type": "markdown",
   "metadata": {
    "id": "q-5B6j47LAye"
   },
   "source": [
    "## Evaluating the model "
   ]
  },
  {
   "cell_type": "code",
   "execution_count": 36,
   "metadata": {
    "colab": {
     "base_uri": "https://localhost:8080/"
    },
    "id": "NWgTc3f7WHuI",
    "outputId": "d00f4aa3-8bb6-473a-a1af-16d81a3f1594"
   },
   "outputs": [
    {
     "data": {
      "text/plain": [
       "-0.042214351556441265"
      ]
     },
     "execution_count": 36,
     "metadata": {},
     "output_type": "execute_result"
    }
   ],
   "source": [
    "r2_score(y_test, y_pred)"
   ]
  },
  {
   "cell_type": "markdown",
   "metadata": {
    "id": "ozvANYN4WLR3"
   },
   "source": [
    "## XGBoost"
   ]
  },
  {
   "cell_type": "markdown",
   "metadata": {
    "id": "NH09v_HndtBg"
   },
   "source": [
    "## Training the model"
   ]
  },
  {
   "cell_type": "code",
   "execution_count": 37,
   "metadata": {
    "id": "67ynShnkTdUf"
   },
   "outputs": [],
   "source": [
    "# The Gradient Boosting Machine is a powerful ensemble machine learning algorithm that uses decision trees. \n",
    "# Boosting is a general ensemble technique that involves sequentially adding models to the ensemble where subsequent models correct the performance of prior models.\n",
    "\n",
    "xgb = XGBRegressor()"
   ]
  },
  {
   "cell_type": "code",
   "execution_count": 38,
   "metadata": {
    "colab": {
     "base_uri": "https://localhost:8080/"
    },
    "id": "BLi_sUkWWWOJ",
    "outputId": "7b0fe70e-3e91-4c87-e976-2dc374d121c0"
   },
   "outputs": [
    {
     "data": {
      "text/plain": [
       "XGBRegressor(base_score=0.5, booster='gbtree', colsample_bylevel=1,\n",
       "             colsample_bynode=1, colsample_bytree=1, enable_categorical=False,\n",
       "             gamma=0, gpu_id=-1, importance_type=None,\n",
       "             interaction_constraints='', learning_rate=0.300000012,\n",
       "             max_delta_step=0, max_depth=6, min_child_weight=1, missing=nan,\n",
       "             monotone_constraints='()', n_estimators=100, n_jobs=12,\n",
       "             num_parallel_tree=1, predictor='auto', random_state=0, reg_alpha=0,\n",
       "             reg_lambda=1, scale_pos_weight=1, subsample=1, tree_method='exact',\n",
       "             validate_parameters=1, verbosity=None)"
      ]
     },
     "execution_count": 38,
     "metadata": {},
     "output_type": "execute_result"
    }
   ],
   "source": [
    "xgb.fit(X_train, y_train)"
   ]
  },
  {
   "cell_type": "markdown",
   "metadata": {
    "id": "d7sHLofidur_"
   },
   "source": [
    "## Making predictions"
   ]
  },
  {
   "cell_type": "code",
   "execution_count": 39,
   "metadata": {
    "colab": {
     "base_uri": "https://localhost:8080/"
    },
    "id": "kQnPd1cfWYwc",
    "outputId": "1d8bcbb2-eb03-4fe2-dac3-9615365e5fd6"
   },
   "outputs": [
    {
     "name": "stdout",
     "output_type": "stream",
     "text": [
      "[1497.7617 1216.2882 1587.3406 2955.8247 -846.58  ]\n"
     ]
    }
   ],
   "source": [
    "y_pred = xgb.predict(X_test)\n",
    "print(y_pred[0:5])"
   ]
  },
  {
   "cell_type": "code",
   "execution_count": 40,
   "metadata": {
    "colab": {
     "base_uri": "https://localhost:8080/"
    },
    "id": "GlWs3_qMKF_T",
    "outputId": "57a62e0f-4ebe-4f7f-bf75-6ecbe38ab3d9"
   },
   "outputs": [
    {
     "data": {
      "text/plain": [
       "[1196.0, 566.0, 1369.42, 4833.0, 3.0]"
      ]
     },
     "execution_count": 40,
     "metadata": {},
     "output_type": "execute_result"
    }
   ],
   "source": [
    "list(y_test[0:5])"
   ]
  },
  {
   "cell_type": "markdown",
   "metadata": {
    "id": "MwKvU_oZLDLj"
   },
   "source": [
    "## Evaluating the model "
   ]
  },
  {
   "cell_type": "code",
   "execution_count": 41,
   "metadata": {
    "colab": {
     "base_uri": "https://localhost:8080/"
    },
    "id": "0vnhLMywWcBO",
    "outputId": "cf482270-44bb-41be-ff24-da63095fdf73"
   },
   "outputs": [
    {
     "data": {
      "text/plain": [
       "0.005087642689349026"
      ]
     },
     "execution_count": 41,
     "metadata": {},
     "output_type": "execute_result"
    }
   ],
   "source": [
    "r2_score(y_test, y_pred)\n",
    "\n",
    "# 0.55, ideally we want the r2 to be closer to 1 but this out performs the other models"
   ]
  },
  {
   "cell_type": "markdown",
   "metadata": {
    "id": "4V1-AgXAJ1Gj"
   },
   "source": [
    "## Comparing the models"
   ]
  },
  {
   "cell_type": "code",
   "execution_count": 42,
   "metadata": {
    "id": "9knwyCJUI3Gq"
   },
   "outputs": [],
   "source": [
    "# model selection\n",
    "models = []\n",
    "\n",
    "# using Dummy Classifier as a baseline algorithm\n",
    "models.append(('Dummy Classifier', DummyRegressor()))\n",
    "\n",
    "# Linear Regression\n",
    "models.append(('Linear Regression', LinearRegression()))\n",
    "\n",
    "# Random Forest model\n",
    "models.append(('Random Forest', RandomForestRegressor()))\n",
    "\n",
    "# XGBoost\n",
    "models.append(('XGBoost', XGBRegressor()))"
   ]
  },
  {
   "cell_type": "code",
   "execution_count": 43,
   "metadata": {
    "colab": {
     "base_uri": "https://localhost:8080/"
    },
    "id": "QfC5XP91yXt4",
    "outputId": "331dc6c1-7768-4aca-f7c1-ded4f4f25a07"
   },
   "outputs": [],
   "source": [
    "# training every model and populating \n",
    "\n",
    "scoring_df = []\n",
    "\n",
    "for name, model in models:\n",
    "    model = model.fit(X_train, y_train)\n",
    "    y_pred = model.predict(X_test)\n",
    "\n",
    "    # the evaluation metrics for the model\n",
    "    r2 = r2_score(y_test, y_pred)\n",
    "    explained_var = explained_variance_score(y_test, y_pred)\n",
    "    mae = mean_absolute_error(y_test, y_pred)\n",
    "    mse = mean_squared_error(y_test, y_pred)\n",
    "\n",
    "    scoring_dict = {'Model Name': name,\n",
    "                    'R2': round(r2, 4), \n",
    "                    'Explained Variance': round(explained_var, 4), \n",
    "                    'Mean Absolute Error': round(mae, 4), \n",
    "                    'Mean Squared Error': round(mse, 4)}\n",
    "\n",
    "    scoring_df.append(scoring_dict)"
   ]
  },
  {
   "cell_type": "markdown",
   "metadata": {
    "id": "HihTSR6f-glX"
   },
   "source": [
    "Evaluation metrics for all models"
   ]
  },
  {
   "cell_type": "code",
   "execution_count": 44,
   "metadata": {
    "colab": {
     "base_uri": "https://localhost:8080/",
     "height": 238
    },
    "id": "SrwL-3ZiI8LV",
    "outputId": "ba9bc15b-28fe-4f52-da05-578bc15bbc0f"
   },
   "outputs": [
    {
     "data": {
      "text/html": [
       "<div>\n",
       "<style scoped>\n",
       "    .dataframe tbody tr th:only-of-type {\n",
       "        vertical-align: middle;\n",
       "    }\n",
       "\n",
       "    .dataframe tbody tr th {\n",
       "        vertical-align: top;\n",
       "    }\n",
       "\n",
       "    .dataframe thead th {\n",
       "        text-align: right;\n",
       "    }\n",
       "</style>\n",
       "<table border=\"1\" class=\"dataframe\">\n",
       "  <thead>\n",
       "    <tr style=\"text-align: right;\">\n",
       "      <th></th>\n",
       "      <th>Model Name</th>\n",
       "      <th>R2</th>\n",
       "      <th>Explained Variance</th>\n",
       "      <th>Mean Absolute Error</th>\n",
       "      <th>Mean Squared Error</th>\n",
       "    </tr>\n",
       "  </thead>\n",
       "  <tbody>\n",
       "    <tr>\n",
       "      <th>1</th>\n",
       "      <td>Linear Regression</td>\n",
       "      <td>0.0451</td>\n",
       "      <td>0.0451</td>\n",
       "      <td>1201.6643</td>\n",
       "      <td>6.498463e+06</td>\n",
       "    </tr>\n",
       "    <tr>\n",
       "      <th>3</th>\n",
       "      <td>XGBoost</td>\n",
       "      <td>0.0051</td>\n",
       "      <td>0.0051</td>\n",
       "      <td>1224.2967</td>\n",
       "      <td>6.770604e+06</td>\n",
       "    </tr>\n",
       "    <tr>\n",
       "      <th>0</th>\n",
       "      <td>Dummy Classifier</td>\n",
       "      <td>-0.0000</td>\n",
       "      <td>0.0000</td>\n",
       "      <td>1214.0860</td>\n",
       "      <td>6.805228e+06</td>\n",
       "    </tr>\n",
       "    <tr>\n",
       "      <th>2</th>\n",
       "      <td>Random Forest</td>\n",
       "      <td>-0.0469</td>\n",
       "      <td>-0.0429</td>\n",
       "      <td>1253.8136</td>\n",
       "      <td>7.124542e+06</td>\n",
       "    </tr>\n",
       "  </tbody>\n",
       "</table>\n",
       "</div>"
      ],
      "text/plain": [
       "          Model Name      R2  Explained Variance  Mean Absolute Error  \\\n",
       "1  Linear Regression  0.0451              0.0451            1201.6643   \n",
       "3            XGBoost  0.0051              0.0051            1224.2967   \n",
       "0   Dummy Classifier -0.0000              0.0000            1214.0860   \n",
       "2      Random Forest -0.0469             -0.0429            1253.8136   \n",
       "\n",
       "   Mean Squared Error  \n",
       "1        6.498463e+06  \n",
       "3        6.770604e+06  \n",
       "0        6.805228e+06  \n",
       "2        7.124542e+06  "
      ]
     },
     "execution_count": 44,
     "metadata": {},
     "output_type": "execute_result"
    }
   ],
   "source": [
    "scoring_df = pd.DataFrame(scoring_df)\n",
    "\n",
    "scoring_df.sort_values(by = \"R2\", ascending = False)"
   ]
  },
  {
   "cell_type": "markdown",
   "metadata": {
    "id": "unciq90izXa_"
   },
   "source": [
    "### Evaluating the Best Model"
   ]
  },
  {
   "cell_type": "code",
   "execution_count": 45,
   "metadata": {
    "colab": {
     "base_uri": "https://localhost:8080/"
    },
    "id": "UstdSpjkBZk1",
    "outputId": "55ac9267-c114-4427-d21f-9751d98fa602"
   },
   "outputs": [
    {
     "name": "stdout",
     "output_type": "stream",
     "text": [
      "[1497.7617 1216.2882 1587.3406 2955.8247 -846.58  ]\n"
     ]
    }
   ],
   "source": [
    "# the best model is the XGBoost model, which has the highest accuracy and f1-score\n",
    "# should not accept models with AUC less than 0.5 \n",
    "\n",
    "# train the best model \n",
    "\n",
    "best_model = XGBRegressor()\n",
    "best_model.fit(X_train, y_train)\n",
    "y_pred = best_model.predict(X_test)\n",
    "print(y_pred[0:5])"
   ]
  },
  {
   "cell_type": "markdown",
   "metadata": {
    "id": "3ldcFPwR9_98"
   },
   "source": [
    "## Residual Plots"
   ]
  },
  {
   "cell_type": "code",
   "execution_count": 46,
   "metadata": {
    "colab": {
     "base_uri": "https://localhost:8080/",
     "height": 295
    },
    "id": "aZO9EKuc2CbR",
    "outputId": "10e3bb70-b3e9-4a1a-ad08-f54e17c7c98f"
   },
   "outputs": [
    {
     "data": {
      "image/png": "[encoded data removed]",
      "text/plain": [
       "<Figure size 432x288 with 1 Axes>"
      ]
     },
     "metadata": {
      "needs_background": "light"
     },
     "output_type": "display_data"
    }
   ],
   "source": [
    "residuals = y_test - y_pred\n",
    "\n",
    "plt.scatter(residuals, y_pred)\n",
    "plt.title(\"Residual Plot\")\n",
    "plt.xlabel(\"Residuals\")\n",
    "plt.ylabel(\"Predicted Value\")\n",
    "plt.show();"
   ]
  },
  {
   "cell_type": "markdown",
   "metadata": {
    "id": "gaqFRU74kxxt"
   },
   "source": [
    "## Feature Importance Plot"
   ]
  },
  {
   "cell_type": "code",
   "execution_count": 47,
   "metadata": {
    "id": "Qp_p5YT_hIFi"
   },
   "outputs": [],
   "source": [
    "def feature_importance_plot(model, X_train, n):\n",
    "    \"\"\"Plots feature importance - this only works for Random Forest and XGBoost Models\"\"\"\n",
    "    plt.figure(figsize=(8, 5)) # set figure size\n",
    "    feat_importances = pd.Series(model.feature_importances_,\n",
    "                                 index = X_train.columns)\n",
    "    feat_importances.nlargest(n).plot(kind = 'barh')\n",
    "    plt.title(f\"Top {n} Features\")\n",
    "    plt.show()"
   ]
  },
  {
   "cell_type": "code",
   "execution_count": 48,
   "metadata": {
    "colab": {
     "base_uri": "https://localhost:8080/",
     "height": 336
    },
    "id": "omDPYPABCGTF",
    "outputId": "f70e3848-eb2f-42a7-933e-783ddaaa09df"
   },
   "outputs": [
    {
     "data": {
      "image/png": "[encoded data removed]",
      "text/plain": [
       "<Figure size 576x360 with 1 Axes>"
      ]
     },
     "metadata": {
      "needs_background": "light"
     },
     "output_type": "display_data"
    }
   ],
   "source": [
    "# plots feature importance - need to define # of features we are interested in\n",
    "# to improve model performance, can remove redundant features\n",
    "\n",
    "feature_importance_plot(best_model, X_train, 5)"
   ]
  },
  {
   "cell_type": "markdown",
   "metadata": {
    "id": "-ZyVqfujkWZO"
   },
   "source": [
    "Learning Curves"
   ]
  },
  {
   "cell_type": "code",
   "execution_count": 49,
   "metadata": {
    "id": "5nc5BMxl6oP8"
   },
   "outputs": [],
   "source": [
    "def plot_learning_curves(model, X_train, y_train):\n",
    "    \"\"\"Plots learning curves for model validation\"\"\"\n",
    "    plt.figure(figsize=(5, 5)) # set figure size\n",
    "    train_sizes, train_scores, test_scores = learning_curve(\n",
    "        model,\n",
    "        X_train,\n",
    "        y_train,\n",
    "        # Number of folds in cross-validation\n",
    "        cv = 5,\n",
    "        # Evaluation metric\n",
    "        scoring = 'r2',\n",
    "        # Use all computer cores\n",
    "        n_jobs = -1,\n",
    "        shuffle = True,\n",
    "        # 5 different sizes of the training set\n",
    "        train_sizes = np.linspace(0.01, 1.0, 5))\n",
    "\n",
    "    # Create means and standard deviations of training set scores\n",
    "    train_mean = np.mean(train_scores, axis = 1)\n",
    "    train_std = np.std(train_scores, axis = 1)\n",
    "\n",
    "    # Create means and standard deviations of test set scores\n",
    "    test_mean = np.mean(test_scores, axis = 1)\n",
    "    test_std = np.std(test_scores, axis = 1)\n",
    "\n",
    "    # Draw lines\n",
    "    plt.plot(train_sizes, train_mean, '--', color = \"#111111\", label = \"Training score\")\n",
    "    plt.plot(train_sizes, test_mean, color = \"#111111\", label = \"Cross-validation score\")\n",
    "\n",
    "    # Draw bands\n",
    "    plt.fill_between(train_sizes, train_mean - train_std, train_mean + train_std, color = \"#DDDDDD\")\n",
    "    plt.fill_between(train_sizes, test_mean - test_std, test_mean + test_std, color = \"#DDDDDD\")\n",
    "\n",
    "    # Create plot\n",
    "    plt.title(\"Learning Curves\")\n",
    "    plt.xlabel(\"Training Set Size\"), plt.ylabel(\"Accuracy Score\"), plt.legend(loc = \"best\")\n",
    "    plt.tight_layout()\n",
    "    \n",
    "\n",
    "    plt.show()"
   ]
  },
  {
   "cell_type": "code",
   "execution_count": 50,
   "metadata": {
    "colab": {
     "base_uri": "https://localhost:8080/",
     "height": 369
    },
    "id": "wrKQoTlzlhS_",
    "outputId": "5fc184dd-267d-429e-f71f-7a23fccff711"
   },
   "outputs": [
    {
     "data": {
      "image/png": "[encoded data removed]",
      "text/plain": [
       "<Figure size 360x360 with 1 Axes>"
      ]
     },
     "metadata": {
      "needs_background": "light"
     },
     "output_type": "display_data"
    }
   ],
   "source": [
    "# A learning curve is a plot of model learning performance over experience or time. \n",
    "# Learning curves are a widely used diagnostic tool in machine learning for algorithms that learn from a training dataset incrementally. \n",
    "\n",
    "plot_learning_curves(best_model, X_train, y_train)\n"
   ]
  }
 ],
 "metadata": {
  "colab": {
   "provenance": [],
   "toc_visible": true
  },
  "kernelspec": {
   "display_name": "Python 3",
   "language": "python",
   "name": "python3"
  },
  "language_info": {
   "codemirror_mode": {
    "name": "ipython",
    "version": 3
   },
   "file_extension": ".py",
   "mimetype": "text/x-python",
   "name": "python",
   "nbconvert_exporter": "python",
   "pygments_lexer": "ipython3",
   "version": "3.8.10"
  }
 },
 "nbformat": 4,
 "nbformat_minor": 1
}
