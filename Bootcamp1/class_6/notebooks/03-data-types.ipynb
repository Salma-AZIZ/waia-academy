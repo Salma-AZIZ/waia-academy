{
 "cells": [
  {
   "cell_type": "code",
   "execution_count": 1,
   "id": "7e84dcd1",
   "metadata": {},
   "outputs": [
    {
     "data": {
      "text/plain": [
       "['Raga', 'Sarah', 'Faith']"
      ]
     },
     "execution_count": 1,
     "metadata": {},
     "output_type": "execute_result"
    }
   ],
   "source": [
    "# created a list called names\n",
    "\n",
    "names = ['Raga', 'Sarah', 'Faith']\n",
    "names"
   ]
  },
  {
   "cell_type": "code",
   "execution_count": 2,
   "id": "b55d7072",
   "metadata": {},
   "outputs": [
    {
     "data": {
      "text/plain": [
       "list"
      ]
     },
     "execution_count": 2,
     "metadata": {},
     "output_type": "execute_result"
    }
   ],
   "source": [
    "# printing the type of the variable names\n",
    "\n",
    "type(names)"
   ]
  },
  {
   "cell_type": "code",
   "execution_count": 5,
   "id": "0c5c3521",
   "metadata": {},
   "outputs": [],
   "source": [
    "# created a dictionary called names_dict\n",
    "\n",
    "names_dict = {'names':['Raga', 'Sarah', 'Faith'],\n",
    "'occupation': ['Student', 'Teacher', 'Student']\n",
    "}"
   ]
  },
  {
   "cell_type": "code",
   "execution_count": 6,
   "id": "2a8b8a3c",
   "metadata": {},
   "outputs": [
    {
     "data": {
      "text/plain": [
       "dict"
      ]
     },
     "execution_count": 6,
     "metadata": {},
     "output_type": "execute_result"
    }
   ],
   "source": [
    "# printing the type of the variable names_dict\n",
    "\n",
    "type(names_dict)"
   ]
  },
  {
   "cell_type": "code",
   "execution_count": 7,
   "id": "12b7462f",
   "metadata": {},
   "outputs": [
    {
     "data": {
      "text/plain": [
       "{'names': ['Raga', 'Sarah', 'Faith'],\n",
       " 'occupation': ['Student', 'Teacher', 'Student']}"
      ]
     },
     "execution_count": 7,
     "metadata": {},
     "output_type": "execute_result"
    }
   ],
   "source": [
    "# outputting the variable names_dict\n",
    "\n",
    "names_dict"
   ]
  }
 ],
 "metadata": {
  "kernelspec": {
   "display_name": "Python 3",
   "language": "python",
   "name": "python3"
  },
  "language_info": {
   "codemirror_mode": {
    "name": "ipython",
    "version": 3
   },
   "file_extension": ".py",
   "mimetype": "text/x-python",
   "name": "python",
   "nbconvert_exporter": "python",
   "pygments_lexer": "ipython3",
   "version": "3.8.10"
  }
 },
 "nbformat": 4,
 "nbformat_minor": 5
}
