{
 "cells": [
  {
   "cell_type": "code",
   "execution_count": 1,
   "id": "001d8451",
   "metadata": {},
   "outputs": [],
   "source": [
    "# import the pandas library\n",
    "\n",
    "import pandas as pd"
   ]
  },
  {
   "cell_type": "code",
   "execution_count": 2,
   "id": "d19ed226",
   "metadata": {},
   "outputs": [],
   "source": [
    "# create a dictionary with names and corresponding age. Wrap this dictonary as a Data Frame and store as the variable sample_df\n",
    "\n",
    "sample_df = pd.DataFrame({\"name\": [\"Sarah\", \"Bob\"], \n",
    "                 \"age\": [34, 100]})"
   ]
  },
  {
   "cell_type": "code",
   "execution_count": 3,
   "id": "3eb253b2",
   "metadata": {},
   "outputs": [
    {
     "data": {
      "text/html": [
       "<div>\n",
       "<style scoped>\n",
       "    .dataframe tbody tr th:only-of-type {\n",
       "        vertical-align: middle;\n",
       "    }\n",
       "\n",
       "    .dataframe tbody tr th {\n",
       "        vertical-align: top;\n",
       "    }\n",
       "\n",
       "    .dataframe thead th {\n",
       "        text-align: right;\n",
       "    }\n",
       "</style>\n",
       "<table border=\"1\" class=\"dataframe\">\n",
       "  <thead>\n",
       "    <tr style=\"text-align: right;\">\n",
       "      <th></th>\n",
       "      <th>name</th>\n",
       "      <th>age</th>\n",
       "    </tr>\n",
       "  </thead>\n",
       "  <tbody>\n",
       "    <tr>\n",
       "      <th>0</th>\n",
       "      <td>Sarah</td>\n",
       "      <td>34</td>\n",
       "    </tr>\n",
       "    <tr>\n",
       "      <th>1</th>\n",
       "      <td>Bob</td>\n",
       "      <td>100</td>\n",
       "    </tr>\n",
       "  </tbody>\n",
       "</table>\n",
       "</div>"
      ],
      "text/plain": [
       "    name  age\n",
       "0  Sarah   34\n",
       "1    Bob  100"
      ]
     },
     "execution_count": 3,
     "metadata": {},
     "output_type": "execute_result"
    }
   ],
   "source": [
    "# view the output of the sample_df variables\n",
    "\n",
    "sample_df"
   ]
  },
  {
   "cell_type": "code",
   "execution_count": 4,
   "id": "cd2a344a",
   "metadata": {},
   "outputs": [],
   "source": [
    "# save the Data Frame sample_df as a .csv file in the data folder\n",
    "\n",
    "sample_df.to_csv(\"../data/sample_file.csv\", index = False)\n",
    "\n",
    "# check the data folder contains a file called sample_file.csv"
   ]
  }
 ],
 "metadata": {
  "kernelspec": {
   "display_name": "Python 3",
   "language": "python",
   "name": "python3"
  },
  "language_info": {
   "codemirror_mode": {
    "name": "ipython",
    "version": 3
   },
   "file_extension": ".py",
   "mimetype": "text/x-python",
   "name": "python",
   "nbconvert_exporter": "python",
   "pygments_lexer": "ipython3",
   "version": "3.8.10"
  }
 },
 "nbformat": 4,
 "nbformat_minor": 5
}
