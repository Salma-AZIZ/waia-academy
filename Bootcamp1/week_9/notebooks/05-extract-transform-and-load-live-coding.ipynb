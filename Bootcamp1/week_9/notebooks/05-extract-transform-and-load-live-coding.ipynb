{
 "cells": [
  {
   "cell_type": "markdown",
   "id": "e74ded95",
   "metadata": {},
   "source": [
    "We are going to extract data from redshift and carry out the following transformation tasks\n",
    "- remove all cases where customer id is missing (yes)\n",
    "- remove all duplicate data (yes)\n",
    "- replace missing stock description and where ? with Unknown (yes)\n",
    "- fix data type (yes)\n",
    "- remove certain stock codes (yes)\n",
    "- add description to the table (yes)"
   ]
  },
  {
   "cell_type": "code",
   "execution_count": 54,
   "id": "f0d863be",
   "metadata": {},
   "outputs": [],
   "source": [
    "# import the libraries we need\n",
    "\n",
    "import psycopg2\n",
    "import pandas as pd\n",
    "\n",
    "import boto3\n",
    "from io import StringIO\n",
    "\n",
    "import warnings\n",
    "warnings.filterwarnings(\"ignore\")\n"
   ]
  },
  {
   "cell_type": "markdown",
   "id": "2f2f43f4",
   "metadata": {},
   "source": [
    "## Extracting Data"
   ]
  },
  {
   "cell_type": "code",
   "execution_count": 3,
   "id": "2a1256c4",
   "metadata": {},
   "outputs": [],
   "source": [
    "# NEVER share passwords\n",
    "\n",
    "dbname = \"dev\"\n",
    "host = \"\"\n",
    "port = 5439\n",
    "user = \"\"\n",
    "password = \"\""
   ]
  },
  {
   "cell_type": "code",
   "execution_count": 4,
   "id": "efeca610",
   "metadata": {},
   "outputs": [],
   "source": [
    "# connect to redshift\n",
    "\n",
    "def connect_to_redshift(dbname, host, port, user, password):\n",
    "    \"\"\"connect to redshift\"\"\"\n",
    "\n",
    "    connect = psycopg2.connect(\n",
    "            dbname=dbname, host=host, port=port, user=user, password=password\n",
    "        )\n",
    "\n",
    "    cursor = connect.cursor()\n",
    "    \n",
    "    print(\"connection to redshift made\")\n",
    "    \n",
    "    return connect, cursor"
   ]
  },
  {
   "cell_type": "code",
   "execution_count": 5,
   "id": "cffb7d55",
   "metadata": {},
   "outputs": [
    {
     "name": "stdout",
     "output_type": "stream",
     "text": [
      "connection to redshift made\n"
     ]
    }
   ],
   "source": [
    "connect, cursor = connect_to_redshift(dbname, host, port, user, password)"
   ]
  },
  {
   "cell_type": "code",
   "execution_count": 7,
   "id": "043cc8ad",
   "metadata": {},
   "outputs": [
    {
     "data": {
      "text/html": [
       "<div>\n",
       "<style scoped>\n",
       "    .dataframe tbody tr th:only-of-type {\n",
       "        vertical-align: middle;\n",
       "    }\n",
       "\n",
       "    .dataframe tbody tr th {\n",
       "        vertical-align: top;\n",
       "    }\n",
       "\n",
       "    .dataframe thead th {\n",
       "        text-align: right;\n",
       "    }\n",
       "</style>\n",
       "<table border=\"1\" class=\"dataframe\">\n",
       "  <thead>\n",
       "    <tr style=\"text-align: right;\">\n",
       "      <th></th>\n",
       "      <th>stock_code</th>\n",
       "      <th>description</th>\n",
       "    </tr>\n",
       "  </thead>\n",
       "  <tbody>\n",
       "    <tr>\n",
       "      <th>0</th>\n",
       "      <td>10002</td>\n",
       "      <td>INFLATABLE POLITICAL GLOBE</td>\n",
       "    </tr>\n",
       "    <tr>\n",
       "      <th>1</th>\n",
       "      <td>10080</td>\n",
       "      <td>GROOVY CACTUS INFLATABLE</td>\n",
       "    </tr>\n",
       "    <tr>\n",
       "      <th>2</th>\n",
       "      <td>10120</td>\n",
       "      <td>DOGGY RUBBER</td>\n",
       "    </tr>\n",
       "    <tr>\n",
       "      <th>3</th>\n",
       "      <td>10123C</td>\n",
       "      <td>HEARTS WRAPPING TAPE</td>\n",
       "    </tr>\n",
       "    <tr>\n",
       "      <th>4</th>\n",
       "      <td>10124A</td>\n",
       "      <td>SPOTS ON RED BOOKCOVER TAPE</td>\n",
       "    </tr>\n",
       "    <tr>\n",
       "      <th>5</th>\n",
       "      <td>10124G</td>\n",
       "      <td>ARMY CAMO BOOKCOVER TAPE</td>\n",
       "    </tr>\n",
       "    <tr>\n",
       "      <th>6</th>\n",
       "      <td>10125</td>\n",
       "      <td>MINI FUNKY DESIGN TAPES</td>\n",
       "    </tr>\n",
       "    <tr>\n",
       "      <th>7</th>\n",
       "      <td>10133</td>\n",
       "      <td>COLOURING PENCILS BROWN TUBE</td>\n",
       "    </tr>\n",
       "    <tr>\n",
       "      <th>8</th>\n",
       "      <td>10135</td>\n",
       "      <td>COLOURING PENCILS BROWN TUBE</td>\n",
       "    </tr>\n",
       "    <tr>\n",
       "      <th>9</th>\n",
       "      <td>11001</td>\n",
       "      <td>ASSTD DESIGN RACING CAR PEN</td>\n",
       "    </tr>\n",
       "  </tbody>\n",
       "</table>\n",
       "</div>"
      ],
      "text/plain": [
       "  stock_code                   description\n",
       "0      10002   INFLATABLE POLITICAL GLOBE \n",
       "1      10080      GROOVY CACTUS INFLATABLE\n",
       "2      10120                  DOGGY RUBBER\n",
       "3     10123C         HEARTS WRAPPING TAPE \n",
       "4     10124A   SPOTS ON RED BOOKCOVER TAPE\n",
       "5     10124G      ARMY CAMO BOOKCOVER TAPE\n",
       "6      10125       MINI FUNKY DESIGN TAPES\n",
       "7      10133  COLOURING PENCILS BROWN TUBE\n",
       "8      10135  COLOURING PENCILS BROWN TUBE\n",
       "9      11001   ASSTD DESIGN RACING CAR PEN"
      ]
     },
     "execution_count": 7,
     "metadata": {},
     "output_type": "execute_result"
    }
   ],
   "source": [
    "query = \"\"\"select *\n",
    "from bootcamp1.stock_description\n",
    "limit 10\n",
    "\"\"\"\n",
    "\n",
    "pd.read_sql(query, connect)"
   ]
  },
  {
   "cell_type": "code",
   "execution_count": 22,
   "id": "750a7391",
   "metadata": {},
   "outputs": [
    {
     "data": {
      "text/html": [
       "<div>\n",
       "<style scoped>\n",
       "    .dataframe tbody tr th:only-of-type {\n",
       "        vertical-align: middle;\n",
       "    }\n",
       "\n",
       "    .dataframe tbody tr th {\n",
       "        vertical-align: top;\n",
       "    }\n",
       "\n",
       "    .dataframe thead th {\n",
       "        text-align: right;\n",
       "    }\n",
       "</style>\n",
       "<table border=\"1\" class=\"dataframe\">\n",
       "  <thead>\n",
       "    <tr style=\"text-align: right;\">\n",
       "      <th></th>\n",
       "      <th>invoice</th>\n",
       "      <th>stock_code</th>\n",
       "      <th>quantity</th>\n",
       "      <th>invoice_date</th>\n",
       "      <th>price</th>\n",
       "      <th>customer_id</th>\n",
       "      <th>country</th>\n",
       "      <th>description</th>\n",
       "    </tr>\n",
       "  </thead>\n",
       "  <tbody>\n",
       "    <tr>\n",
       "      <th>0</th>\n",
       "      <td>536365</td>\n",
       "      <td>84029G</td>\n",
       "      <td>6</td>\n",
       "      <td>2010-12-01 08:26:00</td>\n",
       "      <td>3.39</td>\n",
       "      <td>u1785</td>\n",
       "      <td>United Kingdom</td>\n",
       "      <td>KNITTED UNION FLAG HOT WATER BOTTLE</td>\n",
       "    </tr>\n",
       "    <tr>\n",
       "      <th>1</th>\n",
       "      <td>536366</td>\n",
       "      <td>22633</td>\n",
       "      <td>6</td>\n",
       "      <td>2010-12-01 08:28:00</td>\n",
       "      <td>1.85</td>\n",
       "      <td>u1785</td>\n",
       "      <td>United Kingdom</td>\n",
       "      <td>HAND WARMER UNION JACK</td>\n",
       "    </tr>\n",
       "    <tr>\n",
       "      <th>2</th>\n",
       "      <td>536368</td>\n",
       "      <td>22912</td>\n",
       "      <td>3</td>\n",
       "      <td>2010-12-01 08:34:00</td>\n",
       "      <td>4.95</td>\n",
       "      <td>u13047</td>\n",
       "      <td>United Kingdom</td>\n",
       "      <td>YELLOW COAT RACK PARIS FASHION</td>\n",
       "    </tr>\n",
       "    <tr>\n",
       "      <th>3</th>\n",
       "      <td>536367</td>\n",
       "      <td>22748</td>\n",
       "      <td>6</td>\n",
       "      <td>2010-12-01 08:34:00</td>\n",
       "      <td>2.10</td>\n",
       "      <td>u13047</td>\n",
       "      <td>United Kingdom</td>\n",
       "      <td>POPPY'S PLAYHOUSE KITCHEN</td>\n",
       "    </tr>\n",
       "    <tr>\n",
       "      <th>4</th>\n",
       "      <td>536367</td>\n",
       "      <td>22623</td>\n",
       "      <td>3</td>\n",
       "      <td>2010-12-01 08:34:00</td>\n",
       "      <td>4.95</td>\n",
       "      <td>u13047</td>\n",
       "      <td>United Kingdom</td>\n",
       "      <td>BOX OF VINTAGE JIGSAW BLOCKS</td>\n",
       "    </tr>\n",
       "  </tbody>\n",
       "</table>\n",
       "</div>"
      ],
      "text/plain": [
       "  invoice stock_code  quantity         invoice_date  price customer_id  \\\n",
       "0  536365     84029G         6  2010-12-01 08:26:00   3.39       u1785   \n",
       "1  536366      22633         6  2010-12-01 08:28:00   1.85       u1785   \n",
       "2  536368      22912         3  2010-12-01 08:34:00   4.95      u13047   \n",
       "3  536367      22748         6  2010-12-01 08:34:00   2.10      u13047   \n",
       "4  536367      22623         3  2010-12-01 08:34:00   4.95      u13047   \n",
       "\n",
       "          country                          description  \n",
       "0  United Kingdom  KNITTED UNION FLAG HOT WATER BOTTLE  \n",
       "1  United Kingdom               HAND WARMER UNION JACK  \n",
       "2  United Kingdom       YELLOW COAT RACK PARIS FASHION  \n",
       "3  United Kingdom            POPPY'S PLAYHOUSE KITCHEN  \n",
       "4  United Kingdom        BOX OF VINTAGE JIGSAW BLOCKS   "
      ]
     },
     "execution_count": 22,
     "metadata": {},
     "output_type": "execute_result"
    }
   ],
   "source": [
    "# extracts data from redshift\n",
    "# joins the description field to the online transactions table\n",
    "# removes invoices where customer id is blank\n",
    "# removes invoices where stock code is in bank charges, postages etc...\n",
    "\n",
    "query = \"\"\"\n",
    "select o.*,\n",
    "       s.description\n",
    "from bootcamp1.online_transactions o\n",
    "left join bootcamp1.stock_description s on o.stock_code = s.stock_code\n",
    "where o.customer_id <> ''\n",
    "    and o.stock_code not in ('BANK CHARGES', 'POSTAGE', 'D', 'M', 'CRUK')\n",
    "\"\"\"\n",
    "\n",
    "online_trans_w_desc = pd.read_sql(query, connect)\n",
    "online_trans_w_desc.head()"
   ]
  },
  {
   "cell_type": "code",
   "execution_count": 24,
   "id": "a447d2ac",
   "metadata": {},
   "outputs": [
    {
     "data": {
      "text/html": [
       "<div>\n",
       "<style scoped>\n",
       "    .dataframe tbody tr th:only-of-type {\n",
       "        vertical-align: middle;\n",
       "    }\n",
       "\n",
       "    .dataframe tbody tr th {\n",
       "        vertical-align: top;\n",
       "    }\n",
       "\n",
       "    .dataframe thead th {\n",
       "        text-align: right;\n",
       "    }\n",
       "</style>\n",
       "<table border=\"1\" class=\"dataframe\">\n",
       "  <thead>\n",
       "    <tr style=\"text-align: right;\">\n",
       "      <th></th>\n",
       "      <th>invoice</th>\n",
       "      <th>stock_code</th>\n",
       "      <th>quantity</th>\n",
       "      <th>invoice_date</th>\n",
       "      <th>price</th>\n",
       "      <th>customer_id</th>\n",
       "      <th>country</th>\n",
       "      <th>description</th>\n",
       "    </tr>\n",
       "  </thead>\n",
       "  <tbody>\n",
       "  </tbody>\n",
       "</table>\n",
       "</div>"
      ],
      "text/plain": [
       "Empty DataFrame\n",
       "Columns: [invoice, stock_code, quantity, invoice_date, price, customer_id, country, description]\n",
       "Index: []"
      ]
     },
     "execution_count": 24,
     "metadata": {},
     "output_type": "execute_result"
    }
   ],
   "source": [
    "online_trans_w_desc[online_trans_w_desc.customer_id == '']\n",
    "\n",
    "# we have no cases of missing customer ids"
   ]
  },
  {
   "cell_type": "code",
   "execution_count": 20,
   "id": "5106d406",
   "metadata": {},
   "outputs": [
    {
     "data": {
      "text/plain": [
       "pandas.core.frame.DataFrame"
      ]
     },
     "execution_count": 20,
     "metadata": {},
     "output_type": "execute_result"
    }
   ],
   "source": [
    "type(online_trans_w_desc)"
   ]
  },
  {
   "cell_type": "code",
   "execution_count": 21,
   "id": "378ebb14",
   "metadata": {},
   "outputs": [
    {
     "data": {
      "text/plain": [
       "(414119, 8)"
      ]
     },
     "execution_count": 21,
     "metadata": {},
     "output_type": "execute_result"
    }
   ],
   "source": [
    "online_trans_w_desc.shape\n",
    "\n",
    "# dropped from 54k rows to 41k rows, and increased the number of columns by ome"
   ]
  },
  {
   "cell_type": "markdown",
   "id": "fc2c6de4",
   "metadata": {},
   "source": [
    "## Transforming Data"
   ]
  },
  {
   "cell_type": "markdown",
   "id": "5afed3e7",
   "metadata": {},
   "source": [
    "### Removing duplicated data"
   ]
  },
  {
   "cell_type": "code",
   "execution_count": 26,
   "id": "0667cc82",
   "metadata": {},
   "outputs": [
    {
     "data": {
      "text/plain": [
       "5303"
      ]
     },
     "execution_count": 26,
     "metadata": {},
     "output_type": "execute_result"
    }
   ],
   "source": [
    "# task 1 - Remove duplicated data\n",
    "\n",
    "online_trans_w_desc.duplicated().sum()"
   ]
  },
  {
   "cell_type": "code",
   "execution_count": 28,
   "id": "818a3427",
   "metadata": {},
   "outputs": [
    {
     "data": {
      "text/html": [
       "<div>\n",
       "<style scoped>\n",
       "    .dataframe tbody tr th:only-of-type {\n",
       "        vertical-align: middle;\n",
       "    }\n",
       "\n",
       "    .dataframe tbody tr th {\n",
       "        vertical-align: top;\n",
       "    }\n",
       "\n",
       "    .dataframe thead th {\n",
       "        text-align: right;\n",
       "    }\n",
       "</style>\n",
       "<table border=\"1\" class=\"dataframe\">\n",
       "  <thead>\n",
       "    <tr style=\"text-align: right;\">\n",
       "      <th></th>\n",
       "      <th>invoice</th>\n",
       "      <th>stock_code</th>\n",
       "      <th>quantity</th>\n",
       "      <th>invoice_date</th>\n",
       "      <th>price</th>\n",
       "      <th>customer_id</th>\n",
       "      <th>country</th>\n",
       "      <th>description</th>\n",
       "    </tr>\n",
       "  </thead>\n",
       "  <tbody>\n",
       "    <tr>\n",
       "      <th>319</th>\n",
       "      <td>536412</td>\n",
       "      <td>22327</td>\n",
       "      <td>1</td>\n",
       "      <td>2010-12-01 11:49:00</td>\n",
       "      <td>2.95</td>\n",
       "      <td>u1792</td>\n",
       "      <td>United Kingdom</td>\n",
       "      <td>ROUND SNACK BOXES SET OF 4 SKULLS</td>\n",
       "    </tr>\n",
       "    <tr>\n",
       "      <th>327</th>\n",
       "      <td>536412</td>\n",
       "      <td>22273</td>\n",
       "      <td>1</td>\n",
       "      <td>2010-12-01 11:49:00</td>\n",
       "      <td>2.95</td>\n",
       "      <td>u1792</td>\n",
       "      <td>United Kingdom</td>\n",
       "      <td>FELTCRAFT DOLL MOLLY</td>\n",
       "    </tr>\n",
       "    <tr>\n",
       "      <th>332</th>\n",
       "      <td>536412</td>\n",
       "      <td>21708</td>\n",
       "      <td>1</td>\n",
       "      <td>2010-12-01 11:49:00</td>\n",
       "      <td>4.95</td>\n",
       "      <td>u1792</td>\n",
       "      <td>United Kingdom</td>\n",
       "      <td>FOLDING UMBRELLA CREAM POLKADOT</td>\n",
       "    </tr>\n",
       "    <tr>\n",
       "      <th>334</th>\n",
       "      <td>536412</td>\n",
       "      <td>85184C</td>\n",
       "      <td>1</td>\n",
       "      <td>2010-12-01 11:49:00</td>\n",
       "      <td>2.95</td>\n",
       "      <td>u1792</td>\n",
       "      <td>United Kingdom</td>\n",
       "      <td>SET 4 VALENTINE DECOUPAGE HEART BOX</td>\n",
       "    </tr>\n",
       "    <tr>\n",
       "      <th>395</th>\n",
       "      <td>536464</td>\n",
       "      <td>21992</td>\n",
       "      <td>1</td>\n",
       "      <td>2010-12-01 12:23:00</td>\n",
       "      <td>2.95</td>\n",
       "      <td>u17968</td>\n",
       "      <td>United Kingdom</td>\n",
       "      <td>VINTAGE PAISLEY STATIONERY SET</td>\n",
       "    </tr>\n",
       "    <tr>\n",
       "      <th>...</th>\n",
       "      <td>...</td>\n",
       "      <td>...</td>\n",
       "      <td>...</td>\n",
       "      <td>...</td>\n",
       "      <td>...</td>\n",
       "      <td>...</td>\n",
       "      <td>...</td>\n",
       "      <td>...</td>\n",
       "    </tr>\n",
       "    <tr>\n",
       "      <th>413936</th>\n",
       "      <td>581471</td>\n",
       "      <td>21411</td>\n",
       "      <td>2</td>\n",
       "      <td>2011-12-08 19:29:00</td>\n",
       "      <td>1.95</td>\n",
       "      <td>u14702</td>\n",
       "      <td>United Kingdom</td>\n",
       "      <td>GINGHAM HEART  DOORSTOP RED</td>\n",
       "    </tr>\n",
       "    <tr>\n",
       "      <th>414044</th>\n",
       "      <td>581514</td>\n",
       "      <td>22075</td>\n",
       "      <td>24</td>\n",
       "      <td>2011-12-09 11:20:00</td>\n",
       "      <td>0.39</td>\n",
       "      <td>u17754</td>\n",
       "      <td>United Kingdom</td>\n",
       "      <td>6 RIBBONS ELEGANT CHRISTMAS</td>\n",
       "    </tr>\n",
       "    <tr>\n",
       "      <th>414055</th>\n",
       "      <td>581538</td>\n",
       "      <td>23275</td>\n",
       "      <td>1</td>\n",
       "      <td>2011-12-09 11:34:00</td>\n",
       "      <td>1.25</td>\n",
       "      <td>u14446</td>\n",
       "      <td>United Kingdom</td>\n",
       "      <td>SET OF 3 HANGING OWLS OLLIE BEAK</td>\n",
       "    </tr>\n",
       "    <tr>\n",
       "      <th>414060</th>\n",
       "      <td>581538</td>\n",
       "      <td>22068</td>\n",
       "      <td>1</td>\n",
       "      <td>2011-12-09 11:34:00</td>\n",
       "      <td>0.39</td>\n",
       "      <td>u14446</td>\n",
       "      <td>United Kingdom</td>\n",
       "      <td>BLACK PIRATE TREASURE CHEST</td>\n",
       "    </tr>\n",
       "    <tr>\n",
       "      <th>414066</th>\n",
       "      <td>581538</td>\n",
       "      <td>22694</td>\n",
       "      <td>1</td>\n",
       "      <td>2011-12-09 11:34:00</td>\n",
       "      <td>2.10</td>\n",
       "      <td>u14446</td>\n",
       "      <td>United Kingdom</td>\n",
       "      <td>WICKER STAR</td>\n",
       "    </tr>\n",
       "  </tbody>\n",
       "</table>\n",
       "<p>5303 rows × 8 columns</p>\n",
       "</div>"
      ],
      "text/plain": [
       "       invoice stock_code  quantity         invoice_date  price customer_id  \\\n",
       "319     536412      22327         1  2010-12-01 11:49:00   2.95       u1792   \n",
       "327     536412      22273         1  2010-12-01 11:49:00   2.95       u1792   \n",
       "332     536412      21708         1  2010-12-01 11:49:00   4.95       u1792   \n",
       "334     536412     85184C         1  2010-12-01 11:49:00   2.95       u1792   \n",
       "395     536464      21992         1  2010-12-01 12:23:00   2.95      u17968   \n",
       "...        ...        ...       ...                  ...    ...         ...   \n",
       "413936  581471      21411         2  2011-12-08 19:29:00   1.95      u14702   \n",
       "414044  581514      22075        24  2011-12-09 11:20:00   0.39      u17754   \n",
       "414055  581538      23275         1  2011-12-09 11:34:00   1.25      u14446   \n",
       "414060  581538      22068         1  2011-12-09 11:34:00   0.39      u14446   \n",
       "414066  581538      22694         1  2011-12-09 11:34:00   2.10      u14446   \n",
       "\n",
       "               country                          description  \n",
       "319     United Kingdom    ROUND SNACK BOXES SET OF 4 SKULLS  \n",
       "327     United Kingdom                 FELTCRAFT DOLL MOLLY  \n",
       "332     United Kingdom      FOLDING UMBRELLA CREAM POLKADOT  \n",
       "334     United Kingdom  SET 4 VALENTINE DECOUPAGE HEART BOX  \n",
       "395     United Kingdom       VINTAGE PAISLEY STATIONERY SET  \n",
       "...                ...                                  ...  \n",
       "413936  United Kingdom          GINGHAM HEART  DOORSTOP RED  \n",
       "414044  United Kingdom         6 RIBBONS ELEGANT CHRISTMAS   \n",
       "414055  United Kingdom     SET OF 3 HANGING OWLS OLLIE BEAK  \n",
       "414060  United Kingdom          BLACK PIRATE TREASURE CHEST  \n",
       "414066  United Kingdom                         WICKER STAR   \n",
       "\n",
       "[5303 rows x 8 columns]"
      ]
     },
     "execution_count": 28,
     "metadata": {},
     "output_type": "execute_result"
    }
   ],
   "source": [
    "online_trans_w_desc[online_trans_w_desc.duplicated()]"
   ]
  },
  {
   "cell_type": "code",
   "execution_count": 30,
   "id": "eb90caef",
   "metadata": {},
   "outputs": [
    {
     "data": {
      "text/html": [
       "<div>\n",
       "<style scoped>\n",
       "    .dataframe tbody tr th:only-of-type {\n",
       "        vertical-align: middle;\n",
       "    }\n",
       "\n",
       "    .dataframe tbody tr th {\n",
       "        vertical-align: top;\n",
       "    }\n",
       "\n",
       "    .dataframe thead th {\n",
       "        text-align: right;\n",
       "    }\n",
       "</style>\n",
       "<table border=\"1\" class=\"dataframe\">\n",
       "  <thead>\n",
       "    <tr style=\"text-align: right;\">\n",
       "      <th></th>\n",
       "      <th>invoice</th>\n",
       "      <th>stock_code</th>\n",
       "      <th>quantity</th>\n",
       "      <th>invoice_date</th>\n",
       "      <th>price</th>\n",
       "      <th>customer_id</th>\n",
       "      <th>country</th>\n",
       "      <th>description</th>\n",
       "    </tr>\n",
       "  </thead>\n",
       "  <tbody>\n",
       "    <tr>\n",
       "      <th>0</th>\n",
       "      <td>536365</td>\n",
       "      <td>84029G</td>\n",
       "      <td>6</td>\n",
       "      <td>2010-12-01 08:26:00</td>\n",
       "      <td>3.39</td>\n",
       "      <td>u1785</td>\n",
       "      <td>United Kingdom</td>\n",
       "      <td>KNITTED UNION FLAG HOT WATER BOTTLE</td>\n",
       "    </tr>\n",
       "    <tr>\n",
       "      <th>1</th>\n",
       "      <td>536366</td>\n",
       "      <td>22633</td>\n",
       "      <td>6</td>\n",
       "      <td>2010-12-01 08:28:00</td>\n",
       "      <td>1.85</td>\n",
       "      <td>u1785</td>\n",
       "      <td>United Kingdom</td>\n",
       "      <td>HAND WARMER UNION JACK</td>\n",
       "    </tr>\n",
       "    <tr>\n",
       "      <th>2</th>\n",
       "      <td>536368</td>\n",
       "      <td>22912</td>\n",
       "      <td>3</td>\n",
       "      <td>2010-12-01 08:34:00</td>\n",
       "      <td>4.95</td>\n",
       "      <td>u13047</td>\n",
       "      <td>United Kingdom</td>\n",
       "      <td>YELLOW COAT RACK PARIS FASHION</td>\n",
       "    </tr>\n",
       "    <tr>\n",
       "      <th>3</th>\n",
       "      <td>536367</td>\n",
       "      <td>22748</td>\n",
       "      <td>6</td>\n",
       "      <td>2010-12-01 08:34:00</td>\n",
       "      <td>2.10</td>\n",
       "      <td>u13047</td>\n",
       "      <td>United Kingdom</td>\n",
       "      <td>POPPY'S PLAYHOUSE KITCHEN</td>\n",
       "    </tr>\n",
       "    <tr>\n",
       "      <th>4</th>\n",
       "      <td>536367</td>\n",
       "      <td>22623</td>\n",
       "      <td>3</td>\n",
       "      <td>2010-12-01 08:34:00</td>\n",
       "      <td>4.95</td>\n",
       "      <td>u13047</td>\n",
       "      <td>United Kingdom</td>\n",
       "      <td>BOX OF VINTAGE JIGSAW BLOCKS</td>\n",
       "    </tr>\n",
       "  </tbody>\n",
       "</table>\n",
       "</div>"
      ],
      "text/plain": [
       "  invoice stock_code  quantity         invoice_date  price customer_id  \\\n",
       "0  536365     84029G         6  2010-12-01 08:26:00   3.39       u1785   \n",
       "1  536366      22633         6  2010-12-01 08:28:00   1.85       u1785   \n",
       "2  536368      22912         3  2010-12-01 08:34:00   4.95      u13047   \n",
       "3  536367      22748         6  2010-12-01 08:34:00   2.10      u13047   \n",
       "4  536367      22623         3  2010-12-01 08:34:00   4.95      u13047   \n",
       "\n",
       "          country                          description  \n",
       "0  United Kingdom  KNITTED UNION FLAG HOT WATER BOTTLE  \n",
       "1  United Kingdom               HAND WARMER UNION JACK  \n",
       "2  United Kingdom       YELLOW COAT RACK PARIS FASHION  \n",
       "3  United Kingdom            POPPY'S PLAYHOUSE KITCHEN  \n",
       "4  United Kingdom        BOX OF VINTAGE JIGSAW BLOCKS   "
      ]
     },
     "execution_count": 30,
     "metadata": {},
     "output_type": "execute_result"
    }
   ],
   "source": [
    "# code to only keep the first appearance of a duplicated row\n",
    "\n",
    "online_trans_cleaned = online_trans_w_desc.drop_duplicates(keep = 'first')\n",
    "online_trans_cleaned.head()"
   ]
  },
  {
   "cell_type": "code",
   "execution_count": 31,
   "id": "d1d55b30",
   "metadata": {},
   "outputs": [
    {
     "data": {
      "text/plain": [
       "0"
      ]
     },
     "execution_count": 31,
     "metadata": {},
     "output_type": "execute_result"
    }
   ],
   "source": [
    "# no duplicated rows of data anymore\n",
    "\n",
    "online_trans_cleaned.duplicated().sum()"
   ]
  },
  {
   "cell_type": "code",
   "execution_count": 55,
   "id": "fdccd412",
   "metadata": {},
   "outputs": [
    {
     "name": "stdout",
     "output_type": "stream",
     "text": [
      "(414119, 8)\n",
      "(408816, 8)\n"
     ]
    }
   ],
   "source": [
    "print(online_trans_w_desc.shape)\n",
    "print(online_trans_cleaned.shape)"
   ]
  },
  {
   "cell_type": "markdown",
   "id": "b00d3d0f",
   "metadata": {},
   "source": [
    "### Fixing the invoice date data type"
   ]
  },
  {
   "cell_type": "code",
   "execution_count": 32,
   "id": "bba46e18",
   "metadata": {},
   "outputs": [
    {
     "name": "stdout",
     "output_type": "stream",
     "text": [
      "<class 'pandas.core.frame.DataFrame'>\n",
      "Int64Index: 408816 entries, 0 to 414118\n",
      "Data columns (total 8 columns):\n",
      " #   Column        Non-Null Count   Dtype  \n",
      "---  ------        --------------   -----  \n",
      " 0   invoice       408816 non-null  object \n",
      " 1   stock_code    408816 non-null  object \n",
      " 2   quantity      408816 non-null  int64  \n",
      " 3   invoice_date  408816 non-null  object \n",
      " 4   price         408816 non-null  float64\n",
      " 5   customer_id   408816 non-null  object \n",
      " 6   country       408816 non-null  object \n",
      " 7   description   407644 non-null  object \n",
      "dtypes: float64(1), int64(1), object(6)\n",
      "memory usage: 28.1+ MB\n"
     ]
    }
   ],
   "source": [
    "online_trans_cleaned.info()"
   ]
  },
  {
   "cell_type": "code",
   "execution_count": 56,
   "id": "27470550",
   "metadata": {},
   "outputs": [
    {
     "data": {
      "text/plain": [
       "0        2010-12-01 08:26:00\n",
       "1        2010-12-01 08:28:00\n",
       "2        2010-12-01 08:34:00\n",
       "3        2010-12-01 08:34:00\n",
       "4        2010-12-01 08:34:00\n",
       "                 ...        \n",
       "414114   2011-12-09 12:49:00\n",
       "414115   2011-12-09 12:50:00\n",
       "414116   2011-12-09 12:50:00\n",
       "414117   2011-12-09 12:50:00\n",
       "414118   2011-12-09 12:50:00\n",
       "Name: invoice_date, Length: 408816, dtype: datetime64[ns]"
      ]
     },
     "execution_count": 56,
     "metadata": {},
     "output_type": "execute_result"
    }
   ],
   "source": [
    "# transformation task # 2 - fix the invoice data\n",
    "\n",
    "online_trans_cleaned.invoice_date = pd.to_datetime(online_trans_cleaned.invoice_date, \n",
    "                                                   format = \"%Y-%m-%d\")\n",
    "online_trans_cleaned.invoice_date"
   ]
  },
  {
   "cell_type": "code",
   "execution_count": 57,
   "id": "d2f51fb4",
   "metadata": {},
   "outputs": [
    {
     "name": "stdout",
     "output_type": "stream",
     "text": [
      "<class 'pandas.core.frame.DataFrame'>\n",
      "Int64Index: 408816 entries, 0 to 414118\n",
      "Data columns (total 8 columns):\n",
      " #   Column        Non-Null Count   Dtype         \n",
      "---  ------        --------------   -----         \n",
      " 0   invoice       408816 non-null  object        \n",
      " 1   stock_code    408816 non-null  object        \n",
      " 2   quantity      408816 non-null  int64         \n",
      " 3   invoice_date  408816 non-null  datetime64[ns]\n",
      " 4   price         408816 non-null  float64       \n",
      " 5   customer_id   408816 non-null  object        \n",
      " 6   country       408816 non-null  object        \n",
      " 7   description   408816 non-null  object        \n",
      "dtypes: datetime64[ns](1), float64(1), int64(1), object(5)\n",
      "memory usage: 28.1+ MB\n"
     ]
    }
   ],
   "source": [
    "online_trans_cleaned.info()\n",
    "\n",
    "# the invoice date is now a data type datetime64"
   ]
  },
  {
   "cell_type": "markdown",
   "id": "a68848c7",
   "metadata": {},
   "source": [
    "### Replacing missing description values with Unknown "
   ]
  },
  {
   "cell_type": "code",
   "execution_count": 58,
   "id": "5dc57a70",
   "metadata": {},
   "outputs": [
    {
     "data": {
      "text/plain": [
       "invoice         0\n",
       "stock_code      0\n",
       "quantity        0\n",
       "invoice_date    0\n",
       "price           0\n",
       "customer_id     0\n",
       "country         0\n",
       "description     0\n",
       "dtype: int64"
      ]
     },
     "execution_count": 58,
     "metadata": {},
     "output_type": "execute_result"
    }
   ],
   "source": [
    "online_trans_cleaned.isna().sum()"
   ]
  },
  {
   "cell_type": "code",
   "execution_count": 59,
   "id": "88c839f3",
   "metadata": {},
   "outputs": [],
   "source": [
    "# replace missing descriptions with Unknown\n",
    "\n",
    "online_trans_cleaned.description.fillna(\"Unknown\", inplace = True)"
   ]
  },
  {
   "cell_type": "code",
   "execution_count": 60,
   "id": "7de0fc82",
   "metadata": {},
   "outputs": [
    {
     "data": {
      "text/plain": [
       "invoice         0\n",
       "stock_code      0\n",
       "quantity        0\n",
       "invoice_date    0\n",
       "price           0\n",
       "customer_id     0\n",
       "country         0\n",
       "description     0\n",
       "dtype: int64"
      ]
     },
     "execution_count": 60,
     "metadata": {},
     "output_type": "execute_result"
    }
   ],
   "source": [
    "# check there are no missing descriptions\n",
    "\n",
    "online_trans_cleaned.isnull().sum()"
   ]
  },
  {
   "cell_type": "code",
   "execution_count": 61,
   "id": "0c26bced",
   "metadata": {},
   "outputs": [],
   "source": [
    "# replace the descriptions with ? with Unknown\n",
    "\n",
    "online_trans_cleaned.description.replace(\"?\", \"Unknown\", inplace = True)\n"
   ]
  },
  {
   "cell_type": "code",
   "execution_count": 62,
   "id": "c4c29a6a",
   "metadata": {},
   "outputs": [
    {
     "data": {
      "text/plain": [
       "Unknown                               8950\n",
       "CREAM HANGING HEART T-LIGHT HOLDER    2065\n",
       "REGENCY CAKESTAND 3 TIER              1894\n",
       "JUMBO BAG RED RETROSPOT               1659\n",
       "PARTY BUNTING                         1409\n",
       "                                      ... \n",
       "TEA TIME BREAKFAST BASKET                1\n",
       "PINK FLOCK PHOTO FRAME                   1\n",
       "DIAMANTE NECKLACE                        1\n",
       "HAPPY BIRTHDAY CARD TEDDY/CAKE           1\n",
       "LETTER \"W\" BLING KEY RING                1\n",
       "Name: description, Length: 3645, dtype: int64"
      ]
     },
     "execution_count": 62,
     "metadata": {},
     "output_type": "execute_result"
    }
   ],
   "source": [
    "online_trans_cleaned.description.value_counts()"
   ]
  },
  {
   "cell_type": "code",
   "execution_count": 63,
   "id": "ff0297ec",
   "metadata": {},
   "outputs": [
    {
     "data": {
      "text/html": [
       "<div>\n",
       "<style scoped>\n",
       "    .dataframe tbody tr th:only-of-type {\n",
       "        vertical-align: middle;\n",
       "    }\n",
       "\n",
       "    .dataframe tbody tr th {\n",
       "        vertical-align: top;\n",
       "    }\n",
       "\n",
       "    .dataframe thead th {\n",
       "        text-align: right;\n",
       "    }\n",
       "</style>\n",
       "<table border=\"1\" class=\"dataframe\">\n",
       "  <thead>\n",
       "    <tr style=\"text-align: right;\">\n",
       "      <th></th>\n",
       "      <th>invoice</th>\n",
       "      <th>stock_code</th>\n",
       "      <th>quantity</th>\n",
       "      <th>invoice_date</th>\n",
       "      <th>price</th>\n",
       "      <th>customer_id</th>\n",
       "      <th>country</th>\n",
       "      <th>description</th>\n",
       "    </tr>\n",
       "  </thead>\n",
       "  <tbody>\n",
       "  </tbody>\n",
       "</table>\n",
       "</div>"
      ],
      "text/plain": [
       "Empty DataFrame\n",
       "Columns: [invoice, stock_code, quantity, invoice_date, price, customer_id, country, description]\n",
       "Index: []"
      ]
     },
     "execution_count": 63,
     "metadata": {},
     "output_type": "execute_result"
    }
   ],
   "source": [
    "online_trans_cleaned[online_trans_cleaned.description == \"?\"]\n",
    "\n",
    "# replace the ? with Unknown"
   ]
  },
  {
   "cell_type": "code",
   "execution_count": 64,
   "id": "55495254",
   "metadata": {},
   "outputs": [
    {
     "data": {
      "text/html": [
       "<div>\n",
       "<style scoped>\n",
       "    .dataframe tbody tr th:only-of-type {\n",
       "        vertical-align: middle;\n",
       "    }\n",
       "\n",
       "    .dataframe tbody tr th {\n",
       "        vertical-align: top;\n",
       "    }\n",
       "\n",
       "    .dataframe thead th {\n",
       "        text-align: right;\n",
       "    }\n",
       "</style>\n",
       "<table border=\"1\" class=\"dataframe\">\n",
       "  <thead>\n",
       "    <tr style=\"text-align: right;\">\n",
       "      <th></th>\n",
       "      <th>quantity</th>\n",
       "      <th>price</th>\n",
       "    </tr>\n",
       "  </thead>\n",
       "  <tbody>\n",
       "    <tr>\n",
       "      <th>count</th>\n",
       "      <td>408816.000000</td>\n",
       "      <td>408816.000000</td>\n",
       "    </tr>\n",
       "    <tr>\n",
       "      <th>mean</th>\n",
       "      <td>12.136416</td>\n",
       "      <td>3.097694</td>\n",
       "    </tr>\n",
       "    <tr>\n",
       "      <th>std</th>\n",
       "      <td>248.046315</td>\n",
       "      <td>19.564586</td>\n",
       "    </tr>\n",
       "    <tr>\n",
       "      <th>min</th>\n",
       "      <td>-80995.000000</td>\n",
       "      <td>0.000000</td>\n",
       "    </tr>\n",
       "    <tr>\n",
       "      <th>25%</th>\n",
       "      <td>2.000000</td>\n",
       "      <td>1.250000</td>\n",
       "    </tr>\n",
       "    <tr>\n",
       "      <th>50%</th>\n",
       "      <td>5.000000</td>\n",
       "      <td>1.950000</td>\n",
       "    </tr>\n",
       "    <tr>\n",
       "      <th>75%</th>\n",
       "      <td>12.000000</td>\n",
       "      <td>3.750000</td>\n",
       "    </tr>\n",
       "    <tr>\n",
       "      <th>max</th>\n",
       "      <td>80995.000000</td>\n",
       "      <td>8142.750000</td>\n",
       "    </tr>\n",
       "  </tbody>\n",
       "</table>\n",
       "</div>"
      ],
      "text/plain": [
       "            quantity          price\n",
       "count  408816.000000  408816.000000\n",
       "mean       12.136416       3.097694\n",
       "std       248.046315      19.564586\n",
       "min    -80995.000000       0.000000\n",
       "25%         2.000000       1.250000\n",
       "50%         5.000000       1.950000\n",
       "75%        12.000000       3.750000\n",
       "max     80995.000000    8142.750000"
      ]
     },
     "execution_count": 64,
     "metadata": {},
     "output_type": "execute_result"
    }
   ],
   "source": [
    "online_trans_cleaned.describe()"
   ]
  },
  {
   "cell_type": "markdown",
   "id": "5d23b7f8",
   "metadata": {},
   "source": [
    "## Loading Data to s3 and redshift "
   ]
  },
  {
   "cell_type": "code",
   "execution_count": 16,
   "id": "c07c254a",
   "metadata": {},
   "outputs": [],
   "source": [
    "# load the online_transactions_final data frame to s3\n",
    "\n",
    "# connect to s3\n",
    "\n",
    "AWS_ACCESS_KEY_ID = \"\"\n",
    "AWS_SECRET_ACCESS_KEY = \"\"\n",
    "\n",
    "s3_client = boto3.client(\n",
    "    \"s3\",\n",
    "    aws_access_key_id=AWS_ACCESS_KEY_ID,\n",
    "    aws_secret_access_key=AWS_SECRET_ACCESS_KEY\n",
    ")\n"
   ]
  },
  {
   "cell_type": "code",
   "execution_count": 17,
   "id": "d9b55c5c",
   "metadata": {},
   "outputs": [],
   "source": [
    "def df_to_s3(df, key, s3_bucket):\n",
    "    \"\"\"Function that writes a data frame as a .csv file to an s3 bucket\"\"\"\n",
    "\n",
    "    csv_buffer = StringIO() # create buffer to temporarily store the Data Frame\n",
    "\n",
    "    df.to_csv(csv_buffer, index=False) # code to write the data frame as csv file\n",
    "\n",
    "    response = s3_client.put_object(\n",
    "            Bucket=s3_bucket, Key=key, Body=csv_buffer.getvalue()\n",
    "        ) # this code writes the temp stored csv file and writes to s3\n",
    "\n",
    "    print(\"Dataframe is saved as CSV in S3 bucket.\") # prints a statement to let us know the file has been written\n"
   ]
  },
  {
   "cell_type": "code",
   "execution_count": 18,
   "id": "5e323f2f",
   "metadata": {},
   "outputs": [
    {
     "name": "stdout",
     "output_type": "stream",
     "text": [
      "Dataframe is saved as CSV in S3 bucket.\n"
     ]
    }
   ],
   "source": [
    "# load table from s3 to redshift\n",
    "\n",
    "AWS_S3_BUCKET = \"waia-data-dump\"\n",
    "key = \"online_transactions_transformation/sh_online_w_description.csv\"\n",
    "\n",
    "# write the file to s3 bucket\n",
    "\n",
    "df_to_s3(online_transactions_final, key, AWS_S3_BUCKET)"
   ]
  },
  {
   "cell_type": "code",
   "execution_count": 20,
   "id": "014dee45",
   "metadata": {},
   "outputs": [],
   "source": [
    "# close the connection\n",
    "\n",
    "connect.close()\n"
   ]
  },
  {
   "cell_type": "markdown",
   "id": "f0e033ff",
   "metadata": {},
   "source": [
    "### Check we carried out all the tasks"
   ]
  },
  {
   "cell_type": "code",
   "execution_count": 26,
   "id": "101ccc54",
   "metadata": {},
   "outputs": [
    {
     "name": "stdout",
     "output_type": "stream",
     "text": [
      "connection to redshift made\n"
     ]
    },
    {
     "data": {
      "text/html": [
       "<div>\n",
       "<style scoped>\n",
       "    .dataframe tbody tr th:only-of-type {\n",
       "        vertical-align: middle;\n",
       "    }\n",
       "\n",
       "    .dataframe tbody tr th {\n",
       "        vertical-align: top;\n",
       "    }\n",
       "\n",
       "    .dataframe thead th {\n",
       "        text-align: right;\n",
       "    }\n",
       "</style>\n",
       "<table border=\"1\" class=\"dataframe\">\n",
       "  <thead>\n",
       "    <tr style=\"text-align: right;\">\n",
       "      <th></th>\n",
       "      <th>count</th>\n",
       "    </tr>\n",
       "  </thead>\n",
       "  <tbody>\n",
       "    <tr>\n",
       "      <th>0</th>\n",
       "      <td>408816</td>\n",
       "    </tr>\n",
       "  </tbody>\n",
       "</table>\n",
       "</div>"
      ],
      "text/plain": [
       "    count\n",
       "0  408816"
      ]
     },
     "execution_count": 26,
     "metadata": {},
     "output_type": "execute_result"
    }
   ],
   "source": [
    "# option 1 - read the file from s3, check the code from day3\n",
    "\n",
    "# option 2- I loaded the changes to a table called online_transactions_cleaned\n",
    "\n",
    "# check the new table we created and all the transformation tasks have been carried out\n",
    "connect, cursor = connect_to_redshift(dbname, host, port, user, password)\n",
    "\n",
    "query = \"\"\"select *\n",
    "           from bootcamp1.online_transactions_cleaned\n",
    "           limit 100\n",
    "           \"\"\"\n",
    "\n",
    "test = pd.read_sql(query, connect)\n",
    "test.info()"
   ]
  },
  {
   "cell_type": "code",
   "execution_count": null,
   "id": "3b3a0e02",
   "metadata": {},
   "outputs": [],
   "source": [
    "# make sure all transformations are in place\n",
    "# anything else?!"
   ]
  }
 ],
 "metadata": {
  "kernelspec": {
   "display_name": "Python 3",
   "language": "python",
   "name": "python3"
  },
  "language_info": {
   "codemirror_mode": {
    "name": "ipython",
    "version": 3
   },
   "file_extension": ".py",
   "mimetype": "text/x-python",
   "name": "python",
   "nbconvert_exporter": "python",
   "pygments_lexer": "ipython3",
   "version": "3.8.10"
  }
 },
 "nbformat": 4,
 "nbformat_minor": 5
}
