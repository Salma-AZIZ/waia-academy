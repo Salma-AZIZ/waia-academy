{
 "cells": [
  {
   "cell_type": "code",
   "execution_count": 1,
   "metadata": {
    "id": "79fjx5fxY0xx"
   },
   "outputs": [],
   "source": [
    "# import the libraries needed\n",
    "\n",
    "import pandas as pd\n",
    "import numpy as np\n",
    "import seaborn as sns\n",
    "import matplotlib.pyplot as plt\n",
    "import sqlite3"
   ]
  },
  {
   "cell_type": "markdown",
   "metadata": {
    "id": "UrzSv_5Pq7B-"
   },
   "source": [
    "### Conect to the database"
   ]
  },
  {
   "cell_type": "code",
   "execution_count": 2,
   "metadata": {
    "id": "PJXb6KJeAtwg"
   },
   "outputs": [],
   "source": [
    "# connect to database\n",
    "\n",
    "conn = sqlite3.connect('../data/prod_sample.db')"
   ]
  },
  {
   "cell_type": "code",
   "execution_count": 3,
   "metadata": {
    "colab": {
     "base_uri": "https://localhost:8080/"
    },
    "id": "HSJZKGAmj0Y1",
    "outputId": "c497db6c-921a-4a6d-c40b-68ee52f6b516"
   },
   "outputs": [
    {
     "data": {
      "text/plain": [
       "<sqlite3.Connection at 0x13cf4e210>"
      ]
     },
     "execution_count": 3,
     "metadata": {},
     "output_type": "execute_result"
    }
   ],
   "source": [
    "conn"
   ]
  },
  {
   "cell_type": "code",
   "execution_count": 4,
   "metadata": {
    "colab": {
     "base_uri": "https://localhost:8080/"
    },
    "id": "NRS84Yf0bVUx",
    "outputId": "01434a76-33e4-4c10-900d-90aa9fc9f397"
   },
   "outputs": [
    {
     "name": "stdout",
     "output_type": "stream",
     "text": [
      "[('stock_description',), ('online_retail_history',)]\n"
     ]
    }
   ],
   "source": [
    "# identify tables in database\n",
    "\n",
    "cursor = conn.cursor()\n",
    "cursor.execute(\"SELECT name FROM sqlite_master WHERE type='table';\")\n",
    "print(cursor.fetchall())"
   ]
  },
  {
   "cell_type": "markdown",
   "metadata": {
    "id": "5S63TeSxVoTN"
   },
   "source": [
    "### Online Retail History Table Exploration"
   ]
  },
  {
   "cell_type": "code",
   "execution_count": 30,
   "metadata": {
    "id": "bwx7-C_lCx5Z"
   },
   "outputs": [
    {
     "data": {
      "text/html": [
       "<div>\n",
       "<style scoped>\n",
       "    .dataframe tbody tr th:only-of-type {\n",
       "        vertical-align: middle;\n",
       "    }\n",
       "\n",
       "    .dataframe tbody tr th {\n",
       "        vertical-align: top;\n",
       "    }\n",
       "\n",
       "    .dataframe thead th {\n",
       "        text-align: right;\n",
       "    }\n",
       "</style>\n",
       "<table border=\"1\" class=\"dataframe\">\n",
       "  <thead>\n",
       "    <tr style=\"text-align: right;\">\n",
       "      <th></th>\n",
       "      <th>Invoice</th>\n",
       "      <th>StockCode</th>\n",
       "      <th>Quantity</th>\n",
       "      <th>InvoiceDate</th>\n",
       "      <th>Price</th>\n",
       "      <th>CustomerID</th>\n",
       "      <th>Country</th>\n",
       "    </tr>\n",
       "  </thead>\n",
       "  <tbody>\n",
       "    <tr>\n",
       "      <th>0</th>\n",
       "      <td>536365</td>\n",
       "      <td>85123A</td>\n",
       "      <td>6</td>\n",
       "      <td>2010-12-01 08:26:00</td>\n",
       "      <td>2.55</td>\n",
       "      <td>u1785</td>\n",
       "      <td>United Kingdom</td>\n",
       "    </tr>\n",
       "    <tr>\n",
       "      <th>1</th>\n",
       "      <td>536365</td>\n",
       "      <td>71053</td>\n",
       "      <td>6</td>\n",
       "      <td>2010-12-01 08:26:00</td>\n",
       "      <td>3.39</td>\n",
       "      <td>u1785</td>\n",
       "      <td>United Kingdom</td>\n",
       "    </tr>\n",
       "    <tr>\n",
       "      <th>2</th>\n",
       "      <td>536365</td>\n",
       "      <td>84406B</td>\n",
       "      <td>8</td>\n",
       "      <td>2010-12-01 08:26:00</td>\n",
       "      <td>2.75</td>\n",
       "      <td>u1785</td>\n",
       "      <td>United Kingdom</td>\n",
       "    </tr>\n",
       "    <tr>\n",
       "      <th>3</th>\n",
       "      <td>536365</td>\n",
       "      <td>84029G</td>\n",
       "      <td>6</td>\n",
       "      <td>2010-12-01 08:26:00</td>\n",
       "      <td>3.39</td>\n",
       "      <td>u1785</td>\n",
       "      <td>United Kingdom</td>\n",
       "    </tr>\n",
       "    <tr>\n",
       "      <th>4</th>\n",
       "      <td>536365</td>\n",
       "      <td>84029E</td>\n",
       "      <td>6</td>\n",
       "      <td>2010-12-01 08:26:00</td>\n",
       "      <td>3.39</td>\n",
       "      <td>u1785</td>\n",
       "      <td>United Kingdom</td>\n",
       "    </tr>\n",
       "  </tbody>\n",
       "</table>\n",
       "</div>"
      ],
      "text/plain": [
       "  Invoice StockCode  Quantity          InvoiceDate  Price CustomerID  \\\n",
       "0  536365    85123A         6  2010-12-01 08:26:00   2.55      u1785   \n",
       "1  536365     71053         6  2010-12-01 08:26:00   3.39      u1785   \n",
       "2  536365    84406B         8  2010-12-01 08:26:00   2.75      u1785   \n",
       "3  536365    84029G         6  2010-12-01 08:26:00   3.39      u1785   \n",
       "4  536365    84029E         6  2010-12-01 08:26:00   3.39      u1785   \n",
       "\n",
       "          Country  \n",
       "0  United Kingdom  \n",
       "1  United Kingdom  \n",
       "2  United Kingdom  \n",
       "3  United Kingdom  \n",
       "4  United Kingdom  "
      ]
     },
     "execution_count": 30,
     "metadata": {},
     "output_type": "execute_result"
    }
   ],
   "source": [
    "# write sql query to select online retail history data\n",
    "\n",
    "query = \"\"\"select *\n",
    "          from online_retail_history\n",
    "          where CustomerID is not null\n",
    "           and Price < 7\n",
    "           and Quantity > 0\n",
    "           and Quantity < 50\n",
    "\"\"\"\n",
    "\n",
    "online_retail_history = pd.read_sql(query, conn)\n",
    "online_retail_history.head()\n"
   ]
  },
  {
   "cell_type": "code",
   "execution_count": 31,
   "metadata": {},
   "outputs": [
    {
     "name": "stdout",
     "output_type": "stream",
     "text": [
      "<class 'pandas.core.frame.DataFrame'>\n",
      "RangeIndex: 349922 entries, 0 to 349921\n",
      "Data columns (total 7 columns):\n",
      " #   Column       Non-Null Count   Dtype  \n",
      "---  ------       --------------   -----  \n",
      " 0   Invoice      349922 non-null  object \n",
      " 1   StockCode    349922 non-null  object \n",
      " 2   Quantity     349922 non-null  int64  \n",
      " 3   InvoiceDate  349922 non-null  object \n",
      " 4   Price        349922 non-null  float64\n",
      " 5   CustomerID   349922 non-null  object \n",
      " 6   Country      349922 non-null  object \n",
      "dtypes: float64(1), int64(1), object(5)\n",
      "memory usage: 18.7+ MB\n"
     ]
    }
   ],
   "source": [
    "# structure of the data\n",
    "\n",
    "online_retail_history.info()"
   ]
  },
  {
   "cell_type": "code",
   "execution_count": 32,
   "metadata": {},
   "outputs": [
    {
     "data": {
      "text/plain": [
       "(349922, 7)"
      ]
     },
     "execution_count": 32,
     "metadata": {},
     "output_type": "execute_result"
    }
   ],
   "source": [
    "# dimension of data\n",
    "\n",
    "online_retail_history.shape"
   ]
  },
  {
   "cell_type": "code",
   "execution_count": 33,
   "metadata": {},
   "outputs": [
    {
     "data": {
      "image/png": "[encoded data removed]",
      "text/plain": [
       "<Figure size 432x288 with 1 Axes>"
      ]
     },
     "metadata": {
      "needs_background": "light"
     },
     "output_type": "display_data"
    }
   ],
   "source": [
    "# distribution of Price\n",
    "\n",
    "online_retail_history.Price.hist()\n",
    "plt.title(\"Distribution of Price\");"
   ]
  },
  {
   "cell_type": "code",
   "execution_count": 34,
   "metadata": {},
   "outputs": [
    {
     "data": {
      "text/plain": [
       "count    349922.000000\n",
       "mean          2.142553\n",
       "std           1.511949\n",
       "min           0.000000\n",
       "25%           0.950000\n",
       "50%           1.650000\n",
       "75%           2.950000\n",
       "max           6.980000\n",
       "Name: Price, dtype: float64"
      ]
     },
     "execution_count": 34,
     "metadata": {},
     "output_type": "execute_result"
    }
   ],
   "source": [
    "online_retail_history.Price.describe()"
   ]
  },
  {
   "cell_type": "code",
   "execution_count": 35,
   "metadata": {},
   "outputs": [
    {
     "data": {
      "image/png": "[encoded data removed]",
      "text/plain": [
       "<Figure size 432x288 with 1 Axes>"
      ]
     },
     "metadata": {
      "needs_background": "light"
     },
     "output_type": "display_data"
    }
   ],
   "source": [
    "sns.boxplot(x = online_retail_history.Price);"
   ]
  },
  {
   "cell_type": "code",
   "execution_count": 36,
   "metadata": {},
   "outputs": [
    {
     "data": {
      "image/png": "[encoded data removed]",
      "text/plain": [
       "<Figure size 432x288 with 1 Axes>"
      ]
     },
     "metadata": {
      "needs_background": "light"
     },
     "output_type": "display_data"
    }
   ],
   "source": [
    "online_retail_history.Quantity.hist()\n",
    "plt.title(\"Distribution of Quantity\");"
   ]
  },
  {
   "cell_type": "code",
   "execution_count": 37,
   "metadata": {},
   "outputs": [
    {
     "data": {
      "text/plain": [
       "count    349922.000000\n",
       "mean          8.725562\n",
       "std           9.273373\n",
       "min           1.000000\n",
       "25%           2.000000\n",
       "50%           6.000000\n",
       "75%          12.000000\n",
       "max          49.000000\n",
       "Name: Quantity, dtype: float64"
      ]
     },
     "execution_count": 37,
     "metadata": {},
     "output_type": "execute_result"
    }
   ],
   "source": [
    "online_retail_history.Quantity.describe()"
   ]
  },
  {
   "cell_type": "code",
   "execution_count": 38,
   "metadata": {},
   "outputs": [
    {
     "name": "stderr",
     "output_type": "stream",
     "text": [
      "/Users/shaq/.pyenv/versions/3.8.10/lib/python3.8/site-packages/seaborn/_decorators.py:36: FutureWarning: Pass the following variable as a keyword arg: x. From version 0.12, the only valid positional argument will be `data`, and passing other arguments without an explicit keyword will result in an error or misinterpretation.\n",
      "  warnings.warn(\n"
     ]
    },
    {
     "data": {
      "image/png": "[encoded data removed]",
      "text/plain": [
       "<Figure size 432x288 with 1 Axes>"
      ]
     },
     "metadata": {
      "needs_background": "light"
     },
     "output_type": "display_data"
    }
   ],
   "source": [
    "sns.boxplot(online_retail_history.Quantity)\n",
    "plt.title(\"Box Plot for Quantity\");"
   ]
  },
  {
   "cell_type": "code",
   "execution_count": 39,
   "metadata": {},
   "outputs": [
    {
     "name": "stdout",
     "output_type": "stream",
     "text": [
      "The 25th percentile is 2.0\n",
      "The 75th percentile is 12.0\n"
     ]
    }
   ],
   "source": [
    "q1 = np.percentile(online_retail_history.Quantity, 25)\n",
    "q3 = np.percentile(online_retail_history.Quantity, 75)\n",
    "\n",
    "print(\"The 25th percentile is\", q1)\n",
    "print(\"The 75th percentile is\", q3)\n"
   ]
  },
  {
   "cell_type": "code",
   "execution_count": 40,
   "metadata": {},
   "outputs": [
    {
     "name": "stdout",
     "output_type": "stream",
     "text": [
      "The iqr is 10.0\n"
     ]
    }
   ],
   "source": [
    "iqr = q3 - q1\n",
    "print(\"The iqr is\", iqr)"
   ]
  },
  {
   "cell_type": "code",
   "execution_count": 41,
   "metadata": {},
   "outputs": [
    {
     "name": "stdout",
     "output_type": "stream",
     "text": [
      "The lb is -13.0\n",
      "The ub is 27.0\n"
     ]
    }
   ],
   "source": [
    "lb = q1 - 1.5*iqr\n",
    "ub = q3 + 1.5*iqr\n",
    "\n",
    "print(\"The lb is\", lb)\n",
    "print(\"The ub is\", ub)"
   ]
  },
  {
   "cell_type": "code",
   "execution_count": 46,
   "metadata": {},
   "outputs": [
    {
     "data": {
      "image/png": "[encoded data removed]",
      "text/plain": [
       "<Figure size 432x288 with 1 Axes>"
      ]
     },
     "metadata": {
      "needs_background": "light"
     },
     "output_type": "display_data"
    }
   ],
   "source": [
    "sns.boxplot(x = online_retail_history.Price)\n",
    "plt.title(\"Box Plot for Price\");"
   ]
  },
  {
   "cell_type": "code",
   "execution_count": 45,
   "metadata": {},
   "outputs": [
    {
     "data": {
      "text/plain": [
       "count    349922.000000\n",
       "mean          2.142553\n",
       "std           1.511949\n",
       "min           0.000000\n",
       "25%           0.950000\n",
       "50%           1.650000\n",
       "75%           2.950000\n",
       "max           6.980000\n",
       "Name: Price, dtype: float64"
      ]
     },
     "execution_count": 45,
     "metadata": {},
     "output_type": "execute_result"
    }
   ],
   "source": [
    "online_retail_history.Price.describe()"
   ]
  },
  {
   "cell_type": "code",
   "execution_count": 47,
   "metadata": {},
   "outputs": [
    {
     "name": "stdout",
     "output_type": "stream",
     "text": [
      "The lower bound is: -2.05\n",
      "The upper bound is: 5.95\n"
     ]
    }
   ],
   "source": [
    "q1 = np.percentile(online_retail_history.Price, 25)\n",
    "q3 = np.percentile(online_retail_history.Price, 75)\n",
    "iqr = q3 - q1\n",
    "\n",
    "ub = q3 + 1.5*iqr\n",
    "lb = q1 - 1.5*iqr\n",
    "\n",
    "print(\"The lower bound is:\", lb)\n",
    "print(\"The upper bound is:\", ub)"
   ]
  },
  {
   "cell_type": "code",
   "execution_count": 49,
   "metadata": {},
   "outputs": [
    {
     "data": {
      "text/plain": [
       "5578"
      ]
     },
     "execution_count": 49,
     "metadata": {},
     "output_type": "execute_result"
    }
   ],
   "source": [
    "online_retail_history[(online_retail_history.Price > ub)].shape[0]"
   ]
  },
  {
   "cell_type": "code",
   "execution_count": 51,
   "metadata": {},
   "outputs": [
    {
     "data": {
      "text/html": [
       "<div>\n",
       "<style scoped>\n",
       "    .dataframe tbody tr th:only-of-type {\n",
       "        vertical-align: middle;\n",
       "    }\n",
       "\n",
       "    .dataframe tbody tr th {\n",
       "        vertical-align: top;\n",
       "    }\n",
       "\n",
       "    .dataframe thead th {\n",
       "        text-align: right;\n",
       "    }\n",
       "</style>\n",
       "<table border=\"1\" class=\"dataframe\">\n",
       "  <thead>\n",
       "    <tr style=\"text-align: right;\">\n",
       "      <th></th>\n",
       "      <th>Quantity</th>\n",
       "      <th>Price</th>\n",
       "    </tr>\n",
       "  </thead>\n",
       "  <tbody>\n",
       "    <tr>\n",
       "      <th>Quantity</th>\n",
       "      <td>1.000000</td>\n",
       "      <td>-0.319196</td>\n",
       "    </tr>\n",
       "    <tr>\n",
       "      <th>Price</th>\n",
       "      <td>-0.319196</td>\n",
       "      <td>1.000000</td>\n",
       "    </tr>\n",
       "  </tbody>\n",
       "</table>\n",
       "</div>"
      ],
      "text/plain": [
       "          Quantity     Price\n",
       "Quantity  1.000000 -0.319196\n",
       "Price    -0.319196  1.000000"
      ]
     },
     "execution_count": 51,
     "metadata": {},
     "output_type": "execute_result"
    }
   ],
   "source": [
    "# correlations\n",
    "\n",
    "online_retail_history.corr()"
   ]
  },
  {
   "cell_type": "code",
   "execution_count": 52,
   "metadata": {},
   "outputs": [
    {
     "data": {
      "image/png": "[encoded data removed]",
      "text/plain": [
       "<Figure size 432x288 with 1 Axes>"
      ]
     },
     "metadata": {
      "needs_background": "light"
     },
     "output_type": "display_data"
    }
   ],
   "source": [
    "sns.scatterplot(data=online_retail_history, x=\"Price\", y=\"Quantity\");"
   ]
  },
  {
   "cell_type": "code",
   "execution_count": 53,
   "metadata": {},
   "outputs": [
    {
     "name": "stdout",
     "output_type": "stream",
     "text": [
      "<class 'pandas.core.frame.DataFrame'>\n",
      "RangeIndex: 349922 entries, 0 to 349921\n",
      "Data columns (total 7 columns):\n",
      " #   Column       Non-Null Count   Dtype  \n",
      "---  ------       --------------   -----  \n",
      " 0   Invoice      349922 non-null  object \n",
      " 1   StockCode    349922 non-null  object \n",
      " 2   Quantity     349922 non-null  int64  \n",
      " 3   InvoiceDate  349922 non-null  object \n",
      " 4   Price        349922 non-null  float64\n",
      " 5   CustomerID   349922 non-null  object \n",
      " 6   Country      349922 non-null  object \n",
      "dtypes: float64(1), int64(1), object(5)\n",
      "memory usage: 18.7+ MB\n"
     ]
    }
   ],
   "source": [
    "online_retail_history.info()"
   ]
  },
  {
   "cell_type": "code",
   "execution_count": 54,
   "metadata": {},
   "outputs": [
    {
     "data": {
      "text/plain": [
       "United Kingdom          314896\n",
       "Germany                   7775\n",
       "France                    7183\n",
       "EIRE                      5782\n",
       "Spain                     2104\n",
       "Belgium                   1706\n",
       "Switzerland               1554\n",
       "Portugal                  1327\n",
       "Norway                     873\n",
       "Netherlands                858\n",
       "Australia                  626\n",
       "Italy                      615\n",
       "Channel Islands            562\n",
       "Finland                    550\n",
       "Cyprus                     507\n",
       "Austria                    350\n",
       "Denmark                    323\n",
       "Sweden                     275\n",
       "Poland                     268\n",
       "Unspecified                215\n",
       "Israel                     212\n",
       "Japan                      194\n",
       "Singapore                  178\n",
       "Iceland                    174\n",
       "USA                        170\n",
       "Canada                     136\n",
       "Greece                     128\n",
       "Malta                       93\n",
       "United Arab Emirates        60\n",
       "European Community          47\n",
       "RSA                         46\n",
       "Lithuania                   35\n",
       "Lebanon                     33\n",
       "Brazil                      25\n",
       "Czech Republic              22\n",
       "Bahrain                     11\n",
       "Saudi Arabia                 9\n",
       "Name: Country, dtype: int64"
      ]
     },
     "execution_count": 54,
     "metadata": {},
     "output_type": "execute_result"
    }
   ],
   "source": [
    "online_retail_history.Country.value_counts()"
   ]
  },
  {
   "cell_type": "code",
   "execution_count": 59,
   "metadata": {},
   "outputs": [
    {
     "data": {
      "image/png": "[encoded data removed]",
      "text/plain": [
       "<Figure size 432x288 with 1 Axes>"
      ]
     },
     "metadata": {
      "needs_background": "light"
     },
     "output_type": "display_data"
    }
   ],
   "source": [
    "online_retail_history.Country.value_counts().nlargest(10).plot(kind = 'bar')\n",
    "plt.title(\"Top 10 largest Markers\");"
   ]
  },
  {
   "cell_type": "code",
   "execution_count": 62,
   "metadata": {},
   "outputs": [
    {
     "data": {
      "image/png": "[encoded data removed]",
      "text/plain": [
       "<Figure size 432x288 with 1 Axes>"
      ]
     },
     "metadata": {
      "needs_background": "light"
     },
     "output_type": "display_data"
    }
   ],
   "source": [
    "online_retail_history.Country.value_counts().nsmallest(10).plot(kind = 'bar')\n",
    "plt.title(\"Top 10 smallest Markets\");"
   ]
  },
  {
   "cell_type": "code",
   "execution_count": null,
   "metadata": {},
   "outputs": [],
   "source": []
  }
 ],
 "metadata": {
  "colab": {
   "provenance": []
  },
  "kernelspec": {
   "display_name": "Python 3",
   "language": "python",
   "name": "python3"
  },
  "language_info": {
   "codemirror_mode": {
    "name": "ipython",
    "version": 3
   },
   "file_extension": ".py",
   "mimetype": "text/x-python",
   "name": "python",
   "nbconvert_exporter": "python",
   "pygments_lexer": "ipython3",
   "version": "3.8.10"
  }
 },
 "nbformat": 4,
 "nbformat_minor": 1
}
