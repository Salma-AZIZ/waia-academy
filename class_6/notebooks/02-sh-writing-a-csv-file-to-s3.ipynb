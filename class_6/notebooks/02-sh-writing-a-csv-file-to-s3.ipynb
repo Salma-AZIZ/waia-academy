{
 "cells": [
  {
   "cell_type": "code",
   "execution_count": 1,
   "id": "6f05c888",
   "metadata": {},
   "outputs": [],
   "source": [
    "# import the libraries needed to write a file to s3\n",
    "\n",
    "import pandas as pd\n",
    "\n",
    "import boto3\n",
    "from io import StringIO "
   ]
  },
  {
   "cell_type": "code",
   "execution_count": 2,
   "id": "46f97659",
   "metadata": {},
   "outputs": [
    {
     "data": {
      "text/html": [
       "<div>\n",
       "<style scoped>\n",
       "    .dataframe tbody tr th:only-of-type {\n",
       "        vertical-align: middle;\n",
       "    }\n",
       "\n",
       "    .dataframe tbody tr th {\n",
       "        vertical-align: top;\n",
       "    }\n",
       "\n",
       "    .dataframe thead th {\n",
       "        text-align: right;\n",
       "    }\n",
       "</style>\n",
       "<table border=\"1\" class=\"dataframe\">\n",
       "  <thead>\n",
       "    <tr style=\"text-align: right;\">\n",
       "      <th></th>\n",
       "      <th>name</th>\n",
       "      <th>age</th>\n",
       "    </tr>\n",
       "  </thead>\n",
       "  <tbody>\n",
       "    <tr>\n",
       "      <th>0</th>\n",
       "      <td>Sarah</td>\n",
       "      <td>34</td>\n",
       "    </tr>\n",
       "    <tr>\n",
       "      <th>1</th>\n",
       "      <td>Bob</td>\n",
       "      <td>100</td>\n",
       "    </tr>\n",
       "  </tbody>\n",
       "</table>\n",
       "</div>"
      ],
      "text/plain": [
       "    name  age\n",
       "0  Sarah   34\n",
       "1    Bob  100"
      ]
     },
     "execution_count": 2,
     "metadata": {},
     "output_type": "execute_result"
    }
   ],
   "source": [
    "# load the .csv file we created earlier or feel free to create a new variable containing some data\n",
    "\n",
    "sample_df = pd.read_csv(\"../data/sample_file.csv\")\n",
    "sample_df # check it is the file you expected"
   ]
  },
  {
   "cell_type": "code",
   "execution_count": 3,
   "id": "3afa58c6",
   "metadata": {},
   "outputs": [],
   "source": [
    "# create three new variables and include the relevant information\n",
    "\n",
    "AWS_ACCESS_KEY_ID = \"XXXXX\" # this is your AWS Access Key ID\n",
    "AWS_SECRET_ACCESS_KEY = \"YYYY\" # This is your AWS Secret Access Key. Keep safe!\n",
    "AWS_S3_BUCKET = \"ZZZZZ\" # This is name of the bucket you generated\n"
   ]
  },
  {
   "cell_type": "code",
   "execution_count": 4,
   "id": "b8f84043",
   "metadata": {},
   "outputs": [],
   "source": [
    "# use boto3 to connect to AWS s3 buckets\n",
    "\n",
    "s3_client = boto3.client(\n",
    "    \"s3\",\n",
    "    aws_access_key_id=AWS_ACCESS_KEY_ID,\n",
    "    aws_secret_access_key=AWS_SECRET_ACCESS_KEY\n",
    ")\n"
   ]
  },
  {
   "cell_type": "code",
   "execution_count": 5,
   "id": "0765bdf8",
   "metadata": {},
   "outputs": [
    {
     "name": "stdout",
     "output_type": "stream",
     "text": [
      "Dataframe is saved as CSV in S3 bucket.\n"
     ]
    }
   ],
   "source": [
    "key = \"sample_file.csv\" # define the name of the file\n",
    "\n",
    "csv_buffer = StringIO() # create buffer to temporarily store the Data Frame\n",
    "\n",
    "sample_df.to_csv(csv_buffer, index=False) # code to write the data frame as csv file\n",
    "response = s3_client.put_object(\n",
    "        Bucket=AWS_S3_BUCKET, Key=key, Body=csv_buffer.getvalue()\n",
    "    ) # this code writes the temp stored csv file and writes to s3\n",
    "\n",
    "print(\"Dataframe is saved as CSV in S3 bucket.\") # prints a statement to let us know the file has been written"
   ]
  },
  {
   "cell_type": "code",
   "execution_count": 6,
   "id": "172a6677",
   "metadata": {},
   "outputs": [],
   "source": [
    "# check the s3 bucket or use code to read file from s3\n",
    "# pass in the name of the file where key = ????\n",
    "\n",
    "response = s3_client.get_object(Bucket=AWS_S3_BUCKET, Key=key)\n",
    "sample_df_1 = pd.read_csv(response.get(\"Body\"))"
   ]
  },
  {
   "cell_type": "code",
   "execution_count": 7,
   "id": "11c8f6a2",
   "metadata": {},
   "outputs": [
    {
     "data": {
      "text/html": [
       "<div>\n",
       "<style scoped>\n",
       "    .dataframe tbody tr th:only-of-type {\n",
       "        vertical-align: middle;\n",
       "    }\n",
       "\n",
       "    .dataframe tbody tr th {\n",
       "        vertical-align: top;\n",
       "    }\n",
       "\n",
       "    .dataframe thead th {\n",
       "        text-align: right;\n",
       "    }\n",
       "</style>\n",
       "<table border=\"1\" class=\"dataframe\">\n",
       "  <thead>\n",
       "    <tr style=\"text-align: right;\">\n",
       "      <th></th>\n",
       "      <th>name</th>\n",
       "      <th>age</th>\n",
       "    </tr>\n",
       "  </thead>\n",
       "  <tbody>\n",
       "    <tr>\n",
       "      <th>0</th>\n",
       "      <td>Sarah</td>\n",
       "      <td>34</td>\n",
       "    </tr>\n",
       "    <tr>\n",
       "      <th>1</th>\n",
       "      <td>Bob</td>\n",
       "      <td>100</td>\n",
       "    </tr>\n",
       "  </tbody>\n",
       "</table>\n",
       "</div>"
      ],
      "text/plain": [
       "    name  age\n",
       "0  Sarah   34\n",
       "1    Bob  100"
      ]
     },
     "execution_count": 7,
     "metadata": {},
     "output_type": "execute_result"
    }
   ],
   "source": [
    "sample_df_1\n",
    "\n",
    "# wahoo! everything works"
   ]
  },
  {
   "cell_type": "code",
   "execution_count": 8,
   "id": "3a92e72d",
   "metadata": {},
   "outputs": [],
   "source": [
    "# advanced and optional\n",
    "# store the variables as environment variables\n",
    "\n",
    "# Resource: \n",
    "# Windows >>\n",
    "# https://docs.oracle.com/en/database/oracle/machine-learning/oml4r/1.5.1/oread/creating-and-modifying-environment-variables-on-windows.html\n",
    "# Mac >> https://phoenixnap.com/kb/set-environment-variable-mac\n",
    "\n",
    "import os\n",
    "\n",
    "AWS_ACCESS_KEY_ID = os.getenv(\"AWS_ACCESS_KEY_ID\")\n",
    "AWS_SECRET_ACCESS_KEY = os.getenv(\"AWS_SECRET_ACCESS_KEY\")\n"
   ]
  },
  {
   "cell_type": "markdown",
   "id": "dad2f52d",
   "metadata": {},
   "source": [
    "# Useful Resource:\n",
    "https://towardsdatascience.com/reading-and-writing-files-from-to-amazon-s3-with-pandas-ccaf90bfe86c"
   ]
  }
 ],
 "metadata": {
  "kernelspec": {
   "display_name": "Python 3",
   "language": "python",
   "name": "python3"
  },
  "language_info": {
   "codemirror_mode": {
    "name": "ipython",
    "version": 3
   },
   "file_extension": ".py",
   "mimetype": "text/x-python",
   "name": "python",
   "nbconvert_exporter": "python",
   "pygments_lexer": "ipython3",
   "version": "3.8.10"
  }
 },
 "nbformat": 4,
 "nbformat_minor": 5
}
