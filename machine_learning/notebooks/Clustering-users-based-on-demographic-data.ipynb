{
 "cells": [
  {
   "cell_type": "code",
   "execution_count": 1,
   "metadata": {
    "id": "rDCCONEqGbyt"
   },
   "outputs": [],
   "source": [
    "# import the libraries\n",
    "\n",
    "import pandas as pd\n",
    "import numpy as np\n",
    "import matplotlib.pyplot as plt\n",
    "import seaborn as sns\n",
    "from collections import Counter\n",
    "\n",
    "from sklearn.preprocessing import StandardScaler\n",
    "from sklearn.cluster import KMeans\n",
    "from sklearn.decomposition import PCA\n",
    "\n",
    "\n",
    "import warnings\n",
    "warnings.filterwarnings('ignore')\n"
   ]
  },
  {
   "cell_type": "markdown",
   "metadata": {
    "id": "t2eWG4Y6KdL_"
   },
   "source": [
    "## Read the data"
   ]
  },
  {
   "cell_type": "code",
   "execution_count": 2,
   "metadata": {
    "id": "m6y8aUeK-Rwa"
   },
   "outputs": [],
   "source": [
    "users_data = pd.read_pickle(\"../data/users_data_cleaned.pkl\")"
   ]
  },
  {
   "cell_type": "code",
   "execution_count": 3,
   "metadata": {
    "colab": {
     "base_uri": "https://localhost:8080/",
     "height": 495
    },
    "id": "dDmimeq2w-Xv",
    "outputId": "ffc8e7b7-84f2-479a-90aa-1eb200d49a1f"
   },
   "outputs": [
    {
     "data": {
      "text/html": [
       "<div>\n",
       "<style scoped>\n",
       "    .dataframe tbody tr th:only-of-type {\n",
       "        vertical-align: middle;\n",
       "    }\n",
       "\n",
       "    .dataframe tbody tr th {\n",
       "        vertical-align: top;\n",
       "    }\n",
       "\n",
       "    .dataframe thead th {\n",
       "        text-align: right;\n",
       "    }\n",
       "</style>\n",
       "<table border=\"1\" class=\"dataframe\">\n",
       "  <thead>\n",
       "    <tr style=\"text-align: right;\">\n",
       "      <th></th>\n",
       "      <th>user_id</th>\n",
       "      <th>number_transactions</th>\n",
       "      <th>total_amount_usd</th>\n",
       "      <th>job_management</th>\n",
       "      <th>job_technician</th>\n",
       "      <th>job_entrepreneur</th>\n",
       "      <th>job_blue-collar</th>\n",
       "      <th>job_retired</th>\n",
       "      <th>job_admin.</th>\n",
       "      <th>job_services</th>\n",
       "      <th>...</th>\n",
       "      <th>duration</th>\n",
       "      <th>campaign</th>\n",
       "      <th>pdays</th>\n",
       "      <th>previous</th>\n",
       "      <th>term_deposit</th>\n",
       "      <th>device_desktop</th>\n",
       "      <th>device_tablet</th>\n",
       "      <th>single</th>\n",
       "      <th>age_group_encoded</th>\n",
       "      <th>month_joined</th>\n",
       "    </tr>\n",
       "  </thead>\n",
       "  <tbody>\n",
       "    <tr>\n",
       "      <th>0</th>\n",
       "      <td>9231c446-cb16-4b2b-a7f7-ddfc8b25aaf6</td>\n",
       "      <td>3.0</td>\n",
       "      <td>2143.00</td>\n",
       "      <td>1</td>\n",
       "      <td>0</td>\n",
       "      <td>0</td>\n",
       "      <td>0</td>\n",
       "      <td>0</td>\n",
       "      <td>0</td>\n",
       "      <td>0</td>\n",
       "      <td>...</td>\n",
       "      <td>261</td>\n",
       "      <td>1</td>\n",
       "      <td>-1</td>\n",
       "      <td>0</td>\n",
       "      <td>False</td>\n",
       "      <td>0</td>\n",
       "      <td>0</td>\n",
       "      <td>0</td>\n",
       "      <td>4</td>\n",
       "      <td>8</td>\n",
       "    </tr>\n",
       "    <tr>\n",
       "      <th>1</th>\n",
       "      <td>bb92765a-08de-4963-b432-496524b39157</td>\n",
       "      <td>0.0</td>\n",
       "      <td>1369.42</td>\n",
       "      <td>0</td>\n",
       "      <td>1</td>\n",
       "      <td>0</td>\n",
       "      <td>0</td>\n",
       "      <td>0</td>\n",
       "      <td>0</td>\n",
       "      <td>0</td>\n",
       "      <td>...</td>\n",
       "      <td>151</td>\n",
       "      <td>1</td>\n",
       "      <td>-1</td>\n",
       "      <td>0</td>\n",
       "      <td>False</td>\n",
       "      <td>1</td>\n",
       "      <td>0</td>\n",
       "      <td>1</td>\n",
       "      <td>2</td>\n",
       "      <td>7</td>\n",
       "    </tr>\n",
       "    <tr>\n",
       "      <th>2</th>\n",
       "      <td>573de577-49ef-42b9-83da-d3cfb817b5c1</td>\n",
       "      <td>2.0</td>\n",
       "      <td>2.00</td>\n",
       "      <td>0</td>\n",
       "      <td>0</td>\n",
       "      <td>1</td>\n",
       "      <td>0</td>\n",
       "      <td>0</td>\n",
       "      <td>0</td>\n",
       "      <td>0</td>\n",
       "      <td>...</td>\n",
       "      <td>76</td>\n",
       "      <td>1</td>\n",
       "      <td>-1</td>\n",
       "      <td>0</td>\n",
       "      <td>False</td>\n",
       "      <td>0</td>\n",
       "      <td>0</td>\n",
       "      <td>0</td>\n",
       "      <td>1</td>\n",
       "      <td>6</td>\n",
       "    </tr>\n",
       "    <tr>\n",
       "      <th>3</th>\n",
       "      <td>d6b66b9d-7c8f-4257-a682-e136f640b7e3</td>\n",
       "      <td>0.0</td>\n",
       "      <td>1369.42</td>\n",
       "      <td>0</td>\n",
       "      <td>0</td>\n",
       "      <td>0</td>\n",
       "      <td>1</td>\n",
       "      <td>0</td>\n",
       "      <td>0</td>\n",
       "      <td>0</td>\n",
       "      <td>...</td>\n",
       "      <td>92</td>\n",
       "      <td>1</td>\n",
       "      <td>-1</td>\n",
       "      <td>0</td>\n",
       "      <td>False</td>\n",
       "      <td>0</td>\n",
       "      <td>1</td>\n",
       "      <td>0</td>\n",
       "      <td>3</td>\n",
       "      <td>6</td>\n",
       "    </tr>\n",
       "    <tr>\n",
       "      <th>4</th>\n",
       "      <td>fade0b20-7594-4d9a-84cd-c02f79b1b526</td>\n",
       "      <td>1.0</td>\n",
       "      <td>1.00</td>\n",
       "      <td>0</td>\n",
       "      <td>0</td>\n",
       "      <td>0</td>\n",
       "      <td>0</td>\n",
       "      <td>0</td>\n",
       "      <td>0</td>\n",
       "      <td>0</td>\n",
       "      <td>...</td>\n",
       "      <td>198</td>\n",
       "      <td>1</td>\n",
       "      <td>-1</td>\n",
       "      <td>0</td>\n",
       "      <td>False</td>\n",
       "      <td>0</td>\n",
       "      <td>0</td>\n",
       "      <td>1</td>\n",
       "      <td>1</td>\n",
       "      <td>8</td>\n",
       "    </tr>\n",
       "  </tbody>\n",
       "</table>\n",
       "<p>5 rows × 33 columns</p>\n",
       "</div>"
      ],
      "text/plain": [
       "                                user_id  number_transactions  \\\n",
       "0  9231c446-cb16-4b2b-a7f7-ddfc8b25aaf6                  3.0   \n",
       "1  bb92765a-08de-4963-b432-496524b39157                  0.0   \n",
       "2  573de577-49ef-42b9-83da-d3cfb817b5c1                  2.0   \n",
       "3  d6b66b9d-7c8f-4257-a682-e136f640b7e3                  0.0   \n",
       "4  fade0b20-7594-4d9a-84cd-c02f79b1b526                  1.0   \n",
       "\n",
       "   total_amount_usd  job_management  job_technician  job_entrepreneur  \\\n",
       "0           2143.00               1               0                 0   \n",
       "1           1369.42               0               1                 0   \n",
       "2              2.00               0               0                 1   \n",
       "3           1369.42               0               0                 0   \n",
       "4              1.00               0               0                 0   \n",
       "\n",
       "   job_blue-collar  job_retired  job_admin.  job_services  ...  duration  \\\n",
       "0                0            0           0             0  ...       261   \n",
       "1                0            0           0             0  ...       151   \n",
       "2                0            0           0             0  ...        76   \n",
       "3                1            0           0             0  ...        92   \n",
       "4                0            0           0             0  ...       198   \n",
       "\n",
       "   campaign  pdays  previous  term_deposit  device_desktop  device_tablet  \\\n",
       "0         1     -1         0         False               0              0   \n",
       "1         1     -1         0         False               1              0   \n",
       "2         1     -1         0         False               0              0   \n",
       "3         1     -1         0         False               0              1   \n",
       "4         1     -1         0         False               0              0   \n",
       "\n",
       "   single  age_group_encoded  month_joined  \n",
       "0       0                  4             8  \n",
       "1       1                  2             7  \n",
       "2       0                  1             6  \n",
       "3       0                  3             6  \n",
       "4       1                  1             8  \n",
       "\n",
       "[5 rows x 33 columns]"
      ]
     },
     "execution_count": 3,
     "metadata": {},
     "output_type": "execute_result"
    }
   ],
   "source": [
    "# preview the data\n",
    "\n",
    "users_data.head()"
   ]
  },
  {
   "cell_type": "code",
   "execution_count": 4,
   "metadata": {
    "colab": {
     "base_uri": "https://localhost:8080/"
    },
    "id": "8obpJ0ZDwvOp",
    "outputId": "dc0a1ac4-8945-4496-afee-ea6adef29eb5"
   },
   "outputs": [
    {
     "data": {
      "text/plain": [
       "(45179, 33)"
      ]
     },
     "execution_count": 4,
     "metadata": {},
     "output_type": "execute_result"
    }
   ],
   "source": [
    "# check shape of data\n",
    "\n",
    "users_data.shape"
   ]
  },
  {
   "cell_type": "code",
   "execution_count": 5,
   "metadata": {
    "colab": {
     "base_uri": "https://localhost:8080/"
    },
    "id": "D0E_leFTw59N",
    "outputId": "a8a00535-6e6e-496c-c5bc-4d9803f384d1"
   },
   "outputs": [
    {
     "name": "stdout",
     "output_type": "stream",
     "text": [
      "<class 'pandas.core.frame.DataFrame'>\n",
      "Int64Index: 45179 entries, 0 to 45215\n",
      "Data columns (total 33 columns):\n",
      " #   Column               Non-Null Count  Dtype  \n",
      "---  ------               --------------  -----  \n",
      " 0   user_id              45179 non-null  object \n",
      " 1   number_transactions  45179 non-null  float64\n",
      " 2   total_amount_usd     45179 non-null  float64\n",
      " 3   job_management       45179 non-null  int64  \n",
      " 4   job_technician       45179 non-null  int64  \n",
      " 5   job_entrepreneur     45179 non-null  int64  \n",
      " 6   job_blue-collar      45179 non-null  int64  \n",
      " 7   job_retired          45179 non-null  int64  \n",
      " 8   job_admin.           45179 non-null  int64  \n",
      " 9   job_services         45179 non-null  int64  \n",
      " 10  job_self-employed    45179 non-null  int64  \n",
      " 11  job_unemployed       45179 non-null  int64  \n",
      " 12  job_housemaid        45179 non-null  int64  \n",
      " 13  job_student          45179 non-null  int64  \n",
      " 14  education_tertiary   45179 non-null  int64  \n",
      " 15  education_secondary  45179 non-null  int64  \n",
      " 16  education_Unknown    45179 non-null  int64  \n",
      " 17  education_primary    45179 non-null  int64  \n",
      " 18  default              45179 non-null  bool   \n",
      " 19  housing              45179 non-null  bool   \n",
      " 20  loan                 45179 non-null  bool   \n",
      " 21  contact_cellular     45179 non-null  int64  \n",
      " 22  contact_telephone    45179 non-null  int64  \n",
      " 23  duration             45179 non-null  int64  \n",
      " 24  campaign             45179 non-null  int64  \n",
      " 25  pdays                45179 non-null  int64  \n",
      " 26  previous             45179 non-null  int64  \n",
      " 27  term_deposit         45179 non-null  bool   \n",
      " 28  device_desktop       45179 non-null  int64  \n",
      " 29  device_tablet        45179 non-null  int64  \n",
      " 30  single               45179 non-null  uint8  \n",
      " 31  age_group_encoded    45179 non-null  int8   \n",
      " 32  month_joined         45179 non-null  int64  \n",
      "dtypes: bool(4), float64(2), int64(24), int8(1), object(1), uint8(1)\n",
      "memory usage: 9.9+ MB\n"
     ]
    }
   ],
   "source": [
    "# check the structure of the data - make sure all the columns are float, into and bool (apart from user_id)\n",
    "\n",
    "users_data.info()"
   ]
  },
  {
   "cell_type": "markdown",
   "metadata": {
    "id": "OTYzu-tpKe1I"
   },
   "source": [
    "## Cluster the users based on demographic data only"
   ]
  },
  {
   "cell_type": "code",
   "execution_count": 6,
   "metadata": {
    "id": "RG_HQ6dV8qRq"
   },
   "outputs": [],
   "source": [
    "# reset index\n",
    "\n",
    "users_data.reset_index(drop = True, inplace = True)"
   ]
  },
  {
   "cell_type": "code",
   "execution_count": 7,
   "metadata": {
    "colab": {
     "base_uri": "https://localhost:8080/",
     "height": 175
    },
    "id": "89R5X8XdjuCF",
    "outputId": "b83dd1df-de89-4f33-efdf-6bb7a4876d8a"
   },
   "outputs": [
    {
     "data": {
      "text/html": [
       "<div>\n",
       "<style scoped>\n",
       "    .dataframe tbody tr th:only-of-type {\n",
       "        vertical-align: middle;\n",
       "    }\n",
       "\n",
       "    .dataframe tbody tr th {\n",
       "        vertical-align: top;\n",
       "    }\n",
       "\n",
       "    .dataframe thead th {\n",
       "        text-align: right;\n",
       "    }\n",
       "</style>\n",
       "<table border=\"1\" class=\"dataframe\">\n",
       "  <thead>\n",
       "    <tr style=\"text-align: right;\">\n",
       "      <th></th>\n",
       "      <th>job_management</th>\n",
       "      <th>job_technician</th>\n",
       "      <th>job_entrepreneur</th>\n",
       "      <th>job_blue-collar</th>\n",
       "      <th>job_retired</th>\n",
       "      <th>job_admin.</th>\n",
       "      <th>job_services</th>\n",
       "      <th>job_self-employed</th>\n",
       "      <th>job_unemployed</th>\n",
       "      <th>job_housemaid</th>\n",
       "      <th>job_student</th>\n",
       "      <th>education_tertiary</th>\n",
       "      <th>education_secondary</th>\n",
       "      <th>education_Unknown</th>\n",
       "      <th>education_primary</th>\n",
       "      <th>single</th>\n",
       "      <th>age_group_encoded</th>\n",
       "    </tr>\n",
       "  </thead>\n",
       "  <tbody>\n",
       "    <tr>\n",
       "      <th>0</th>\n",
       "      <td>1</td>\n",
       "      <td>0</td>\n",
       "      <td>0</td>\n",
       "      <td>0</td>\n",
       "      <td>0</td>\n",
       "      <td>0</td>\n",
       "      <td>0</td>\n",
       "      <td>0</td>\n",
       "      <td>0</td>\n",
       "      <td>0</td>\n",
       "      <td>0</td>\n",
       "      <td>1</td>\n",
       "      <td>0</td>\n",
       "      <td>0</td>\n",
       "      <td>0</td>\n",
       "      <td>0</td>\n",
       "      <td>4</td>\n",
       "    </tr>\n",
       "    <tr>\n",
       "      <th>1</th>\n",
       "      <td>0</td>\n",
       "      <td>1</td>\n",
       "      <td>0</td>\n",
       "      <td>0</td>\n",
       "      <td>0</td>\n",
       "      <td>0</td>\n",
       "      <td>0</td>\n",
       "      <td>0</td>\n",
       "      <td>0</td>\n",
       "      <td>0</td>\n",
       "      <td>0</td>\n",
       "      <td>0</td>\n",
       "      <td>1</td>\n",
       "      <td>0</td>\n",
       "      <td>0</td>\n",
       "      <td>1</td>\n",
       "      <td>2</td>\n",
       "    </tr>\n",
       "    <tr>\n",
       "      <th>2</th>\n",
       "      <td>0</td>\n",
       "      <td>0</td>\n",
       "      <td>1</td>\n",
       "      <td>0</td>\n",
       "      <td>0</td>\n",
       "      <td>0</td>\n",
       "      <td>0</td>\n",
       "      <td>0</td>\n",
       "      <td>0</td>\n",
       "      <td>0</td>\n",
       "      <td>0</td>\n",
       "      <td>0</td>\n",
       "      <td>1</td>\n",
       "      <td>0</td>\n",
       "      <td>0</td>\n",
       "      <td>0</td>\n",
       "      <td>1</td>\n",
       "    </tr>\n",
       "  </tbody>\n",
       "</table>\n",
       "</div>"
      ],
      "text/plain": [
       "   job_management  job_technician  job_entrepreneur  job_blue-collar  \\\n",
       "0               1               0                 0                0   \n",
       "1               0               1                 0                0   \n",
       "2               0               0                 1                0   \n",
       "\n",
       "   job_retired  job_admin.  job_services  job_self-employed  job_unemployed  \\\n",
       "0            0           0             0                  0               0   \n",
       "1            0           0             0                  0               0   \n",
       "2            0           0             0                  0               0   \n",
       "\n",
       "   job_housemaid  job_student  education_tertiary  education_secondary  \\\n",
       "0              0            0                   1                    0   \n",
       "1              0            0                   0                    1   \n",
       "2              0            0                   0                    1   \n",
       "\n",
       "   education_Unknown  education_primary  single  age_group_encoded  \n",
       "0                  0                  0       0                  4  \n",
       "1                  0                  0       1                  2  \n",
       "2                  0                  0       0                  1  "
      ]
     },
     "execution_count": 7,
     "metadata": {},
     "output_type": "execute_result"
    }
   ],
   "source": [
    "users_data_demographics = users_data.filter(regex = 'education|job|age|single')\n",
    "users_data_demographics.head(n = 3)"
   ]
  },
  {
   "cell_type": "code",
   "execution_count": 8,
   "metadata": {
    "colab": {
     "base_uri": "https://localhost:8080/",
     "height": 179
    },
    "id": "wFseD4luKkpD",
    "outputId": "f95083be-76fb-4836-b951-07daca1b8b4f"
   },
   "outputs": [
    {
     "data": {
      "text/html": [
       "<div>\n",
       "<style scoped>\n",
       "    .dataframe tbody tr th:only-of-type {\n",
       "        vertical-align: middle;\n",
       "    }\n",
       "\n",
       "    .dataframe tbody tr th {\n",
       "        vertical-align: top;\n",
       "    }\n",
       "\n",
       "    .dataframe thead th {\n",
       "        text-align: right;\n",
       "    }\n",
       "</style>\n",
       "<table border=\"1\" class=\"dataframe\">\n",
       "  <thead>\n",
       "    <tr style=\"text-align: right;\">\n",
       "      <th></th>\n",
       "      <th>job_management</th>\n",
       "      <th>job_technician</th>\n",
       "      <th>job_entrepreneur</th>\n",
       "      <th>job_blue-collar</th>\n",
       "      <th>job_retired</th>\n",
       "      <th>job_admin.</th>\n",
       "      <th>job_services</th>\n",
       "      <th>job_self-employed</th>\n",
       "      <th>job_unemployed</th>\n",
       "      <th>job_housemaid</th>\n",
       "      <th>job_student</th>\n",
       "      <th>education_tertiary</th>\n",
       "      <th>education_secondary</th>\n",
       "      <th>education_Unknown</th>\n",
       "      <th>education_primary</th>\n",
       "      <th>single</th>\n",
       "      <th>age_group_encoded</th>\n",
       "    </tr>\n",
       "  </thead>\n",
       "  <tbody>\n",
       "    <tr>\n",
       "      <th>0</th>\n",
       "      <td>1</td>\n",
       "      <td>0</td>\n",
       "      <td>0</td>\n",
       "      <td>0</td>\n",
       "      <td>0</td>\n",
       "      <td>0</td>\n",
       "      <td>0</td>\n",
       "      <td>0</td>\n",
       "      <td>0</td>\n",
       "      <td>0</td>\n",
       "      <td>0</td>\n",
       "      <td>1</td>\n",
       "      <td>0</td>\n",
       "      <td>0</td>\n",
       "      <td>0</td>\n",
       "      <td>0</td>\n",
       "      <td>4</td>\n",
       "    </tr>\n",
       "    <tr>\n",
       "      <th>1</th>\n",
       "      <td>0</td>\n",
       "      <td>1</td>\n",
       "      <td>0</td>\n",
       "      <td>0</td>\n",
       "      <td>0</td>\n",
       "      <td>0</td>\n",
       "      <td>0</td>\n",
       "      <td>0</td>\n",
       "      <td>0</td>\n",
       "      <td>0</td>\n",
       "      <td>0</td>\n",
       "      <td>0</td>\n",
       "      <td>1</td>\n",
       "      <td>0</td>\n",
       "      <td>0</td>\n",
       "      <td>1</td>\n",
       "      <td>2</td>\n",
       "    </tr>\n",
       "    <tr>\n",
       "      <th>2</th>\n",
       "      <td>0</td>\n",
       "      <td>0</td>\n",
       "      <td>1</td>\n",
       "      <td>0</td>\n",
       "      <td>0</td>\n",
       "      <td>0</td>\n",
       "      <td>0</td>\n",
       "      <td>0</td>\n",
       "      <td>0</td>\n",
       "      <td>0</td>\n",
       "      <td>0</td>\n",
       "      <td>0</td>\n",
       "      <td>1</td>\n",
       "      <td>0</td>\n",
       "      <td>0</td>\n",
       "      <td>0</td>\n",
       "      <td>1</td>\n",
       "    </tr>\n",
       "  </tbody>\n",
       "</table>\n",
       "</div>"
      ],
      "text/plain": [
       "   job_management  job_technician  job_entrepreneur  job_blue-collar  \\\n",
       "0               1               0                 0                0   \n",
       "1               0               1                 0                0   \n",
       "2               0               0                 1                0   \n",
       "\n",
       "   job_retired  job_admin.  job_services  job_self-employed  job_unemployed  \\\n",
       "0            0           0             0                  0               0   \n",
       "1            0           0             0                  0               0   \n",
       "2            0           0             0                  0               0   \n",
       "\n",
       "   job_housemaid  job_student  education_tertiary  education_secondary  \\\n",
       "0              0            0                   1                    0   \n",
       "1              0            0                   0                    1   \n",
       "2              0            0                   0                    1   \n",
       "\n",
       "   education_Unknown  education_primary  single  age_group_encoded  \n",
       "0                  0                  0       0                  4  \n",
       "1                  0                  0       1                  2  \n",
       "2                  0                  0       0                  1  "
      ]
     },
     "execution_count": 8,
     "metadata": {},
     "output_type": "execute_result"
    }
   ],
   "source": [
    "# filter columns that contain eduation, job, age and marital status\n",
    "\n",
    "users_data_demographics = users_data.filter(regex = 'education|job|age|single')\n",
    "users_data_demographics.head(n = 3)"
   ]
  },
  {
   "cell_type": "code",
   "execution_count": 9,
   "metadata": {
    "colab": {
     "base_uri": "https://localhost:8080/",
     "height": 334
    },
    "id": "zj5AfRrP1Uxf",
    "outputId": "06a2cbb8-535e-4731-e9b4-cc628ed8d005"
   },
   "outputs": [
    {
     "data": {
      "text/html": [
       "<div>\n",
       "<style scoped>\n",
       "    .dataframe tbody tr th:only-of-type {\n",
       "        vertical-align: middle;\n",
       "    }\n",
       "\n",
       "    .dataframe tbody tr th {\n",
       "        vertical-align: top;\n",
       "    }\n",
       "\n",
       "    .dataframe thead th {\n",
       "        text-align: right;\n",
       "    }\n",
       "</style>\n",
       "<table border=\"1\" class=\"dataframe\">\n",
       "  <thead>\n",
       "    <tr style=\"text-align: right;\">\n",
       "      <th></th>\n",
       "      <th>job_management</th>\n",
       "      <th>job_technician</th>\n",
       "      <th>job_entrepreneur</th>\n",
       "      <th>job_blue-collar</th>\n",
       "      <th>job_retired</th>\n",
       "      <th>job_admin.</th>\n",
       "      <th>job_services</th>\n",
       "      <th>job_self-employed</th>\n",
       "      <th>job_unemployed</th>\n",
       "      <th>job_housemaid</th>\n",
       "      <th>job_student</th>\n",
       "      <th>education_tertiary</th>\n",
       "      <th>education_secondary</th>\n",
       "      <th>education_Unknown</th>\n",
       "      <th>education_primary</th>\n",
       "      <th>single</th>\n",
       "      <th>age_group_encoded</th>\n",
       "    </tr>\n",
       "  </thead>\n",
       "  <tbody>\n",
       "    <tr>\n",
       "      <th>count</th>\n",
       "      <td>45179.000000</td>\n",
       "      <td>45179.000000</td>\n",
       "      <td>45179.000000</td>\n",
       "      <td>45179.000000</td>\n",
       "      <td>45179.000000</td>\n",
       "      <td>45179.000000</td>\n",
       "      <td>45179.000000</td>\n",
       "      <td>45179.000000</td>\n",
       "      <td>45179.000000</td>\n",
       "      <td>45179.000000</td>\n",
       "      <td>45179.000000</td>\n",
       "      <td>45179.000000</td>\n",
       "      <td>45179.000000</td>\n",
       "      <td>45179.000000</td>\n",
       "      <td>45179.000000</td>\n",
       "      <td>45179.000000</td>\n",
       "      <td>45179.000000</td>\n",
       "    </tr>\n",
       "    <tr>\n",
       "      <th>mean</th>\n",
       "      <td>0.209234</td>\n",
       "      <td>0.168043</td>\n",
       "      <td>0.032869</td>\n",
       "      <td>0.215255</td>\n",
       "      <td>0.050068</td>\n",
       "      <td>0.114389</td>\n",
       "      <td>0.091901</td>\n",
       "      <td>0.034906</td>\n",
       "      <td>0.028797</td>\n",
       "      <td>0.027424</td>\n",
       "      <td>0.020740</td>\n",
       "      <td>0.294207</td>\n",
       "      <td>0.513159</td>\n",
       "      <td>0.041081</td>\n",
       "      <td>0.151553</td>\n",
       "      <td>0.282897</td>\n",
       "      <td>2.147170</td>\n",
       "    </tr>\n",
       "    <tr>\n",
       "      <th>std</th>\n",
       "      <td>0.406767</td>\n",
       "      <td>0.373908</td>\n",
       "      <td>0.178296</td>\n",
       "      <td>0.411004</td>\n",
       "      <td>0.218087</td>\n",
       "      <td>0.318287</td>\n",
       "      <td>0.288889</td>\n",
       "      <td>0.183543</td>\n",
       "      <td>0.167236</td>\n",
       "      <td>0.163318</td>\n",
       "      <td>0.142513</td>\n",
       "      <td>0.455691</td>\n",
       "      <td>0.499832</td>\n",
       "      <td>0.198480</td>\n",
       "      <td>0.358591</td>\n",
       "      <td>0.450412</td>\n",
       "      <td>1.106811</td>\n",
       "    </tr>\n",
       "    <tr>\n",
       "      <th>min</th>\n",
       "      <td>0.000000</td>\n",
       "      <td>0.000000</td>\n",
       "      <td>0.000000</td>\n",
       "      <td>0.000000</td>\n",
       "      <td>0.000000</td>\n",
       "      <td>0.000000</td>\n",
       "      <td>0.000000</td>\n",
       "      <td>0.000000</td>\n",
       "      <td>0.000000</td>\n",
       "      <td>0.000000</td>\n",
       "      <td>0.000000</td>\n",
       "      <td>0.000000</td>\n",
       "      <td>0.000000</td>\n",
       "      <td>0.000000</td>\n",
       "      <td>0.000000</td>\n",
       "      <td>0.000000</td>\n",
       "      <td>0.000000</td>\n",
       "    </tr>\n",
       "    <tr>\n",
       "      <th>25%</th>\n",
       "      <td>0.000000</td>\n",
       "      <td>0.000000</td>\n",
       "      <td>0.000000</td>\n",
       "      <td>0.000000</td>\n",
       "      <td>0.000000</td>\n",
       "      <td>0.000000</td>\n",
       "      <td>0.000000</td>\n",
       "      <td>0.000000</td>\n",
       "      <td>0.000000</td>\n",
       "      <td>0.000000</td>\n",
       "      <td>0.000000</td>\n",
       "      <td>0.000000</td>\n",
       "      <td>0.000000</td>\n",
       "      <td>0.000000</td>\n",
       "      <td>0.000000</td>\n",
       "      <td>0.000000</td>\n",
       "      <td>1.000000</td>\n",
       "    </tr>\n",
       "    <tr>\n",
       "      <th>50%</th>\n",
       "      <td>0.000000</td>\n",
       "      <td>0.000000</td>\n",
       "      <td>0.000000</td>\n",
       "      <td>0.000000</td>\n",
       "      <td>0.000000</td>\n",
       "      <td>0.000000</td>\n",
       "      <td>0.000000</td>\n",
       "      <td>0.000000</td>\n",
       "      <td>0.000000</td>\n",
       "      <td>0.000000</td>\n",
       "      <td>0.000000</td>\n",
       "      <td>0.000000</td>\n",
       "      <td>1.000000</td>\n",
       "      <td>0.000000</td>\n",
       "      <td>0.000000</td>\n",
       "      <td>0.000000</td>\n",
       "      <td>2.000000</td>\n",
       "    </tr>\n",
       "    <tr>\n",
       "      <th>75%</th>\n",
       "      <td>0.000000</td>\n",
       "      <td>0.000000</td>\n",
       "      <td>0.000000</td>\n",
       "      <td>0.000000</td>\n",
       "      <td>0.000000</td>\n",
       "      <td>0.000000</td>\n",
       "      <td>0.000000</td>\n",
       "      <td>0.000000</td>\n",
       "      <td>0.000000</td>\n",
       "      <td>0.000000</td>\n",
       "      <td>0.000000</td>\n",
       "      <td>1.000000</td>\n",
       "      <td>1.000000</td>\n",
       "      <td>0.000000</td>\n",
       "      <td>0.000000</td>\n",
       "      <td>1.000000</td>\n",
       "      <td>3.000000</td>\n",
       "    </tr>\n",
       "    <tr>\n",
       "      <th>max</th>\n",
       "      <td>1.000000</td>\n",
       "      <td>1.000000</td>\n",
       "      <td>1.000000</td>\n",
       "      <td>1.000000</td>\n",
       "      <td>1.000000</td>\n",
       "      <td>1.000000</td>\n",
       "      <td>1.000000</td>\n",
       "      <td>1.000000</td>\n",
       "      <td>1.000000</td>\n",
       "      <td>1.000000</td>\n",
       "      <td>1.000000</td>\n",
       "      <td>1.000000</td>\n",
       "      <td>1.000000</td>\n",
       "      <td>1.000000</td>\n",
       "      <td>1.000000</td>\n",
       "      <td>1.000000</td>\n",
       "      <td>6.000000</td>\n",
       "    </tr>\n",
       "  </tbody>\n",
       "</table>\n",
       "</div>"
      ],
      "text/plain": [
       "       job_management  job_technician  job_entrepreneur  job_blue-collar  \\\n",
       "count    45179.000000    45179.000000      45179.000000     45179.000000   \n",
       "mean         0.209234        0.168043          0.032869         0.215255   \n",
       "std          0.406767        0.373908          0.178296         0.411004   \n",
       "min          0.000000        0.000000          0.000000         0.000000   \n",
       "25%          0.000000        0.000000          0.000000         0.000000   \n",
       "50%          0.000000        0.000000          0.000000         0.000000   \n",
       "75%          0.000000        0.000000          0.000000         0.000000   \n",
       "max          1.000000        1.000000          1.000000         1.000000   \n",
       "\n",
       "        job_retired    job_admin.  job_services  job_self-employed  \\\n",
       "count  45179.000000  45179.000000  45179.000000       45179.000000   \n",
       "mean       0.050068      0.114389      0.091901           0.034906   \n",
       "std        0.218087      0.318287      0.288889           0.183543   \n",
       "min        0.000000      0.000000      0.000000           0.000000   \n",
       "25%        0.000000      0.000000      0.000000           0.000000   \n",
       "50%        0.000000      0.000000      0.000000           0.000000   \n",
       "75%        0.000000      0.000000      0.000000           0.000000   \n",
       "max        1.000000      1.000000      1.000000           1.000000   \n",
       "\n",
       "       job_unemployed  job_housemaid   job_student  education_tertiary  \\\n",
       "count    45179.000000   45179.000000  45179.000000        45179.000000   \n",
       "mean         0.028797       0.027424      0.020740            0.294207   \n",
       "std          0.167236       0.163318      0.142513            0.455691   \n",
       "min          0.000000       0.000000      0.000000            0.000000   \n",
       "25%          0.000000       0.000000      0.000000            0.000000   \n",
       "50%          0.000000       0.000000      0.000000            0.000000   \n",
       "75%          0.000000       0.000000      0.000000            1.000000   \n",
       "max          1.000000       1.000000      1.000000            1.000000   \n",
       "\n",
       "       education_secondary  education_Unknown  education_primary  \\\n",
       "count         45179.000000       45179.000000       45179.000000   \n",
       "mean              0.513159           0.041081           0.151553   \n",
       "std               0.499832           0.198480           0.358591   \n",
       "min               0.000000           0.000000           0.000000   \n",
       "25%               0.000000           0.000000           0.000000   \n",
       "50%               1.000000           0.000000           0.000000   \n",
       "75%               1.000000           0.000000           0.000000   \n",
       "max               1.000000           1.000000           1.000000   \n",
       "\n",
       "             single  age_group_encoded  \n",
       "count  45179.000000       45179.000000  \n",
       "mean       0.282897           2.147170  \n",
       "std        0.450412           1.106811  \n",
       "min        0.000000           0.000000  \n",
       "25%        0.000000           1.000000  \n",
       "50%        0.000000           2.000000  \n",
       "75%        1.000000           3.000000  \n",
       "max        1.000000           6.000000  "
      ]
     },
     "execution_count": 9,
     "metadata": {},
     "output_type": "execute_result"
    }
   ],
   "source": [
    "users_data_demographics.describe()\n",
    "\n",
    "# all variables have the same scale instead of age - need to scale the data"
   ]
  },
  {
   "cell_type": "markdown",
   "metadata": {
    "id": "ql55xoX4KSAM"
   },
   "source": [
    "### k-Means Clustering Model\n"
   ]
  },
  {
   "cell_type": "markdown",
   "metadata": {
    "id": "nD1MKrtv195C"
   },
   "source": [
    "### Scale the data"
   ]
  },
  {
   "cell_type": "code",
   "execution_count": 10,
   "metadata": {
    "colab": {
     "base_uri": "https://localhost:8080/",
     "height": 325
    },
    "id": "cUl-CjREkAIu",
    "outputId": "3f89ac0d-ade6-4f7c-c34f-5fefedd6093e"
   },
   "outputs": [
    {
     "data": {
      "text/html": [
       "<div>\n",
       "<style scoped>\n",
       "    .dataframe tbody tr th:only-of-type {\n",
       "        vertical-align: middle;\n",
       "    }\n",
       "\n",
       "    .dataframe tbody tr th {\n",
       "        vertical-align: top;\n",
       "    }\n",
       "\n",
       "    .dataframe thead th {\n",
       "        text-align: right;\n",
       "    }\n",
       "</style>\n",
       "<table border=\"1\" class=\"dataframe\">\n",
       "  <thead>\n",
       "    <tr style=\"text-align: right;\">\n",
       "      <th></th>\n",
       "      <th>job_management</th>\n",
       "      <th>job_technician</th>\n",
       "      <th>job_entrepreneur</th>\n",
       "      <th>job_blue-collar</th>\n",
       "      <th>job_retired</th>\n",
       "      <th>job_admin.</th>\n",
       "      <th>job_services</th>\n",
       "      <th>job_self-employed</th>\n",
       "      <th>job_unemployed</th>\n",
       "      <th>job_housemaid</th>\n",
       "      <th>job_student</th>\n",
       "      <th>education_tertiary</th>\n",
       "      <th>education_secondary</th>\n",
       "      <th>education_Unknown</th>\n",
       "      <th>education_primary</th>\n",
       "      <th>single</th>\n",
       "      <th>age_group_encoded</th>\n",
       "    </tr>\n",
       "  </thead>\n",
       "  <tbody>\n",
       "    <tr>\n",
       "      <th>count</th>\n",
       "      <td>45179.000000</td>\n",
       "      <td>45179.000000</td>\n",
       "      <td>45179.000000</td>\n",
       "      <td>45179.000000</td>\n",
       "      <td>45179.000000</td>\n",
       "      <td>45179.000000</td>\n",
       "      <td>45179.000000</td>\n",
       "      <td>45179.000000</td>\n",
       "      <td>45179.000000</td>\n",
       "      <td>45179.000000</td>\n",
       "      <td>45179.000000</td>\n",
       "      <td>45179.000000</td>\n",
       "      <td>45179.000000</td>\n",
       "      <td>45179.000000</td>\n",
       "      <td>45179.000000</td>\n",
       "      <td>45179.000000</td>\n",
       "      <td>45179.000000</td>\n",
       "    </tr>\n",
       "    <tr>\n",
       "      <th>mean</th>\n",
       "      <td>0.209234</td>\n",
       "      <td>0.168043</td>\n",
       "      <td>0.032869</td>\n",
       "      <td>0.215255</td>\n",
       "      <td>0.050068</td>\n",
       "      <td>0.114389</td>\n",
       "      <td>0.091901</td>\n",
       "      <td>0.034906</td>\n",
       "      <td>0.028797</td>\n",
       "      <td>0.027424</td>\n",
       "      <td>0.020740</td>\n",
       "      <td>0.294207</td>\n",
       "      <td>0.513159</td>\n",
       "      <td>0.041081</td>\n",
       "      <td>0.151553</td>\n",
       "      <td>0.282897</td>\n",
       "      <td>2.147170</td>\n",
       "    </tr>\n",
       "    <tr>\n",
       "      <th>std</th>\n",
       "      <td>0.406767</td>\n",
       "      <td>0.373908</td>\n",
       "      <td>0.178296</td>\n",
       "      <td>0.411004</td>\n",
       "      <td>0.218087</td>\n",
       "      <td>0.318287</td>\n",
       "      <td>0.288889</td>\n",
       "      <td>0.183543</td>\n",
       "      <td>0.167236</td>\n",
       "      <td>0.163318</td>\n",
       "      <td>0.142513</td>\n",
       "      <td>0.455691</td>\n",
       "      <td>0.499832</td>\n",
       "      <td>0.198480</td>\n",
       "      <td>0.358591</td>\n",
       "      <td>0.450412</td>\n",
       "      <td>1.106811</td>\n",
       "    </tr>\n",
       "    <tr>\n",
       "      <th>min</th>\n",
       "      <td>0.000000</td>\n",
       "      <td>0.000000</td>\n",
       "      <td>0.000000</td>\n",
       "      <td>0.000000</td>\n",
       "      <td>0.000000</td>\n",
       "      <td>0.000000</td>\n",
       "      <td>0.000000</td>\n",
       "      <td>0.000000</td>\n",
       "      <td>0.000000</td>\n",
       "      <td>0.000000</td>\n",
       "      <td>0.000000</td>\n",
       "      <td>0.000000</td>\n",
       "      <td>0.000000</td>\n",
       "      <td>0.000000</td>\n",
       "      <td>0.000000</td>\n",
       "      <td>0.000000</td>\n",
       "      <td>0.000000</td>\n",
       "    </tr>\n",
       "    <tr>\n",
       "      <th>25%</th>\n",
       "      <td>0.000000</td>\n",
       "      <td>0.000000</td>\n",
       "      <td>0.000000</td>\n",
       "      <td>0.000000</td>\n",
       "      <td>0.000000</td>\n",
       "      <td>0.000000</td>\n",
       "      <td>0.000000</td>\n",
       "      <td>0.000000</td>\n",
       "      <td>0.000000</td>\n",
       "      <td>0.000000</td>\n",
       "      <td>0.000000</td>\n",
       "      <td>0.000000</td>\n",
       "      <td>0.000000</td>\n",
       "      <td>0.000000</td>\n",
       "      <td>0.000000</td>\n",
       "      <td>0.000000</td>\n",
       "      <td>1.000000</td>\n",
       "    </tr>\n",
       "    <tr>\n",
       "      <th>50%</th>\n",
       "      <td>0.000000</td>\n",
       "      <td>0.000000</td>\n",
       "      <td>0.000000</td>\n",
       "      <td>0.000000</td>\n",
       "      <td>0.000000</td>\n",
       "      <td>0.000000</td>\n",
       "      <td>0.000000</td>\n",
       "      <td>0.000000</td>\n",
       "      <td>0.000000</td>\n",
       "      <td>0.000000</td>\n",
       "      <td>0.000000</td>\n",
       "      <td>0.000000</td>\n",
       "      <td>1.000000</td>\n",
       "      <td>0.000000</td>\n",
       "      <td>0.000000</td>\n",
       "      <td>0.000000</td>\n",
       "      <td>2.000000</td>\n",
       "    </tr>\n",
       "    <tr>\n",
       "      <th>75%</th>\n",
       "      <td>0.000000</td>\n",
       "      <td>0.000000</td>\n",
       "      <td>0.000000</td>\n",
       "      <td>0.000000</td>\n",
       "      <td>0.000000</td>\n",
       "      <td>0.000000</td>\n",
       "      <td>0.000000</td>\n",
       "      <td>0.000000</td>\n",
       "      <td>0.000000</td>\n",
       "      <td>0.000000</td>\n",
       "      <td>0.000000</td>\n",
       "      <td>1.000000</td>\n",
       "      <td>1.000000</td>\n",
       "      <td>0.000000</td>\n",
       "      <td>0.000000</td>\n",
       "      <td>1.000000</td>\n",
       "      <td>3.000000</td>\n",
       "    </tr>\n",
       "    <tr>\n",
       "      <th>max</th>\n",
       "      <td>1.000000</td>\n",
       "      <td>1.000000</td>\n",
       "      <td>1.000000</td>\n",
       "      <td>1.000000</td>\n",
       "      <td>1.000000</td>\n",
       "      <td>1.000000</td>\n",
       "      <td>1.000000</td>\n",
       "      <td>1.000000</td>\n",
       "      <td>1.000000</td>\n",
       "      <td>1.000000</td>\n",
       "      <td>1.000000</td>\n",
       "      <td>1.000000</td>\n",
       "      <td>1.000000</td>\n",
       "      <td>1.000000</td>\n",
       "      <td>1.000000</td>\n",
       "      <td>1.000000</td>\n",
       "      <td>6.000000</td>\n",
       "    </tr>\n",
       "  </tbody>\n",
       "</table>\n",
       "</div>"
      ],
      "text/plain": [
       "       job_management  job_technician  job_entrepreneur  job_blue-collar  \\\n",
       "count    45179.000000    45179.000000      45179.000000     45179.000000   \n",
       "mean         0.209234        0.168043          0.032869         0.215255   \n",
       "std          0.406767        0.373908          0.178296         0.411004   \n",
       "min          0.000000        0.000000          0.000000         0.000000   \n",
       "25%          0.000000        0.000000          0.000000         0.000000   \n",
       "50%          0.000000        0.000000          0.000000         0.000000   \n",
       "75%          0.000000        0.000000          0.000000         0.000000   \n",
       "max          1.000000        1.000000          1.000000         1.000000   \n",
       "\n",
       "        job_retired    job_admin.  job_services  job_self-employed  \\\n",
       "count  45179.000000  45179.000000  45179.000000       45179.000000   \n",
       "mean       0.050068      0.114389      0.091901           0.034906   \n",
       "std        0.218087      0.318287      0.288889           0.183543   \n",
       "min        0.000000      0.000000      0.000000           0.000000   \n",
       "25%        0.000000      0.000000      0.000000           0.000000   \n",
       "50%        0.000000      0.000000      0.000000           0.000000   \n",
       "75%        0.000000      0.000000      0.000000           0.000000   \n",
       "max        1.000000      1.000000      1.000000           1.000000   \n",
       "\n",
       "       job_unemployed  job_housemaid   job_student  education_tertiary  \\\n",
       "count    45179.000000   45179.000000  45179.000000        45179.000000   \n",
       "mean         0.028797       0.027424      0.020740            0.294207   \n",
       "std          0.167236       0.163318      0.142513            0.455691   \n",
       "min          0.000000       0.000000      0.000000            0.000000   \n",
       "25%          0.000000       0.000000      0.000000            0.000000   \n",
       "50%          0.000000       0.000000      0.000000            0.000000   \n",
       "75%          0.000000       0.000000      0.000000            1.000000   \n",
       "max          1.000000       1.000000      1.000000            1.000000   \n",
       "\n",
       "       education_secondary  education_Unknown  education_primary  \\\n",
       "count         45179.000000       45179.000000       45179.000000   \n",
       "mean              0.513159           0.041081           0.151553   \n",
       "std               0.499832           0.198480           0.358591   \n",
       "min               0.000000           0.000000           0.000000   \n",
       "25%               0.000000           0.000000           0.000000   \n",
       "50%               1.000000           0.000000           0.000000   \n",
       "75%               1.000000           0.000000           0.000000   \n",
       "max               1.000000           1.000000           1.000000   \n",
       "\n",
       "             single  age_group_encoded  \n",
       "count  45179.000000       45179.000000  \n",
       "mean       0.282897           2.147170  \n",
       "std        0.450412           1.106811  \n",
       "min        0.000000           0.000000  \n",
       "25%        0.000000           1.000000  \n",
       "50%        0.000000           2.000000  \n",
       "75%        1.000000           3.000000  \n",
       "max        1.000000           6.000000  "
      ]
     },
     "execution_count": 10,
     "metadata": {},
     "output_type": "execute_result"
    }
   ],
   "source": [
    "users_data_demographics.describe()"
   ]
  },
  {
   "cell_type": "code",
   "execution_count": 14,
   "metadata": {
    "colab": {
     "base_uri": "https://localhost:8080/"
    },
    "id": "T5liIbb9kIlL",
    "outputId": "16b8c0fa-85ba-43f5-94bd-326740a4d559"
   },
   "outputs": [
    {
     "name": "stdout",
     "output_type": "stream",
     "text": [
      "New std deviation: 1.0\n",
      "New mean: 0\n"
     ]
    }
   ],
   "source": [
    "scaler = StandardScaler()\n",
    "\n",
    "scaler.fit(users_data_demographics)\n",
    "\n",
    "users_demographic_data_scaled = scaler.transform(users_data_demographics)\n",
    "\n",
    "print('New std deviation:', users_demographic_data_scaled.std())\n",
    "print('New mean:', round(users_demographic_data_scaled.mean()))"
   ]
  },
  {
   "cell_type": "markdown",
   "metadata": {
    "id": "YAJYL-QX20bK"
   },
   "source": [
    "## Fitting the data based on an arbitrary number of clusters"
   ]
  },
  {
   "cell_type": "code",
   "execution_count": 15,
   "metadata": {
    "id": "XzA0gne83JQI"
   },
   "outputs": [],
   "source": [
    "# specify the number clusters\n",
    "\n",
    "n_clusters = 5"
   ]
  },
  {
   "cell_type": "code",
   "execution_count": 16,
   "metadata": {
    "colab": {
     "base_uri": "https://localhost:8080/",
     "height": 200
    },
    "id": "Re12T9XT29UT",
    "outputId": "a60d9ff9-33df-4dc1-b904-a678cd4ebc47"
   },
   "outputs": [
    {
     "data": {
      "text/plain": [
       "KMeans(n_clusters=5)"
      ]
     },
     "execution_count": 16,
     "metadata": {},
     "output_type": "execute_result"
    }
   ],
   "source": [
    "# fit the scaled data\n",
    "\n",
    "# defining the kmeans function with initialization as k-means++\n",
    "kmeans = KMeans(n_clusters = n_clusters)\n",
    "\n",
    "# fitting the k means algorithm on scaled data\n",
    "kmeans.fit(users_demographic_data_scaled)\n"
   ]
  },
  {
   "cell_type": "markdown",
   "metadata": {
    "id": "OXPwuc1S7F-M"
   },
   "source": [
    "## Predicting the clusters for the users"
   ]
  },
  {
   "cell_type": "code",
   "execution_count": 17,
   "metadata": {
    "colab": {
     "base_uri": "https://localhost:8080/"
    },
    "id": "mWNPoBsB3BKb",
    "outputId": "07e1652f-b44f-4141-b569-9affefd6ed70"
   },
   "outputs": [
    {
     "name": "stdout",
     "output_type": "stream",
     "text": [
      "[3 0 2 ... 2 2 2]\n"
     ]
    }
   ],
   "source": [
    "# Predict the clusters\n",
    "\n",
    "y_kmeans = kmeans.predict(users_demographic_data_scaled)\n",
    "\n",
    "print(y_kmeans)\n",
    "\n",
    "# The first user_id has been predicted as belonging to cluster 2, the second as 1.."
   ]
  },
  {
   "cell_type": "code",
   "execution_count": 18,
   "metadata": {
    "colab": {
     "base_uri": "https://localhost:8080/",
     "height": 292
    },
    "id": "HvbElKDQ3YRU",
    "outputId": "89b50d74-032c-4c5c-9486-7225fef2e166"
   },
   "outputs": [
    {
     "data": {
      "image/png": "[encoded data removed]",
      "text/plain": [
       "<Figure size 432x288 with 1 Axes>"
      ]
     },
     "metadata": {
      "needs_background": "light"
     },
     "output_type": "display_data"
    }
   ],
   "source": [
    "# Distribution of the clusters\n",
    "\n",
    "pd.DataFrame(Counter(y_kmeans).most_common()).set_index(0).plot.bar(legend=None)\n",
    "plt.title('Distribution of Clusters')\n",
    "plt.xlabel('Cluster ID')\n",
    "plt.ylabel('# of users belonging to the cluster');"
   ]
  },
  {
   "cell_type": "markdown",
   "metadata": {
    "id": "ezdNwrC81_q-"
   },
   "source": [
    "## Identify optimal number of clusters"
   ]
  },
  {
   "cell_type": "markdown",
   "metadata": {
    "id": "nT0uIVgZ3C7N"
   },
   "source": [
    "## Option 1: Elbow Method"
   ]
  },
  {
   "cell_type": "code",
   "execution_count": 23,
   "metadata": {
    "id": "804837pJ1j0e"
   },
   "outputs": [],
   "source": [
    "# identify optimal number of clusters\n",
    "\n",
    "def optimal_number_clusters(df):\n",
    "    \"\"\"\n",
    "    Calculates optimal number of clusted based on Elbow Method\n",
    "    \n",
    "    parameters df\n",
    "    \"\"\"\n",
    "    \n",
    "    Sum_of_squared_distances = []\n",
    "    K = range(2, 30) # define the range of clusters we would like to cluster the data into\n",
    "\n",
    "    for k in K:\n",
    "        km = KMeans(n_clusters = k)\n",
    "        km = km.fit(df)\n",
    "        Sum_of_squared_distances.append(km.inertia_)\n",
    "\n",
    "    plt.figure(figsize=(20,10))\n",
    "\n",
    "    plt.plot(K, Sum_of_squared_distances, 'bx-')\n",
    "    plt.xlabel('k')\n",
    "    plt.xticks(K)\n",
    "    plt.ylabel('Sum_of_squared_distances')\n",
    "    plt.title('Elbow Method For Optimal k')\n",
    "    plt.show();"
   ]
  },
  {
   "cell_type": "code",
   "execution_count": 24,
   "metadata": {
    "colab": {
     "base_uri": "https://localhost:8080/",
     "height": 404
    },
    "id": "w1CzrMfK12w-",
    "outputId": "898b0f71-6a35-475c-be7b-e4c77f9c6904"
   },
   "outputs": [
    {
     "data": {
      "image/png": "[encoded data removed]",
      "text/plain": [
       "<Figure size 1440x720 with 1 Axes>"
      ]
     },
     "metadata": {
      "needs_background": "light"
     },
     "output_type": "display_data"
    }
   ],
   "source": [
    "optimal_number_clusters(users_demographic_data_scaled)\n",
    "\n",
    "# The cluster value where this decrease in inertia value becomes constant can be chosen as the right cluster value for our data. Can also be identified as an \"elbow\" \n",
    "# let's say the optimal number of clusters is 12"
   ]
  },
  {
   "cell_type": "markdown",
   "metadata": {
    "id": "sw95UYY-3FEK"
   },
   "source": [
    "## Option 2: Silhouette Method"
   ]
  },
  {
   "cell_type": "code",
   "execution_count": 25,
   "metadata": {
    "colab": {
     "base_uri": "https://localhost:8080/",
     "height": 376
    },
    "id": "duxa0lvOwkmW",
    "outputId": "c14093e8-342c-4c6a-be80-f03247c12b2e"
   },
   "outputs": [
    {
     "data": {
      "image/png": "[encoded data removed]",
      "text/plain": [
       "<Figure size 576x396 with 1 Axes>"
      ]
     },
     "metadata": {},
     "output_type": "display_data"
    }
   ],
   "source": [
    "# Feel free to add existing code, otherwise let me know\n",
    "\n",
    "from yellowbrick.cluster import SilhouetteVisualizer\n",
    "\n",
    "silh = SilhouetteVisualizer(KMeans(12, random_state = 10))\n",
    "silh.fit(users_data_scaled)\n",
    "silh.poof();"
   ]
  },
  {
   "cell_type": "code",
   "execution_count": 26,
   "metadata": {
    "colab": {
     "base_uri": "https://localhost:8080/"
    },
    "id": "Yoop_BoZudsm",
    "outputId": "bf46a23a-60be-4dc7-9e96-0e30b8e7b00a"
   },
   "outputs": [
    {
     "name": "stdout",
     "output_type": "stream",
     "text": [
      "# of clusters: 12\n",
      "# of clusters: 0.5083520849169678\n"
     ]
    }
   ],
   "source": [
    "print(\"# of clusters:\", silh.n_clusters_)\n",
    "print(\"# of clusters:\", silh.silhouette_score_)\n"
   ]
  },
  {
   "cell_type": "code",
   "execution_count": 27,
   "metadata": {
    "colab": {
     "base_uri": "https://localhost:8080/",
     "height": 376
    },
    "id": "_uRVaL7vurfL",
    "outputId": "dde7b597-730b-4eab-c22b-5b3aff4bcfc2"
   },
   "outputs": [
    {
     "data": {
      "image/png": "[encoded data removed]",
      "text/plain": [
       "<Figure size 576x396 with 1 Axes>"
      ]
     },
     "metadata": {},
     "output_type": "display_data"
    }
   ],
   "source": [
    "silh = SilhouetteVisualizer(KMeans(15, random_state = 10))\n",
    "silh.fit(users_data_scaled)\n",
    "silh.poof();"
   ]
  },
  {
   "cell_type": "code",
   "execution_count": 28,
   "metadata": {
    "colab": {
     "base_uri": "https://localhost:8080/"
    },
    "id": "HFhTTps2v8hY",
    "outputId": "e7f8c129-be48-4d81-9db4-713848b79f49"
   },
   "outputs": [
    {
     "name": "stdout",
     "output_type": "stream",
     "text": [
      "# of clusters: 15\n",
      "# of clusters: 0.5366978101336899\n"
     ]
    }
   ],
   "source": [
    "print(\"# of clusters:\", silh.n_clusters_)\n",
    "print(\"# of clusters:\", silh.silhouette_score_)\n"
   ]
  },
  {
   "cell_type": "markdown",
   "metadata": {
    "id": "J-NDklmL3KAE"
   },
   "source": [
    "## Clustering the users based on the optimal number of clusters"
   ]
  },
  {
   "cell_type": "code",
   "execution_count": 29,
   "metadata": {
    "colab": {
     "base_uri": "https://localhost:8080/"
    },
    "id": "fs1mAQbXvpKc",
    "outputId": "f85030ac-5f27-4976-826e-532bc516dd90"
   },
   "outputs": [
    {
     "data": {
      "text/plain": [
       "KMeans(n_clusters=12)"
      ]
     },
     "execution_count": 29,
     "metadata": {},
     "output_type": "execute_result"
    }
   ],
   "source": [
    "n_clusters = 12 # optimal number of clusters\n",
    "\n",
    "# fit the scaled data\n",
    "\n",
    "# defining the kmeans function with initialization as k-means++\n",
    "kmeans = KMeans(n_clusters = n_clusters)\n",
    "\n",
    "# fitting the k means algorithm on scaled data\n",
    "kmeans.fit(users_data_scaled)"
   ]
  },
  {
   "cell_type": "code",
   "execution_count": 30,
   "metadata": {
    "colab": {
     "base_uri": "https://localhost:8080/",
     "height": 235
    },
    "id": "EBwOyNLj2prJ",
    "outputId": "8de5b42d-afd8-414e-c97d-b76b9156f4ad"
   },
   "outputs": [
    {
     "name": "stdout",
     "output_type": "stream",
     "text": [
      "[2 5 7 ... 6 3 7]\n"
     ]
    }
   ],
   "source": [
    "# Predict the clusters\n",
    "\n",
    "y_kmeans = kmeans.predict(users_demographic_data_scaled)\n",
    "\n",
    "print(y_kmeans)\n",
    "\n",
    "# The first user_id has been predicted as belonging to cluster 2, the second as 1.."
   ]
  },
  {
   "cell_type": "code",
   "execution_count": 31,
   "metadata": {
    "id": "SDAbYUR72vWk"
   },
   "outputs": [
    {
     "data": {
      "image/png": "[encoded data removed]",
      "text/plain": [
       "<Figure size 576x396 with 1 Axes>"
      ]
     },
     "metadata": {},
     "output_type": "display_data"
    }
   ],
   "source": [
    "# Distribution of the clusters\n",
    "\n",
    "pd.DataFrame(Counter(y_kmeans).most_common()).set_index(0).plot.bar(legend=None)\n",
    "plt.title('Distribution of Clusters')\n",
    "plt.xlabel('Cluster ID')\n",
    "plt.ylabel('# of users belonging to the cluster');"
   ]
  },
  {
   "cell_type": "markdown",
   "metadata": {
    "id": "lQDSVed17NIJ"
   },
   "source": [
    "## Evaluating the clusters"
   ]
  },
  {
   "cell_type": "code",
   "execution_count": 32,
   "metadata": {
    "colab": {
     "base_uri": "https://localhost:8080/",
     "height": 332
    },
    "id": "rryaQ2Qg7Rg9",
    "outputId": "19013dbc-393f-42ab-91bc-7c16fea9ddbe"
   },
   "outputs": [
    {
     "data": {
      "text/html": [
       "<div>\n",
       "<style scoped>\n",
       "    .dataframe tbody tr th:only-of-type {\n",
       "        vertical-align: middle;\n",
       "    }\n",
       "\n",
       "    .dataframe tbody tr th {\n",
       "        vertical-align: top;\n",
       "    }\n",
       "\n",
       "    .dataframe thead th {\n",
       "        text-align: right;\n",
       "    }\n",
       "</style>\n",
       "<table border=\"1\" class=\"dataframe\">\n",
       "  <thead>\n",
       "    <tr style=\"text-align: right;\">\n",
       "      <th></th>\n",
       "      <th>user_id</th>\n",
       "      <th>number_transactions</th>\n",
       "      <th>total_amount_usd</th>\n",
       "      <th>job_management</th>\n",
       "      <th>job_technician</th>\n",
       "      <th>job_entrepreneur</th>\n",
       "      <th>job_blue-collar</th>\n",
       "      <th>job_retired</th>\n",
       "      <th>job_admin.</th>\n",
       "      <th>job_services</th>\n",
       "      <th>...</th>\n",
       "      <th>campaign</th>\n",
       "      <th>pdays</th>\n",
       "      <th>previous</th>\n",
       "      <th>term_deposit</th>\n",
       "      <th>device_desktop</th>\n",
       "      <th>device_tablet</th>\n",
       "      <th>single</th>\n",
       "      <th>age_group_encoded</th>\n",
       "      <th>month_joined</th>\n",
       "      <th>cluster_id</th>\n",
       "    </tr>\n",
       "  </thead>\n",
       "  <tbody>\n",
       "    <tr>\n",
       "      <th>0</th>\n",
       "      <td>9231c446-cb16-4b2b-a7f7-ddfc8b25aaf6</td>\n",
       "      <td>3.0</td>\n",
       "      <td>2143.00</td>\n",
       "      <td>1</td>\n",
       "      <td>0</td>\n",
       "      <td>0</td>\n",
       "      <td>0</td>\n",
       "      <td>0</td>\n",
       "      <td>0</td>\n",
       "      <td>0</td>\n",
       "      <td>...</td>\n",
       "      <td>1</td>\n",
       "      <td>-1</td>\n",
       "      <td>0</td>\n",
       "      <td>False</td>\n",
       "      <td>0</td>\n",
       "      <td>0</td>\n",
       "      <td>0</td>\n",
       "      <td>4</td>\n",
       "      <td>8</td>\n",
       "      <td>2</td>\n",
       "    </tr>\n",
       "    <tr>\n",
       "      <th>1</th>\n",
       "      <td>bb92765a-08de-4963-b432-496524b39157</td>\n",
       "      <td>0.0</td>\n",
       "      <td>1369.42</td>\n",
       "      <td>0</td>\n",
       "      <td>1</td>\n",
       "      <td>0</td>\n",
       "      <td>0</td>\n",
       "      <td>0</td>\n",
       "      <td>0</td>\n",
       "      <td>0</td>\n",
       "      <td>...</td>\n",
       "      <td>1</td>\n",
       "      <td>-1</td>\n",
       "      <td>0</td>\n",
       "      <td>False</td>\n",
       "      <td>1</td>\n",
       "      <td>0</td>\n",
       "      <td>1</td>\n",
       "      <td>2</td>\n",
       "      <td>7</td>\n",
       "      <td>5</td>\n",
       "    </tr>\n",
       "    <tr>\n",
       "      <th>2</th>\n",
       "      <td>573de577-49ef-42b9-83da-d3cfb817b5c1</td>\n",
       "      <td>2.0</td>\n",
       "      <td>2.00</td>\n",
       "      <td>0</td>\n",
       "      <td>0</td>\n",
       "      <td>1</td>\n",
       "      <td>0</td>\n",
       "      <td>0</td>\n",
       "      <td>0</td>\n",
       "      <td>0</td>\n",
       "      <td>...</td>\n",
       "      <td>1</td>\n",
       "      <td>-1</td>\n",
       "      <td>0</td>\n",
       "      <td>False</td>\n",
       "      <td>0</td>\n",
       "      <td>0</td>\n",
       "      <td>0</td>\n",
       "      <td>1</td>\n",
       "      <td>6</td>\n",
       "      <td>7</td>\n",
       "    </tr>\n",
       "  </tbody>\n",
       "</table>\n",
       "<p>3 rows × 34 columns</p>\n",
       "</div>"
      ],
      "text/plain": [
       "                                user_id  number_transactions  \\\n",
       "0  9231c446-cb16-4b2b-a7f7-ddfc8b25aaf6                  3.0   \n",
       "1  bb92765a-08de-4963-b432-496524b39157                  0.0   \n",
       "2  573de577-49ef-42b9-83da-d3cfb817b5c1                  2.0   \n",
       "\n",
       "   total_amount_usd  job_management  job_technician  job_entrepreneur  \\\n",
       "0           2143.00               1               0                 0   \n",
       "1           1369.42               0               1                 0   \n",
       "2              2.00               0               0                 1   \n",
       "\n",
       "   job_blue-collar  job_retired  job_admin.  job_services  ...  campaign  \\\n",
       "0                0            0           0             0  ...         1   \n",
       "1                0            0           0             0  ...         1   \n",
       "2                0            0           0             0  ...         1   \n",
       "\n",
       "   pdays  previous  term_deposit  device_desktop  device_tablet  single  \\\n",
       "0     -1         0         False               0              0       0   \n",
       "1     -1         0         False               1              0       1   \n",
       "2     -1         0         False               0              0       0   \n",
       "\n",
       "   age_group_encoded  month_joined  cluster_id  \n",
       "0                  4             8           2  \n",
       "1                  2             7           5  \n",
       "2                  1             6           7  \n",
       "\n",
       "[3 rows x 34 columns]"
      ]
     },
     "execution_count": 32,
     "metadata": {},
     "output_type": "execute_result"
    }
   ],
   "source": [
    "# concat the predicted clusters to original data set\n",
    "\n",
    "y_kmeans_df = pd.DataFrame(y_kmeans).rename(columns = {0: \"cluster_id\"}) # convert to df\n",
    "\n",
    "users_w_clusters = pd.concat([users_data, y_kmeans_df], axis = 1) # concat with original data set\n",
    "\n",
    "users_w_clusters.head(n = 3)\n",
    "\n",
    "# cluster_id is the last column "
   ]
  },
  {
   "cell_type": "code",
   "execution_count": 34,
   "metadata": {
    "colab": {
     "base_uri": "https://localhost:8080/",
     "height": 334
    },
    "id": "lAFA5O4a9c0u",
    "outputId": "ba3f3f50-5b6a-48c6-984a-e01a50adee27"
   },
   "outputs": [
    {
     "data": {
      "text/html": [
       "<div>\n",
       "<style scoped>\n",
       "    .dataframe tbody tr th:only-of-type {\n",
       "        vertical-align: middle;\n",
       "    }\n",
       "\n",
       "    .dataframe tbody tr th {\n",
       "        vertical-align: top;\n",
       "    }\n",
       "\n",
       "    .dataframe thead th {\n",
       "        text-align: right;\n",
       "    }\n",
       "</style>\n",
       "<table border=\"1\" class=\"dataframe\">\n",
       "  <thead>\n",
       "    <tr style=\"text-align: right;\">\n",
       "      <th></th>\n",
       "      <th>number_transactions</th>\n",
       "      <th>total_amount_usd</th>\n",
       "      <th>job_management</th>\n",
       "      <th>job_technician</th>\n",
       "      <th>job_entrepreneur</th>\n",
       "      <th>job_blue-collar</th>\n",
       "      <th>job_retired</th>\n",
       "      <th>job_admin.</th>\n",
       "      <th>job_services</th>\n",
       "      <th>job_self-employed</th>\n",
       "      <th>...</th>\n",
       "      <th>duration</th>\n",
       "      <th>campaign</th>\n",
       "      <th>pdays</th>\n",
       "      <th>previous</th>\n",
       "      <th>device_desktop</th>\n",
       "      <th>device_tablet</th>\n",
       "      <th>single</th>\n",
       "      <th>age_group_encoded</th>\n",
       "      <th>month_joined</th>\n",
       "      <th>cluster_id</th>\n",
       "    </tr>\n",
       "  </thead>\n",
       "  <tbody>\n",
       "    <tr>\n",
       "      <th>count</th>\n",
       "      <td>1301.000000</td>\n",
       "      <td>1301.000000</td>\n",
       "      <td>1301.0</td>\n",
       "      <td>1301.0</td>\n",
       "      <td>1301.0</td>\n",
       "      <td>1301.0</td>\n",
       "      <td>1301.0</td>\n",
       "      <td>1301.0</td>\n",
       "      <td>1301.0</td>\n",
       "      <td>1301.0</td>\n",
       "      <td>...</td>\n",
       "      <td>1301.000000</td>\n",
       "      <td>1301.000000</td>\n",
       "      <td>1301.000000</td>\n",
       "      <td>1301.000000</td>\n",
       "      <td>1301.000000</td>\n",
       "      <td>1301.000000</td>\n",
       "      <td>1301.000000</td>\n",
       "      <td>1301.000000</td>\n",
       "      <td>1301.000000</td>\n",
       "      <td>1301.0</td>\n",
       "    </tr>\n",
       "    <tr>\n",
       "      <th>mean</th>\n",
       "      <td>2.957725</td>\n",
       "      <td>1537.449577</td>\n",
       "      <td>0.0</td>\n",
       "      <td>0.0</td>\n",
       "      <td>0.0</td>\n",
       "      <td>0.0</td>\n",
       "      <td>0.0</td>\n",
       "      <td>0.0</td>\n",
       "      <td>0.0</td>\n",
       "      <td>0.0</td>\n",
       "      <td>...</td>\n",
       "      <td>287.397387</td>\n",
       "      <td>2.432744</td>\n",
       "      <td>34.200615</td>\n",
       "      <td>0.467333</td>\n",
       "      <td>0.267487</td>\n",
       "      <td>0.121445</td>\n",
       "      <td>0.308224</td>\n",
       "      <td>2.166026</td>\n",
       "      <td>6.454266</td>\n",
       "      <td>1.0</td>\n",
       "    </tr>\n",
       "    <tr>\n",
       "      <th>std</th>\n",
       "      <td>3.601140</td>\n",
       "      <td>2924.518843</td>\n",
       "      <td>0.0</td>\n",
       "      <td>0.0</td>\n",
       "      <td>0.0</td>\n",
       "      <td>0.0</td>\n",
       "      <td>0.0</td>\n",
       "      <td>0.0</td>\n",
       "      <td>0.0</td>\n",
       "      <td>0.0</td>\n",
       "      <td>...</td>\n",
       "      <td>286.218732</td>\n",
       "      <td>2.634879</td>\n",
       "      <td>94.494382</td>\n",
       "      <td>1.538196</td>\n",
       "      <td>0.442818</td>\n",
       "      <td>0.326769</td>\n",
       "      <td>0.461937</td>\n",
       "      <td>1.025872</td>\n",
       "      <td>3.500388</td>\n",
       "      <td>0.0</td>\n",
       "    </tr>\n",
       "    <tr>\n",
       "      <th>min</th>\n",
       "      <td>0.000000</td>\n",
       "      <td>-1270.000000</td>\n",
       "      <td>0.0</td>\n",
       "      <td>0.0</td>\n",
       "      <td>0.0</td>\n",
       "      <td>0.0</td>\n",
       "      <td>0.0</td>\n",
       "      <td>0.0</td>\n",
       "      <td>0.0</td>\n",
       "      <td>0.0</td>\n",
       "      <td>...</td>\n",
       "      <td>2.000000</td>\n",
       "      <td>1.000000</td>\n",
       "      <td>-1.000000</td>\n",
       "      <td>0.000000</td>\n",
       "      <td>0.000000</td>\n",
       "      <td>0.000000</td>\n",
       "      <td>0.000000</td>\n",
       "      <td>0.000000</td>\n",
       "      <td>1.000000</td>\n",
       "      <td>1.0</td>\n",
       "    </tr>\n",
       "    <tr>\n",
       "      <th>25%</th>\n",
       "      <td>2.000000</td>\n",
       "      <td>219.000000</td>\n",
       "      <td>0.0</td>\n",
       "      <td>0.0</td>\n",
       "      <td>0.0</td>\n",
       "      <td>0.0</td>\n",
       "      <td>0.0</td>\n",
       "      <td>0.0</td>\n",
       "      <td>0.0</td>\n",
       "      <td>0.0</td>\n",
       "      <td>...</td>\n",
       "      <td>109.000000</td>\n",
       "      <td>1.000000</td>\n",
       "      <td>-1.000000</td>\n",
       "      <td>0.000000</td>\n",
       "      <td>0.000000</td>\n",
       "      <td>0.000000</td>\n",
       "      <td>0.000000</td>\n",
       "      <td>1.000000</td>\n",
       "      <td>3.000000</td>\n",
       "      <td>1.0</td>\n",
       "    </tr>\n",
       "    <tr>\n",
       "      <th>50%</th>\n",
       "      <td>2.000000</td>\n",
       "      <td>1047.000000</td>\n",
       "      <td>0.0</td>\n",
       "      <td>0.0</td>\n",
       "      <td>0.0</td>\n",
       "      <td>0.0</td>\n",
       "      <td>0.0</td>\n",
       "      <td>0.0</td>\n",
       "      <td>0.0</td>\n",
       "      <td>0.0</td>\n",
       "      <td>...</td>\n",
       "      <td>200.000000</td>\n",
       "      <td>2.000000</td>\n",
       "      <td>-1.000000</td>\n",
       "      <td>0.000000</td>\n",
       "      <td>0.000000</td>\n",
       "      <td>0.000000</td>\n",
       "      <td>0.000000</td>\n",
       "      <td>2.000000</td>\n",
       "      <td>6.000000</td>\n",
       "      <td>1.0</td>\n",
       "    </tr>\n",
       "    <tr>\n",
       "      <th>75%</th>\n",
       "      <td>3.000000</td>\n",
       "      <td>1369.420000</td>\n",
       "      <td>0.0</td>\n",
       "      <td>0.0</td>\n",
       "      <td>0.0</td>\n",
       "      <td>0.0</td>\n",
       "      <td>0.0</td>\n",
       "      <td>0.0</td>\n",
       "      <td>0.0</td>\n",
       "      <td>0.0</td>\n",
       "      <td>...</td>\n",
       "      <td>360.000000</td>\n",
       "      <td>3.000000</td>\n",
       "      <td>-1.000000</td>\n",
       "      <td>0.000000</td>\n",
       "      <td>1.000000</td>\n",
       "      <td>0.000000</td>\n",
       "      <td>1.000000</td>\n",
       "      <td>3.000000</td>\n",
       "      <td>10.000000</td>\n",
       "      <td>1.0</td>\n",
       "    </tr>\n",
       "    <tr>\n",
       "      <th>max</th>\n",
       "      <td>20.000000</td>\n",
       "      <td>44134.000000</td>\n",
       "      <td>0.0</td>\n",
       "      <td>0.0</td>\n",
       "      <td>0.0</td>\n",
       "      <td>0.0</td>\n",
       "      <td>0.0</td>\n",
       "      <td>0.0</td>\n",
       "      <td>0.0</td>\n",
       "      <td>0.0</td>\n",
       "      <td>...</td>\n",
       "      <td>3025.000000</td>\n",
       "      <td>35.000000</td>\n",
       "      <td>871.000000</td>\n",
       "      <td>17.000000</td>\n",
       "      <td>1.000000</td>\n",
       "      <td>1.000000</td>\n",
       "      <td>1.000000</td>\n",
       "      <td>5.000000</td>\n",
       "      <td>12.000000</td>\n",
       "      <td>1.0</td>\n",
       "    </tr>\n",
       "  </tbody>\n",
       "</table>\n",
       "<p>8 rows × 29 columns</p>\n",
       "</div>"
      ],
      "text/plain": [
       "       number_transactions  total_amount_usd  job_management  job_technician  \\\n",
       "count          1301.000000       1301.000000          1301.0          1301.0   \n",
       "mean              2.957725       1537.449577             0.0             0.0   \n",
       "std               3.601140       2924.518843             0.0             0.0   \n",
       "min               0.000000      -1270.000000             0.0             0.0   \n",
       "25%               2.000000        219.000000             0.0             0.0   \n",
       "50%               2.000000       1047.000000             0.0             0.0   \n",
       "75%               3.000000       1369.420000             0.0             0.0   \n",
       "max              20.000000      44134.000000             0.0             0.0   \n",
       "\n",
       "       job_entrepreneur  job_blue-collar  job_retired  job_admin.  \\\n",
       "count            1301.0           1301.0       1301.0      1301.0   \n",
       "mean                0.0              0.0          0.0         0.0   \n",
       "std                 0.0              0.0          0.0         0.0   \n",
       "min                 0.0              0.0          0.0         0.0   \n",
       "25%                 0.0              0.0          0.0         0.0   \n",
       "50%                 0.0              0.0          0.0         0.0   \n",
       "75%                 0.0              0.0          0.0         0.0   \n",
       "max                 0.0              0.0          0.0         0.0   \n",
       "\n",
       "       job_services  job_self-employed  ...     duration     campaign  \\\n",
       "count        1301.0             1301.0  ...  1301.000000  1301.000000   \n",
       "mean            0.0                0.0  ...   287.397387     2.432744   \n",
       "std             0.0                0.0  ...   286.218732     2.634879   \n",
       "min             0.0                0.0  ...     2.000000     1.000000   \n",
       "25%             0.0                0.0  ...   109.000000     1.000000   \n",
       "50%             0.0                0.0  ...   200.000000     2.000000   \n",
       "75%             0.0                0.0  ...   360.000000     3.000000   \n",
       "max             0.0                0.0  ...  3025.000000    35.000000   \n",
       "\n",
       "             pdays     previous  device_desktop  device_tablet       single  \\\n",
       "count  1301.000000  1301.000000     1301.000000    1301.000000  1301.000000   \n",
       "mean     34.200615     0.467333        0.267487       0.121445     0.308224   \n",
       "std      94.494382     1.538196        0.442818       0.326769     0.461937   \n",
       "min      -1.000000     0.000000        0.000000       0.000000     0.000000   \n",
       "25%      -1.000000     0.000000        0.000000       0.000000     0.000000   \n",
       "50%      -1.000000     0.000000        0.000000       0.000000     0.000000   \n",
       "75%      -1.000000     0.000000        1.000000       0.000000     1.000000   \n",
       "max     871.000000    17.000000        1.000000       1.000000     1.000000   \n",
       "\n",
       "       age_group_encoded  month_joined  cluster_id  \n",
       "count        1301.000000   1301.000000      1301.0  \n",
       "mean            2.166026      6.454266         1.0  \n",
       "std             1.025872      3.500388         0.0  \n",
       "min             0.000000      1.000000         1.0  \n",
       "25%             1.000000      3.000000         1.0  \n",
       "50%             2.000000      6.000000         1.0  \n",
       "75%             3.000000     10.000000         1.0  \n",
       "max             5.000000     12.000000         1.0  \n",
       "\n",
       "[8 rows x 29 columns]"
      ]
     },
     "execution_count": 34,
     "metadata": {},
     "output_type": "execute_result"
    }
   ],
   "source": [
    "# Cluster 1\n",
    "\n",
    "users_w_clusters[users_w_clusters.cluster_id == 1].describe()"
   ]
  },
  {
   "cell_type": "markdown",
   "metadata": {
    "id": "3gOVhXj94qzJ"
   },
   "source": [
    "### Visualize the users with predicted clusters"
   ]
  },
  {
   "cell_type": "code",
   "execution_count": 35,
   "metadata": {
    "id": "im_qrtm12V61"
   },
   "outputs": [],
   "source": [
    " def visualize(y_kmeans, data_scaled, n_clusters):\n",
    "        \"\"\"\n",
    "        Visualize the users with predicted clusters.\n",
    "        \n",
    "        Run PCA on the transposed data and reduce the dimnensions in pca_num_components dimensions\n",
    "        \n",
    "        \"\"\"\n",
    "        \n",
    "        reduced_data = PCA(n_components = 2).fit_transform(data_scaled)\n",
    "        results = pd.DataFrame(reduced_data, columns = ['pca1','pca2'])\n",
    "        results = pd.concat([results, pd.DataFrame(y_kmeans)], axis = 1).rename(columns={0 : \"cluster\"})\n",
    "\n",
    "        cmap = sns.color_palette(\"Set1\", n_colors = n_clusters, desat = .5)\n",
    "\n",
    "        sns.scatterplot(x = 'pca1', y = 'pca2', hue = 'cluster', data = results, palette = cmap, legend = False)\n",
    "        plt.title('K-means Clustering with 2 dimensions')\n",
    "        plt.show();\n",
    "        "
   ]
  },
  {
   "cell_type": "code",
   "execution_count": 36,
   "metadata": {
    "colab": {
     "base_uri": "https://localhost:8080/",
     "height": 295
    },
    "id": "xnGHC6aj4WN4",
    "outputId": "2d0ad5bd-bfc8-4264-c5db-8249ee74e5ff"
   },
   "outputs": [
    {
     "data": {
      "image/png": "[encoded data removed]",
      "text/plain": [
       "<Figure size 576x396 with 1 Axes>"
      ]
     },
     "metadata": {},
     "output_type": "display_data"
    }
   ],
   "source": [
    "visualize(y_kmeans, users_demographic_data_scaled, n_clusters)"
   ]
  }
 ],
 "metadata": {
  "colab": {
   "provenance": []
  },
  "kernelspec": {
   "display_name": "Python 3",
   "language": "python",
   "name": "python3"
  },
  "language_info": {
   "codemirror_mode": {
    "name": "ipython",
    "version": 3
   },
   "file_extension": ".py",
   "mimetype": "text/x-python",
   "name": "python",
   "nbconvert_exporter": "python",
   "pygments_lexer": "ipython3",
   "version": "3.8.10"
  }
 },
 "nbformat": 4,
 "nbformat_minor": 1
}
